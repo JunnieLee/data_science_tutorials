{
  "nbformat": 4,
  "nbformat_minor": 0,
  "metadata": {
    "colab": {
      "name": "Intro_to_DataScience_1.ipynb",
      "version": "0.3.2",
      "provenance": [],
      "collapsed_sections": [],
      "include_colab_link": true
    },
    "kernelspec": {
      "name": "python3",
      "display_name": "Python 3"
    }
  },
  "cells": [
    {
      "cell_type": "markdown",
      "metadata": {
        "id": "view-in-github",
        "colab_type": "text"
      },
      "source": [
        "<a href=\"https://colab.research.google.com/github/JunnieLee/data_science_tutorials/blob/master/Intro_to_DataScience_1.ipynb\" target=\"_parent\"><img src=\"https://colab.research.google.com/assets/colab-badge.svg\" alt=\"Open In Colab\"/></a>"
      ]
    },
    {
      "metadata": {
        "id": "be39RAvKASt9",
        "colab_type": "text"
      },
      "cell_type": "markdown",
      "source": [
        "## Numpy basics"
      ]
    },
    {
      "metadata": {
        "id": "_N19Y1FS7p5h",
        "colab_type": "code",
        "colab": {
          "base_uri": "https://localhost:8080/",
          "height": 84
        },
        "outputId": "1b534498-30cf-4fbb-da60-8d053ef71bf8"
      },
      "cell_type": "code",
      "source": [
        "import numpy as np\n",
        "\n",
        "array = np.array([1, 4, 5, 8], float)\n",
        "print(array)\n",
        "print(\"\")\n",
        "\n",
        "array = np.array([[1, 2, 3], [4, 5, 6]], float)  # a 2D array/Matrix\n",
        "print(array)"
      ],
      "execution_count": 3,
      "outputs": [
        {
          "output_type": "stream",
          "text": [
            "[1. 4. 5. 8.]\n",
            "\n",
            "[[1. 2. 3.]\n",
            " [4. 5. 6.]]\n"
          ],
          "name": "stdout"
        }
      ]
    },
    {
      "metadata": {
        "id": "jfOX_IC6_z6A",
        "colab_type": "text"
      },
      "cell_type": "markdown",
      "source": [
        "The array object class is the foundation of Numpy, and Numpy arrays are like\n",
        "lists in Python, except that every thing inside an array must be of the\n",
        "same type, like int or float."
      ]
    },
    {
      "metadata": {
        "id": "4vVo_wh0_haw",
        "colab_type": "code",
        "colab": {
          "base_uri": "https://localhost:8080/",
          "height": 134
        },
        "outputId": "1236f16f-a382-47fa-8262-738172668991"
      },
      "cell_type": "code",
      "source": [
        "array = np.array([1, 4, 5, 8], float)\n",
        "print(array)\n",
        "print(\"\")\n",
        "print(array[1])\n",
        "print(\"\")\n",
        "print(array[:2])\n",
        "print(\"\")\n",
        "array[1] = 5.0\n",
        "print(array[1])"
      ],
      "execution_count": 4,
      "outputs": [
        {
          "output_type": "stream",
          "text": [
            "[1. 4. 5. 8.]\n",
            "\n",
            "4.0\n",
            "\n",
            "[1. 4.]\n",
            "\n",
            "5.0\n"
          ],
          "name": "stdout"
        }
      ]
    },
    {
      "metadata": {
        "id": "CV5QJQbB_48l",
        "colab_type": "text"
      },
      "cell_type": "markdown",
      "source": [
        "You can index, slice, and manipulate a Numpy array much like you would with a Python list."
      ]
    },
    {
      "metadata": {
        "id": "nrR6Xy0CAOvC",
        "colab_type": "code",
        "colab": {
          "base_uri": "https://localhost:8080/",
          "height": 168
        },
        "outputId": "e62438b0-3ee8-489e-89cf-41513db67017"
      },
      "cell_type": "code",
      "source": [
        "# Matrix indexing and slicing in action\n",
        "\n",
        "two_D_array = np.array([[1, 2, 3], [4, 5, 6]], float)\n",
        "print(two_D_array)\n",
        "print(\"\")\n",
        "print(two_D_array[1][1])\n",
        "print(\"\")\n",
        "print(two_D_array[1, :])\n",
        "print(\"\")\n",
        "print(two_D_array[:, 2])\n",
        "print(\"\")"
      ],
      "execution_count": 5,
      "outputs": [
        {
          "output_type": "stream",
          "text": [
            "[[1. 2. 3.]\n",
            " [4. 5. 6.]]\n",
            "\n",
            "5.0\n",
            "\n",
            "[4. 5. 6.]\n",
            "\n",
            "[3. 6.]\n",
            "\n"
          ],
          "name": "stdout"
        }
      ]
    },
    {
      "metadata": {
        "id": "o3ppf6iUAsb2",
        "colab_type": "code",
        "colab": {
          "base_uri": "https://localhost:8080/",
          "height": 101
        },
        "outputId": "24d4dee7-d381-44d5-fee9-7da8a97326c4"
      },
      "cell_type": "code",
      "source": [
        "# Here are some arithmetic operations that you can do with Numpy arrays\n",
        "\n",
        "array_1 = np.array([1, 2, 3], float)\n",
        "array_2 = np.array([5, 2, 6], float)\n",
        "print(array_1 + array_2)\n",
        "print(\"\")\n",
        "print(array_1 - array_2)\n",
        "print(\"\")\n",
        "print(array_1 * array_2)"
      ],
      "execution_count": 6,
      "outputs": [
        {
          "output_type": "stream",
          "text": [
            "[6. 4. 9.]\n",
            "\n",
            "[-4.  0. -3.]\n",
            "\n",
            "[ 5.  4. 18.]\n"
          ],
          "name": "stdout"
        }
      ]
    },
    {
      "metadata": {
        "id": "mv8SgEnCBHt6",
        "colab_type": "code",
        "colab": {
          "base_uri": "https://localhost:8080/",
          "height": 151
        },
        "outputId": "05f97604-2751-4bbe-8e32-a1d6db90d0fd"
      },
      "cell_type": "code",
      "source": [
        "array_1 = np.array([[1, 2], [3, 4]], float)\n",
        "array_2 = np.array([[5, 6], [7, 8]], float)\n",
        "\n",
        "print(array_1 + array_2)\n",
        "print(\"\")\n",
        "print(array_1 - array_2)\n",
        "print(\"\")\n",
        "print(array_1 * array_2)"
      ],
      "execution_count": 7,
      "outputs": [
        {
          "output_type": "stream",
          "text": [
            "[[ 6.  8.]\n",
            " [10. 12.]]\n",
            "\n",
            "[[-4. -4.]\n",
            " [-4. -4.]]\n",
            "\n",
            "[[ 5. 12.]\n",
            " [21. 32.]]\n"
          ],
          "name": "stdout"
        }
      ]
    },
    {
      "metadata": {
        "id": "zVnE9BzbBndx",
        "colab_type": "text"
      },
      "cell_type": "markdown",
      "source": [
        "In addition to the standard arthimetic operations, Numpy also has a range of\n",
        "other mathematical operations that you can apply to Numpy arrays, such as\n",
        "mean and dot product. --> numpy에서 vector와 matrix의 product를 구하기 위해서 dot() 함수를 사용한다. "
      ]
    },
    {
      "metadata": {
        "id": "Mk2FskEBBTJd",
        "colab_type": "code",
        "colab": {
          "base_uri": "https://localhost:8080/",
          "height": 84
        },
        "outputId": "eeb1eca6-8c22-4625-db5d-e159d7e854fb"
      },
      "cell_type": "code",
      "source": [
        "array_1 = np.array([1, 2, 3], float)\n",
        "array_2 = np.array([[6], [7], [8]], float)\n",
        "\n",
        "print(np.mean(array_1))\n",
        "print(np.mean(array_2))\n",
        "print(\"\")\n",
        "print(np.dot(array_1, array_2))"
      ],
      "execution_count": 8,
      "outputs": [
        {
          "output_type": "stream",
          "text": [
            "2.0\n",
            "7.0\n",
            "\n",
            "[44.]\n"
          ],
          "name": "stdout"
        }
      ]
    },
    {
      "metadata": {
        "id": "QbukIO63Cuuc",
        "colab_type": "text"
      },
      "cell_type": "markdown",
      "source": [
        "# Pandas basics"
      ]
    },
    {
      "metadata": {
        "id": "CVKur0HwEoHZ",
        "colab_type": "text"
      },
      "cell_type": "markdown",
      "source": [
        "* series"
      ]
    },
    {
      "metadata": {
        "id": "jP3tvhUTDbrA",
        "colab_type": "text"
      },
      "cell_type": "markdown",
      "source": [
        "You can think of Series as an one-dimensional object that is similar to\n",
        "an array, list, or column in a database. By default, it will assign an\n",
        "index label to each item in the Series ranging from 0 to N, where N is\n",
        "the number of items in the Series minus one."
      ]
    },
    {
      "metadata": {
        "id": "EOsm9p_HB1b0",
        "colab_type": "code",
        "colab": {
          "base_uri": "https://localhost:8080/",
          "height": 118
        },
        "outputId": "bcd7da87-c7c7-4672-d373-abb8006cb460"
      },
      "cell_type": "code",
      "source": [
        "import pandas as pd\n",
        "\n",
        "series = pd.Series(['Dave', 'Cheng-Han', 'Udacity', 42, -1789710578])\n",
        "print(series)"
      ],
      "execution_count": 10,
      "outputs": [
        {
          "output_type": "stream",
          "text": [
            "0           Dave\n",
            "1      Cheng-Han\n",
            "2        Udacity\n",
            "3             42\n",
            "4    -1789710578\n",
            "dtype: object\n"
          ],
          "name": "stdout"
        }
      ]
    },
    {
      "metadata": {
        "id": "AqtWfkliDq24",
        "colab_type": "text"
      },
      "cell_type": "markdown",
      "source": [
        "You can also manually assign indices to the items in the Series when\n",
        "creating the series"
      ]
    },
    {
      "metadata": {
        "id": "OCwZuYzmDjAs",
        "colab_type": "code",
        "colab": {
          "base_uri": "https://localhost:8080/",
          "height": 101
        },
        "outputId": "2fd1a95b-a2bc-4914-928e-239301fda642"
      },
      "cell_type": "code",
      "source": [
        "series = pd.Series(['Dave', 'Cheng-Han', 359, 9001],\n",
        "                       index=['Instructor', 'Curriculum Manager',\n",
        "                              'Course Number', 'Power Level'])\n",
        "\n",
        "print(series)"
      ],
      "execution_count": 11,
      "outputs": [
        {
          "output_type": "stream",
          "text": [
            "Instructor                 Dave\n",
            "Curriculum Manager    Cheng-Han\n",
            "Course Number               359\n",
            "Power Level                9001\n",
            "dtype: object\n"
          ],
          "name": "stdout"
        }
      ]
    },
    {
      "metadata": {
        "id": "ZltphwdfD4j8",
        "colab_type": "text"
      },
      "cell_type": "markdown",
      "source": [
        "You can use index to select specific items from the Series"
      ]
    },
    {
      "metadata": {
        "id": "YUDw21A0DwUE",
        "colab_type": "code",
        "colab": {
          "base_uri": "https://localhost:8080/",
          "height": 118
        },
        "outputId": "13fa4b3f-c9b5-4539-b302-e89c2ff6a752"
      },
      "cell_type": "code",
      "source": [
        "series = pd.Series(['Dave', 'Cheng-Han', 359, 9001],\n",
        "                       index=['Instructor', 'Curriculum Manager',\n",
        "                              'Course Number', 'Power Level'])\n",
        "\n",
        "print(series['Instructor'])\n",
        "print(\"\")\n",
        "print(series[['Instructor', 'Curriculum Manager', 'Course Number']])"
      ],
      "execution_count": 12,
      "outputs": [
        {
          "output_type": "stream",
          "text": [
            "Dave\n",
            "\n",
            "Instructor                 Dave\n",
            "Curriculum Manager    Cheng-Han\n",
            "Course Number               359\n",
            "dtype: object\n"
          ],
          "name": "stdout"
        }
      ]
    },
    {
      "metadata": {
        "id": "Hcr4Nr1kEIHj",
        "colab_type": "text"
      },
      "cell_type": "markdown",
      "source": [
        "You can also use boolean operators to select specific items from the Series"
      ]
    },
    {
      "metadata": {
        "id": "MDqHYJS5EDw9",
        "colab_type": "code",
        "colab": {
          "base_uri": "https://localhost:8080/",
          "height": 185
        },
        "outputId": "f2a78f04-f5ff-4cee-9b59-5ea5f70dee5c"
      },
      "cell_type": "code",
      "source": [
        "cuteness = pd.Series([1, 2, 3, 4, 5], index=['Cockroach', 'Fish', 'Mini Pig',\n",
        "                                                 'Puppy', 'Kitten'])\n",
        "\n",
        "print(cuteness > 3)\n",
        "print(\"\")\n",
        "print(cuteness[cuteness > 3])"
      ],
      "execution_count": 13,
      "outputs": [
        {
          "output_type": "stream",
          "text": [
            "Cockroach    False\n",
            "Fish         False\n",
            "Mini Pig     False\n",
            "Puppy         True\n",
            "Kitten        True\n",
            "dtype: bool\n",
            "\n",
            "Puppy     4\n",
            "Kitten    5\n",
            "dtype: int64\n"
          ],
          "name": "stdout"
        }
      ]
    },
    {
      "metadata": {
        "id": "G7Dzd9KfEqpl",
        "colab_type": "text"
      },
      "cell_type": "markdown",
      "source": [
        "* dataframe"
      ]
    },
    {
      "metadata": {
        "id": "C6zC9MpuExYC",
        "colab_type": "text"
      },
      "cell_type": "markdown",
      "source": [
        "You can think of a Dataframe as something with rows and columns. It is\n",
        "similar to a spreadsheet, a database table.\n",
        "\n",
        "\n",
        "\n",
        "\n",
        "To create a dataframe, you can pass a dictionary of lists to the Dataframe\n",
        "constructor:\n",
        "\n",
        "\n",
        "1) The key of the dictionary will be the column name\n",
        "\n",
        "\n",
        "2) The associating list will be the values within that column."
      ]
    },
    {
      "metadata": {
        "id": "zklFAe_-ES19",
        "colab_type": "code",
        "colab": {
          "base_uri": "https://localhost:8080/",
          "height": 168
        },
        "outputId": "3aec174d-6e66-44b1-a850-df8e86b5d43d"
      },
      "cell_type": "code",
      "source": [
        "data = {'year': [2010, 2011, 2012, 2011, 2012, 2010, 2011, 2012],\n",
        "        'team': ['Bears', 'Bears', 'Bears', 'Packers', 'Packers', 'Lions','Lions', 'Lions'],\n",
        "        'wins': [11, 8, 10, 15, 11, 6, 10, 4],\n",
        "        'losses': [5, 8, 6, 1, 5, 10, 6, 12]}\n",
        "\n",
        "\n",
        "football = pd.DataFrame(data)\n",
        "print(football)"
      ],
      "execution_count": 14,
      "outputs": [
        {
          "output_type": "stream",
          "text": [
            "   losses     team  wins  year\n",
            "0       5    Bears    11  2010\n",
            "1       8    Bears     8  2011\n",
            "2       6    Bears    10  2012\n",
            "3       1  Packers    15  2011\n",
            "4       5  Packers    11  2012\n",
            "5      10    Lions     6  2010\n",
            "6       6    Lions    10  2011\n",
            "7      12    Lions     4  2012\n"
          ],
          "name": "stdout"
        }
      ]
    },
    {
      "metadata": {
        "id": "guw93-oIGf_D",
        "colab_type": "text"
      },
      "cell_type": "markdown",
      "source": [
        "Pandas also has various functions that will help you understand some basic\n",
        "information about your data frame. Some of these functions are:\n",
        "- 1) dtypes: to get the datatype for each column\n",
        "- 2) describe: useful for seeing basic statistics of the dataframe's numerical\n",
        "   columns\n",
        "- 3) head: displays the first five rows of the dataset\n",
        "- 4) tail: displays the last five rows of the dataset"
      ]
    },
    {
      "metadata": {
        "id": "lxIYtbdmGUFZ",
        "colab_type": "code",
        "colab": {
          "base_uri": "https://localhost:8080/",
          "height": 504
        },
        "outputId": "72845803-69be-402d-a6f2-1357bde8433a"
      },
      "cell_type": "code",
      "source": [
        "data = {'year': [2010, 2011, 2012, 2011, 2012, 2010, 2011, 2012],\n",
        "        'team': ['Bears', 'Bears', 'Bears', 'Packers', 'Packers', 'Lions', 'Lions', 'Lions'],\n",
        "        'wins': [11, 8, 10, 15, 11, 6, 10, 4],\n",
        "        'losses': [5, 8, 6, 1, 5, 10, 6, 12]}\n",
        "\n",
        "football = pd.DataFrame(data)\n",
        "print(football.dtypes)\n",
        "print(\"\")\n",
        "print(football.describe())\n",
        "print(\"\")\n",
        "print(football.head())\n",
        "print(\"\")\n",
        "print(football.tail())"
      ],
      "execution_count": 15,
      "outputs": [
        {
          "output_type": "stream",
          "text": [
            "losses     int64\n",
            "team      object\n",
            "wins       int64\n",
            "year       int64\n",
            "dtype: object\n",
            "\n",
            "          losses       wins         year\n",
            "count   8.000000   8.000000     8.000000\n",
            "mean    6.625000   9.375000  2011.125000\n",
            "std     3.377975   3.377975     0.834523\n",
            "min     1.000000   4.000000  2010.000000\n",
            "25%     5.000000   7.500000  2010.750000\n",
            "50%     6.000000  10.000000  2011.000000\n",
            "75%     8.500000  11.000000  2012.000000\n",
            "max    12.000000  15.000000  2012.000000\n",
            "\n",
            "   losses     team  wins  year\n",
            "0       5    Bears    11  2010\n",
            "1       8    Bears     8  2011\n",
            "2       6    Bears    10  2012\n",
            "3       1  Packers    15  2011\n",
            "4       5  Packers    11  2012\n",
            "\n",
            "   losses     team  wins  year\n",
            "3       1  Packers    15  2011\n",
            "4       5  Packers    11  2012\n",
            "5      10    Lions     6  2010\n",
            "6       6    Lions    10  2011\n",
            "7      12    Lions     4  2012\n"
          ],
          "name": "stdout"
        }
      ]
    },
    {
      "metadata": {
        "id": "bSG8cmVvIQ0a",
        "colab_type": "text"
      },
      "cell_type": "markdown",
      "source": [
        "## Create a DataFrame"
      ]
    },
    {
      "metadata": {
        "id": "Sj14eWzAG-DK",
        "colab_type": "code",
        "colab": {}
      },
      "cell_type": "code",
      "source": [
        "from pandas import DataFrame, Series\n",
        "\n",
        "def create_dataframe():\n",
        "\n",
        "    countries = ['Russian Fed.', 'Norway', 'Canada', 'United States',\n",
        "                 'Netherlands', 'Germany', 'Switzerland', 'Belarus',\n",
        "                 'Austria', 'France', 'Poland', 'China', 'Korea', \n",
        "                 'Sweden', 'Czech Republic', 'Slovenia', 'Japan',\n",
        "                 'Finland', 'Great Britain', 'Ukraine', 'Slovakia',\n",
        "                 'Italy', 'Latvia', 'Australia', 'Croatia', 'Kazakhstan']\n",
        "\n",
        "    gold = [13, 11, 10, 9, 8, 8, 6, 5, 4, 4, 4, 3, 3, 2, 2, 2, 1, 1, 1, 1, 1, 0, 0, 0, 0, 0]\n",
        "    silver = [11, 5, 10, 7, 7, 6, 3, 0, 8, 4, 1, 4, 3, 7, 4, 2, 4, 3, 1, 0, 0, 2, 2, 2, 1, 0]\n",
        "    bronze = [9, 10, 5, 12, 9, 5, 2, 1, 5, 7, 1, 2, 2, 6, 2, 4, 3, 1, 2, 1, 0, 6, 2, 1, 0, 1]\n",
        "    \n",
        "    olympic_medal_counts = {'country_name':Series(countries), 'gold':Series(gold), \\\n",
        "                            'silver':Series(silver), 'bronze':Series(bronze)}\n",
        "\n",
        "    olympic_medal_counts_df = DataFrame(olympic_medal_counts)\n",
        "    \n",
        "    return olympic_medal_counts_df"
      ],
      "execution_count": 0,
      "outputs": []
    },
    {
      "metadata": {
        "id": "c_ogDFDxJUuX",
        "colab_type": "code",
        "colab": {
          "base_uri": "https://localhost:8080/",
          "height": 817
        },
        "outputId": "1ce03135-eddd-4df6-f6e8-f3999e1d33b9"
      },
      "cell_type": "code",
      "source": [
        "create_dataframe()"
      ],
      "execution_count": 24,
      "outputs": [
        {
          "output_type": "execute_result",
          "data": {
            "text/html": [
              "<div>\n",
              "<style scoped>\n",
              "    .dataframe tbody tr th:only-of-type {\n",
              "        vertical-align: middle;\n",
              "    }\n",
              "\n",
              "    .dataframe tbody tr th {\n",
              "        vertical-align: top;\n",
              "    }\n",
              "\n",
              "    .dataframe thead th {\n",
              "        text-align: right;\n",
              "    }\n",
              "</style>\n",
              "<table border=\"1\" class=\"dataframe\">\n",
              "  <thead>\n",
              "    <tr style=\"text-align: right;\">\n",
              "      <th></th>\n",
              "      <th>bronze</th>\n",
              "      <th>country_name</th>\n",
              "      <th>gold</th>\n",
              "      <th>silver</th>\n",
              "    </tr>\n",
              "  </thead>\n",
              "  <tbody>\n",
              "    <tr>\n",
              "      <th>0</th>\n",
              "      <td>9</td>\n",
              "      <td>Russian Fed.</td>\n",
              "      <td>13</td>\n",
              "      <td>11</td>\n",
              "    </tr>\n",
              "    <tr>\n",
              "      <th>1</th>\n",
              "      <td>10</td>\n",
              "      <td>Norway</td>\n",
              "      <td>11</td>\n",
              "      <td>5</td>\n",
              "    </tr>\n",
              "    <tr>\n",
              "      <th>2</th>\n",
              "      <td>5</td>\n",
              "      <td>Canada</td>\n",
              "      <td>10</td>\n",
              "      <td>10</td>\n",
              "    </tr>\n",
              "    <tr>\n",
              "      <th>3</th>\n",
              "      <td>12</td>\n",
              "      <td>United States</td>\n",
              "      <td>9</td>\n",
              "      <td>7</td>\n",
              "    </tr>\n",
              "    <tr>\n",
              "      <th>4</th>\n",
              "      <td>9</td>\n",
              "      <td>Netherlands</td>\n",
              "      <td>8</td>\n",
              "      <td>7</td>\n",
              "    </tr>\n",
              "    <tr>\n",
              "      <th>5</th>\n",
              "      <td>5</td>\n",
              "      <td>Germany</td>\n",
              "      <td>8</td>\n",
              "      <td>6</td>\n",
              "    </tr>\n",
              "    <tr>\n",
              "      <th>6</th>\n",
              "      <td>2</td>\n",
              "      <td>Switzerland</td>\n",
              "      <td>6</td>\n",
              "      <td>3</td>\n",
              "    </tr>\n",
              "    <tr>\n",
              "      <th>7</th>\n",
              "      <td>1</td>\n",
              "      <td>Belarus</td>\n",
              "      <td>5</td>\n",
              "      <td>0</td>\n",
              "    </tr>\n",
              "    <tr>\n",
              "      <th>8</th>\n",
              "      <td>5</td>\n",
              "      <td>Austria</td>\n",
              "      <td>4</td>\n",
              "      <td>8</td>\n",
              "    </tr>\n",
              "    <tr>\n",
              "      <th>9</th>\n",
              "      <td>7</td>\n",
              "      <td>France</td>\n",
              "      <td>4</td>\n",
              "      <td>4</td>\n",
              "    </tr>\n",
              "    <tr>\n",
              "      <th>10</th>\n",
              "      <td>1</td>\n",
              "      <td>Poland</td>\n",
              "      <td>4</td>\n",
              "      <td>1</td>\n",
              "    </tr>\n",
              "    <tr>\n",
              "      <th>11</th>\n",
              "      <td>2</td>\n",
              "      <td>China</td>\n",
              "      <td>3</td>\n",
              "      <td>4</td>\n",
              "    </tr>\n",
              "    <tr>\n",
              "      <th>12</th>\n",
              "      <td>2</td>\n",
              "      <td>Korea</td>\n",
              "      <td>3</td>\n",
              "      <td>3</td>\n",
              "    </tr>\n",
              "    <tr>\n",
              "      <th>13</th>\n",
              "      <td>6</td>\n",
              "      <td>Sweden</td>\n",
              "      <td>2</td>\n",
              "      <td>7</td>\n",
              "    </tr>\n",
              "    <tr>\n",
              "      <th>14</th>\n",
              "      <td>2</td>\n",
              "      <td>Czech Republic</td>\n",
              "      <td>2</td>\n",
              "      <td>4</td>\n",
              "    </tr>\n",
              "    <tr>\n",
              "      <th>15</th>\n",
              "      <td>4</td>\n",
              "      <td>Slovenia</td>\n",
              "      <td>2</td>\n",
              "      <td>2</td>\n",
              "    </tr>\n",
              "    <tr>\n",
              "      <th>16</th>\n",
              "      <td>3</td>\n",
              "      <td>Japan</td>\n",
              "      <td>1</td>\n",
              "      <td>4</td>\n",
              "    </tr>\n",
              "    <tr>\n",
              "      <th>17</th>\n",
              "      <td>1</td>\n",
              "      <td>Finland</td>\n",
              "      <td>1</td>\n",
              "      <td>3</td>\n",
              "    </tr>\n",
              "    <tr>\n",
              "      <th>18</th>\n",
              "      <td>2</td>\n",
              "      <td>Great Britain</td>\n",
              "      <td>1</td>\n",
              "      <td>1</td>\n",
              "    </tr>\n",
              "    <tr>\n",
              "      <th>19</th>\n",
              "      <td>1</td>\n",
              "      <td>Ukraine</td>\n",
              "      <td>1</td>\n",
              "      <td>0</td>\n",
              "    </tr>\n",
              "    <tr>\n",
              "      <th>20</th>\n",
              "      <td>0</td>\n",
              "      <td>Slovakia</td>\n",
              "      <td>1</td>\n",
              "      <td>0</td>\n",
              "    </tr>\n",
              "    <tr>\n",
              "      <th>21</th>\n",
              "      <td>6</td>\n",
              "      <td>Italy</td>\n",
              "      <td>0</td>\n",
              "      <td>2</td>\n",
              "    </tr>\n",
              "    <tr>\n",
              "      <th>22</th>\n",
              "      <td>2</td>\n",
              "      <td>Latvia</td>\n",
              "      <td>0</td>\n",
              "      <td>2</td>\n",
              "    </tr>\n",
              "    <tr>\n",
              "      <th>23</th>\n",
              "      <td>1</td>\n",
              "      <td>Australia</td>\n",
              "      <td>0</td>\n",
              "      <td>2</td>\n",
              "    </tr>\n",
              "    <tr>\n",
              "      <th>24</th>\n",
              "      <td>0</td>\n",
              "      <td>Croatia</td>\n",
              "      <td>0</td>\n",
              "      <td>1</td>\n",
              "    </tr>\n",
              "    <tr>\n",
              "      <th>25</th>\n",
              "      <td>1</td>\n",
              "      <td>Kazakhstan</td>\n",
              "      <td>0</td>\n",
              "      <td>0</td>\n",
              "    </tr>\n",
              "  </tbody>\n",
              "</table>\n",
              "</div>"
            ],
            "text/plain": [
              "    bronze    country_name  gold  silver\n",
              "0        9    Russian Fed.    13      11\n",
              "1       10          Norway    11       5\n",
              "2        5          Canada    10      10\n",
              "3       12   United States     9       7\n",
              "4        9     Netherlands     8       7\n",
              "5        5         Germany     8       6\n",
              "6        2     Switzerland     6       3\n",
              "7        1         Belarus     5       0\n",
              "8        5         Austria     4       8\n",
              "9        7          France     4       4\n",
              "10       1          Poland     4       1\n",
              "11       2           China     3       4\n",
              "12       2           Korea     3       3\n",
              "13       6          Sweden     2       7\n",
              "14       2  Czech Republic     2       4\n",
              "15       4        Slovenia     2       2\n",
              "16       3           Japan     1       4\n",
              "17       1         Finland     1       3\n",
              "18       2   Great Britain     1       1\n",
              "19       1         Ukraine     1       0\n",
              "20       0        Slovakia     1       0\n",
              "21       6           Italy     0       2\n",
              "22       2          Latvia     0       2\n",
              "23       1       Australia     0       2\n",
              "24       0         Croatia     0       1\n",
              "25       1      Kazakhstan     0       0"
            ]
          },
          "metadata": {
            "tags": []
          },
          "execution_count": 24
        }
      ]
    },
    {
      "metadata": {
        "id": "Fch7FgS0JWKl",
        "colab_type": "code",
        "colab": {
          "base_uri": "https://localhost:8080/",
          "height": 101
        },
        "outputId": "a3caf0e0-c761-41ff-dcb1-49a4cf312f05"
      },
      "cell_type": "code",
      "source": [
        "create_dataframe().loc[21] # dataframe은 .loc[index] 로 row별 data를 grab할 수 있음"
      ],
      "execution_count": 25,
      "outputs": [
        {
          "output_type": "execute_result",
          "data": {
            "text/plain": [
              "bronze              6\n",
              "country_name    Italy\n",
              "gold                0\n",
              "silver              2\n",
              "Name: 21, dtype: object"
            ]
          },
          "metadata": {
            "tags": []
          },
          "execution_count": 25
        }
      ]
    },
    {
      "metadata": {
        "id": "W7tNwNEidH0d",
        "colab_type": "code",
        "colab": {
          "base_uri": "https://localhost:8080/",
          "height": 166
        },
        "outputId": "eba74ab1-9683-49c6-cae1-a2b8f905ee8b"
      },
      "cell_type": "code",
      "source": [
        "df =create_dataframe()\n",
        "df[df['gold']>=9]"
      ],
      "execution_count": 30,
      "outputs": [
        {
          "output_type": "execute_result",
          "data": {
            "text/html": [
              "<div>\n",
              "<style scoped>\n",
              "    .dataframe tbody tr th:only-of-type {\n",
              "        vertical-align: middle;\n",
              "    }\n",
              "\n",
              "    .dataframe tbody tr th {\n",
              "        vertical-align: top;\n",
              "    }\n",
              "\n",
              "    .dataframe thead th {\n",
              "        text-align: right;\n",
              "    }\n",
              "</style>\n",
              "<table border=\"1\" class=\"dataframe\">\n",
              "  <thead>\n",
              "    <tr style=\"text-align: right;\">\n",
              "      <th></th>\n",
              "      <th>bronze</th>\n",
              "      <th>country_name</th>\n",
              "      <th>gold</th>\n",
              "      <th>silver</th>\n",
              "    </tr>\n",
              "  </thead>\n",
              "  <tbody>\n",
              "    <tr>\n",
              "      <th>0</th>\n",
              "      <td>9</td>\n",
              "      <td>Russian Fed.</td>\n",
              "      <td>13</td>\n",
              "      <td>11</td>\n",
              "    </tr>\n",
              "    <tr>\n",
              "      <th>1</th>\n",
              "      <td>10</td>\n",
              "      <td>Norway</td>\n",
              "      <td>11</td>\n",
              "      <td>5</td>\n",
              "    </tr>\n",
              "    <tr>\n",
              "      <th>2</th>\n",
              "      <td>5</td>\n",
              "      <td>Canada</td>\n",
              "      <td>10</td>\n",
              "      <td>10</td>\n",
              "    </tr>\n",
              "    <tr>\n",
              "      <th>3</th>\n",
              "      <td>12</td>\n",
              "      <td>United States</td>\n",
              "      <td>9</td>\n",
              "      <td>7</td>\n",
              "    </tr>\n",
              "  </tbody>\n",
              "</table>\n",
              "</div>"
            ],
            "text/plain": [
              "   bronze   country_name  gold  silver\n",
              "0       9   Russian Fed.    13      11\n",
              "1      10         Norway    11       5\n",
              "2       5         Canada    10      10\n",
              "3      12  United States     9       7"
            ]
          },
          "metadata": {
            "tags": []
          },
          "execution_count": 30
        }
      ]
    },
    {
      "metadata": {
        "id": "835Px2mxeIJj",
        "colab_type": "code",
        "colab": {
          "base_uri": "https://localhost:8080/",
          "height": 101
        },
        "outputId": "5fcd0a63-eaa9-4a59-d698-2f0faf2d7fcd"
      },
      "cell_type": "code",
      "source": [
        "df['country_name'][df['gold']>=9]\n",
        "\n",
        "# 1. df['country_name']이 일단 해당 dataframe에서 country_name이라는 이름의 column 데이터를 grab\n",
        "# 2. 그리고 1에서 grab한 data중에 df['gold']>=9 를 했을때 True값이 나오는 애들만\n",
        "#    최종적으로 filter되어서 반환됨"
      ],
      "execution_count": 33,
      "outputs": [
        {
          "output_type": "execute_result",
          "data": {
            "text/plain": [
              "0     Russian Fed.\n",
              "1           Norway\n",
              "2           Canada\n",
              "3    United States\n",
              "Name: country_name, dtype: object"
            ]
          },
          "metadata": {
            "tags": []
          },
          "execution_count": 33
        }
      ]
    },
    {
      "metadata": {
        "id": "QmN6lPaJdjwp",
        "colab_type": "code",
        "colab": {
          "base_uri": "https://localhost:8080/",
          "height": 470
        },
        "outputId": "ded3304c-feed-4c95-8543-802d35d7f5ff"
      },
      "cell_type": "code",
      "source": [
        "df['gold']>=9"
      ],
      "execution_count": 34,
      "outputs": [
        {
          "output_type": "execute_result",
          "data": {
            "text/plain": [
              "0      True\n",
              "1      True\n",
              "2      True\n",
              "3      True\n",
              "4     False\n",
              "5     False\n",
              "6     False\n",
              "7     False\n",
              "8     False\n",
              "9     False\n",
              "10    False\n",
              "11    False\n",
              "12    False\n",
              "13    False\n",
              "14    False\n",
              "15    False\n",
              "16    False\n",
              "17    False\n",
              "18    False\n",
              "19    False\n",
              "20    False\n",
              "21    False\n",
              "22    False\n",
              "23    False\n",
              "24    False\n",
              "25    False\n",
              "Name: gold, dtype: bool"
            ]
          },
          "metadata": {
            "tags": []
          },
          "execution_count": 34
        }
      ]
    },
    {
      "metadata": {
        "id": "-vklJSLHe1IL",
        "colab_type": "text"
      },
      "cell_type": "markdown",
      "source": [
        "You can think of a DataFrame as a group of Series that share an index.\n",
        "This makes it easy to select specific columns that you want from the \n",
        "DataFrame. \n",
        "\n",
        "\n",
        "Also a couple pointers:\n",
        "- 1) Selecting a single column from the DataFrame will return a Series\n",
        "- 2) Selecting multiple columns from the DataFrame will return a DataFrame\n"
      ]
    },
    {
      "metadata": {
        "id": "EuOAIQTcd1VZ",
        "colab_type": "code",
        "colab": {
          "base_uri": "https://localhost:8080/",
          "height": 504
        },
        "outputId": "260880e8-a003-4984-ace8-c9dc44d8cd75"
      },
      "cell_type": "code",
      "source": [
        "data = {'year': [2010, 2011, 2012, 2011, 2012, 2010, 2011, 2012],\n",
        "        'team': ['Bears', 'Bears', 'Bears', 'Packers', 'Packers', 'Lions','Lions', 'Lions'],\n",
        "        'wins': [11, 8, 10, 15, 11, 6, 10, 4],\n",
        "        'losses': [5, 8, 6, 1, 5, 10, 6, 12]}\n",
        "\n",
        "football = pd.DataFrame(data)\n",
        "\n",
        "print(football['year'])\n",
        "print('')\n",
        "print(football.year) # shorthand for football['year']\n",
        "print('')\n",
        "print(football[['year', 'wins', 'losses']])"
      ],
      "execution_count": 35,
      "outputs": [
        {
          "output_type": "stream",
          "text": [
            "0    2010\n",
            "1    2011\n",
            "2    2012\n",
            "3    2011\n",
            "4    2012\n",
            "5    2010\n",
            "6    2011\n",
            "7    2012\n",
            "Name: year, dtype: int64\n",
            "\n",
            "0    2010\n",
            "1    2011\n",
            "2    2012\n",
            "3    2011\n",
            "4    2012\n",
            "5    2010\n",
            "6    2011\n",
            "7    2012\n",
            "Name: year, dtype: int64\n",
            "\n",
            "   year  wins  losses\n",
            "0  2010    11       5\n",
            "1  2011     8       8\n",
            "2  2012    10       6\n",
            "3  2011    15       1\n",
            "4  2012    11       5\n",
            "5  2010     6      10\n",
            "6  2011    10       6\n",
            "7  2012     4      12\n"
          ],
          "name": "stdout"
        }
      ]
    },
    {
      "metadata": {
        "id": "ovbp2gAqfnoA",
        "colab_type": "text"
      },
      "cell_type": "markdown",
      "source": [
        "Row selection can be done through multiple ways.\n",
        "\n",
        "\n",
        "Some of the basic and common methods are:\n",
        "   - 1) Slicing\n",
        "   - 2) An individual index (through the functions iloc or loc)\n",
        "   - 3) Boolean indexing\n",
        "\n",
        "You can also combine multiple selection requirements through boolean\n",
        "operators like & (and) or | (or)"
      ]
    },
    {
      "metadata": {
        "id": "ch9gsoLzfafO",
        "colab_type": "code",
        "colab": {
          "base_uri": "https://localhost:8080/",
          "height": 370
        },
        "outputId": "e3320ad5-1b3d-4cf6-c5d3-c0bd49d12608"
      },
      "cell_type": "code",
      "source": [
        "print(football.iloc[0]) # dataframe은 iloc로 row 데이터 grab (그냥 iloc하면 세로로 나옴)\n",
        "print(\"\")\n",
        "print(football.iloc[[0]]) # .iloc[[row_index]] 하면 가로로 나옴\n",
        "\n",
        "print(\"-----------------------------------------\")\n",
        "print(football[3:5])\n",
        "\n",
        "print(\"-----------------------------------------\")\n",
        "print(football[football.wins > 10]) # football.wins > 10 했을때 대응하는 위치의 값이 True인 애들만 return\n",
        "\n",
        "print(\"-----------------------------------------\")\n",
        "print(football[(football.wins > 10) & (football.team == \"Packers\")])\n",
        "      # football.wins > 10 했을때 대응하는 위치의 값이 True이고 team 값이 \"Packers\"인 애들만 return"
      ],
      "execution_count": 41,
      "outputs": [
        {
          "output_type": "stream",
          "text": [
            "losses        5\n",
            "team      Bears\n",
            "wins         11\n",
            "year       2010\n",
            "Name: 0, dtype: object\n",
            "\n",
            "   losses   team  wins  year\n",
            "0       5  Bears    11  2010\n",
            "-----------------------------------------\n",
            "   losses     team  wins  year\n",
            "3       1  Packers    15  2011\n",
            "4       5  Packers    11  2012\n",
            "-----------------------------------------\n",
            "   losses     team  wins  year\n",
            "0       5    Bears    11  2010\n",
            "3       1  Packers    15  2011\n",
            "4       5  Packers    11  2012\n",
            "-----------------------------------------\n",
            "   losses     team  wins  year\n",
            "3       1  Packers    15  2011\n",
            "4       5  Packers    11  2012\n"
          ],
          "name": "stdout"
        }
      ]
    },
    {
      "metadata": {
        "id": "JMRBwwWyjGa6",
        "colab_type": "text"
      },
      "cell_type": "markdown",
      "source": [
        "# Pandas Vectorized Methods"
      ]
    },
    {
      "metadata": {
        "id": "lIuUA2D4gToq",
        "colab_type": "code",
        "colab": {}
      },
      "cell_type": "code",
      "source": [
        "import numpy\n",
        "from pandas import DataFrame, Series\n",
        "\n",
        "\n",
        "def avg_medal_count():\n",
        "  \n",
        "    countries = ['Russian Fed.', 'Norway', 'Canada', 'United States',\n",
        "                 'Netherlands', 'Germany', 'Switzerland', 'Belarus',\n",
        "                 'Austria', 'France', 'Poland', 'China', 'Korea', \n",
        "                 'Sweden', 'Czech Republic', 'Slovenia', 'Japan',\n",
        "                 'Finland', 'Great Britain', 'Ukraine', 'Slovakia',\n",
        "                 'Italy', 'Latvia', 'Australia', 'Croatia', 'Kazakhstan']\n",
        "\n",
        "    gold = [13, 11, 10, 9, 8, 8, 6, 5, 4, 4, 4, 3, 3, 2, 2, 2, 1, 1, 1, 1, 1, 0, 0, 0, 0, 0]\n",
        "    silver = [11, 5, 10, 7, 7, 6, 3, 0, 8, 4, 1, 4, 3, 7, 4, 2, 4, 3, 1, 0, 0, 2, 2, 2, 1, 0]\n",
        "    bronze = [9, 10, 5, 12, 9, 5, 2, 1, 5, 7, 1, 2, 2, 6, 2, 4, 3, 1, 2, 1, 0, 6, 2, 1, 0, 1]\n",
        "    \n",
        "    olympic_medal_counts = {'country_name':countries,\n",
        "                            'gold': Series(gold),\n",
        "                            'silver': Series(silver),\n",
        "                            'bronze': Series(bronze)}    \n",
        "    \n",
        "    olympic_medal_counts_df = DataFrame(olympic_medal_counts)\n",
        "    \n",
        "    avg_medal_count = olympic_medal_counts_df[['gold', 'silver','bronze']].apply(numpy.mean)\n",
        "    \n",
        "    return avg_medal_count"
      ],
      "execution_count": 0,
      "outputs": []
    },
    {
      "metadata": {
        "id": "zVs-r-cHkec1",
        "colab_type": "code",
        "colab": {
          "base_uri": "https://localhost:8080/",
          "height": 84
        },
        "outputId": "50c647fc-4614-4f8e-a289-917b5bf964bf"
      },
      "cell_type": "code",
      "source": [
        "avg_medal_count()"
      ],
      "execution_count": 43,
      "outputs": [
        {
          "output_type": "execute_result",
          "data": {
            "text/plain": [
              "gold      3.807692\n",
              "silver    3.730769\n",
              "bronze    3.807692\n",
              "dtype: float64"
            ]
          },
          "metadata": {
            "tags": []
          },
          "execution_count": 43
        }
      ]
    },
    {
      "metadata": {
        "id": "2vw_afIEmm7o",
        "colab_type": "text"
      },
      "cell_type": "markdown",
      "source": [
        "# Matrix Multiplication"
      ]
    },
    {
      "metadata": {
        "id": "IC3YiRj2kgHW",
        "colab_type": "code",
        "colab": {}
      },
      "cell_type": "code",
      "source": [
        "import numpy\n",
        "from pandas import DataFrame, Series\n",
        "\n",
        "\n",
        "def points():\n",
        "\n",
        "    countries = ['Russian Fed.', 'Norway', 'Canada', 'United States',\n",
        "                 'Netherlands', 'Germany', 'Switzerland', 'Belarus',\n",
        "                 'Austria', 'France', 'Poland', 'China', 'Korea', \n",
        "                 'Sweden', 'Czech Republic', 'Slovenia', 'Japan',\n",
        "                 'Finland', 'Great Britain', 'Ukraine', 'Slovakia',\n",
        "                 'Italy', 'Latvia', 'Australia', 'Croatia', 'Kazakhstan']\n",
        "\n",
        "    gold = [13, 11, 10, 9, 8, 8, 6, 5, 4, 4, 4, 3, 3, 2, 2, 2, 1, 1, 1, 1, 1, 0, 0, 0, 0, 0]\n",
        "    silver = [11, 5, 10, 7, 7, 6, 3, 0, 8, 4, 1, 4, 3, 7, 4, 2, 4, 3, 1, 0, 0, 2, 2, 2, 1, 0]\n",
        "    bronze = [9, 10, 5, 12, 9, 5, 2, 1, 5, 7, 1, 2, 2, 6, 2, 4, 3, 1, 2, 1, 0, 6, 2, 1, 0, 1]\n",
        "    \n",
        "    olympic_medal_counts = {'country_name':countries,\n",
        "                            'gold': Series(gold),\n",
        "                            'silver': Series(silver),\n",
        "                            'bronze': Series(bronze)}    \n",
        "    olympic_medal_counts_df = DataFrame(olympic_medal_counts)\n",
        "    \n",
        "    medal_counts = olympic_medal_counts_df[['gold','silver','bronze']]\n",
        "    points = numpy.dot(medal_counts,[4,2,1])\n",
        "\n",
        "    olympic_points_df = DataFrame({'country_name': Series(countries), 'points': Series(points)})\n",
        "    \n",
        "    # df['points'] = df[['gold','silver','bronze']].dot([4, 2, 1])\n",
        "    # olympic_points_df = df[['country_name','points']]\n",
        "    \n",
        "    return olympic_points_df"
      ],
      "execution_count": 0,
      "outputs": []
    },
    {
      "metadata": {
        "id": "IY3MMumAoFym",
        "colab_type": "code",
        "colab": {
          "base_uri": "https://localhost:8080/",
          "height": 817
        },
        "outputId": "24bdccf5-0f25-4ef4-b9da-67b737b1dbb0"
      },
      "cell_type": "code",
      "source": [
        "points()"
      ],
      "execution_count": 50,
      "outputs": [
        {
          "output_type": "execute_result",
          "data": {
            "text/html": [
              "<div>\n",
              "<style scoped>\n",
              "    .dataframe tbody tr th:only-of-type {\n",
              "        vertical-align: middle;\n",
              "    }\n",
              "\n",
              "    .dataframe tbody tr th {\n",
              "        vertical-align: top;\n",
              "    }\n",
              "\n",
              "    .dataframe thead th {\n",
              "        text-align: right;\n",
              "    }\n",
              "</style>\n",
              "<table border=\"1\" class=\"dataframe\">\n",
              "  <thead>\n",
              "    <tr style=\"text-align: right;\">\n",
              "      <th></th>\n",
              "      <th>country_name</th>\n",
              "      <th>points</th>\n",
              "    </tr>\n",
              "  </thead>\n",
              "  <tbody>\n",
              "    <tr>\n",
              "      <th>0</th>\n",
              "      <td>Russian Fed.</td>\n",
              "      <td>83</td>\n",
              "    </tr>\n",
              "    <tr>\n",
              "      <th>1</th>\n",
              "      <td>Norway</td>\n",
              "      <td>64</td>\n",
              "    </tr>\n",
              "    <tr>\n",
              "      <th>2</th>\n",
              "      <td>Canada</td>\n",
              "      <td>65</td>\n",
              "    </tr>\n",
              "    <tr>\n",
              "      <th>3</th>\n",
              "      <td>United States</td>\n",
              "      <td>62</td>\n",
              "    </tr>\n",
              "    <tr>\n",
              "      <th>4</th>\n",
              "      <td>Netherlands</td>\n",
              "      <td>55</td>\n",
              "    </tr>\n",
              "    <tr>\n",
              "      <th>5</th>\n",
              "      <td>Germany</td>\n",
              "      <td>49</td>\n",
              "    </tr>\n",
              "    <tr>\n",
              "      <th>6</th>\n",
              "      <td>Switzerland</td>\n",
              "      <td>32</td>\n",
              "    </tr>\n",
              "    <tr>\n",
              "      <th>7</th>\n",
              "      <td>Belarus</td>\n",
              "      <td>21</td>\n",
              "    </tr>\n",
              "    <tr>\n",
              "      <th>8</th>\n",
              "      <td>Austria</td>\n",
              "      <td>37</td>\n",
              "    </tr>\n",
              "    <tr>\n",
              "      <th>9</th>\n",
              "      <td>France</td>\n",
              "      <td>31</td>\n",
              "    </tr>\n",
              "    <tr>\n",
              "      <th>10</th>\n",
              "      <td>Poland</td>\n",
              "      <td>19</td>\n",
              "    </tr>\n",
              "    <tr>\n",
              "      <th>11</th>\n",
              "      <td>China</td>\n",
              "      <td>22</td>\n",
              "    </tr>\n",
              "    <tr>\n",
              "      <th>12</th>\n",
              "      <td>Korea</td>\n",
              "      <td>20</td>\n",
              "    </tr>\n",
              "    <tr>\n",
              "      <th>13</th>\n",
              "      <td>Sweden</td>\n",
              "      <td>28</td>\n",
              "    </tr>\n",
              "    <tr>\n",
              "      <th>14</th>\n",
              "      <td>Czech Republic</td>\n",
              "      <td>18</td>\n",
              "    </tr>\n",
              "    <tr>\n",
              "      <th>15</th>\n",
              "      <td>Slovenia</td>\n",
              "      <td>16</td>\n",
              "    </tr>\n",
              "    <tr>\n",
              "      <th>16</th>\n",
              "      <td>Japan</td>\n",
              "      <td>15</td>\n",
              "    </tr>\n",
              "    <tr>\n",
              "      <th>17</th>\n",
              "      <td>Finland</td>\n",
              "      <td>11</td>\n",
              "    </tr>\n",
              "    <tr>\n",
              "      <th>18</th>\n",
              "      <td>Great Britain</td>\n",
              "      <td>8</td>\n",
              "    </tr>\n",
              "    <tr>\n",
              "      <th>19</th>\n",
              "      <td>Ukraine</td>\n",
              "      <td>5</td>\n",
              "    </tr>\n",
              "    <tr>\n",
              "      <th>20</th>\n",
              "      <td>Slovakia</td>\n",
              "      <td>4</td>\n",
              "    </tr>\n",
              "    <tr>\n",
              "      <th>21</th>\n",
              "      <td>Italy</td>\n",
              "      <td>10</td>\n",
              "    </tr>\n",
              "    <tr>\n",
              "      <th>22</th>\n",
              "      <td>Latvia</td>\n",
              "      <td>6</td>\n",
              "    </tr>\n",
              "    <tr>\n",
              "      <th>23</th>\n",
              "      <td>Australia</td>\n",
              "      <td>5</td>\n",
              "    </tr>\n",
              "    <tr>\n",
              "      <th>24</th>\n",
              "      <td>Croatia</td>\n",
              "      <td>2</td>\n",
              "    </tr>\n",
              "    <tr>\n",
              "      <th>25</th>\n",
              "      <td>Kazakhstan</td>\n",
              "      <td>1</td>\n",
              "    </tr>\n",
              "  </tbody>\n",
              "</table>\n",
              "</div>"
            ],
            "text/plain": [
              "      country_name  points\n",
              "0     Russian Fed.      83\n",
              "1           Norway      64\n",
              "2           Canada      65\n",
              "3    United States      62\n",
              "4      Netherlands      55\n",
              "5          Germany      49\n",
              "6      Switzerland      32\n",
              "7          Belarus      21\n",
              "8          Austria      37\n",
              "9           France      31\n",
              "10          Poland      19\n",
              "11           China      22\n",
              "12           Korea      20\n",
              "13          Sweden      28\n",
              "14  Czech Republic      18\n",
              "15        Slovenia      16\n",
              "16           Japan      15\n",
              "17         Finland      11\n",
              "18   Great Britain       8\n",
              "19         Ukraine       5\n",
              "20        Slovakia       4\n",
              "21           Italy      10\n",
              "22          Latvia       6\n",
              "23       Australia       5\n",
              "24         Croatia       2\n",
              "25      Kazakhstan       1"
            ]
          },
          "metadata": {
            "tags": []
          },
          "execution_count": 50
        }
      ]
    },
    {
      "metadata": {
        "id": "dw48HrPaoJU1",
        "colab_type": "code",
        "colab": {}
      },
      "cell_type": "code",
      "source": [
        ""
      ],
      "execution_count": 0,
      "outputs": []
    }
  ]
}