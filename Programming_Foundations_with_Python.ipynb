{
  "nbformat": 4,
  "nbformat_minor": 0,
  "metadata": {
    "colab": {
      "name": "Programming Foundations with Python.ipynb",
      "version": "0.3.2",
      "provenance": [],
      "collapsed_sections": [],
      "include_colab_link": true
    },
    "kernelspec": {
      "name": "python3",
      "display_name": "Python 3"
    }
  },
  "cells": [
    {
      "cell_type": "markdown",
      "metadata": {
        "id": "view-in-github",
        "colab_type": "text"
      },
      "source": [
        "<a href=\"https://colab.research.google.com/github/JunnieLee/data_science_tutorials/blob/master/Programming_Foundations_with_Python.ipynb\" target=\"_parent\"><img src=\"https://colab.research.google.com/assets/colab-badge.svg\" alt=\"Open In Colab\"/></a>"
      ]
    },
    {
      "metadata": {
        "id": "iR8icE7u6X-e",
        "colab_type": "text"
      },
      "cell_type": "markdown",
      "source": [
        "# Lesson 2. Use Functions"
      ]
    },
    {
      "metadata": {
        "id": "0hGeeHcoD1UI",
        "colab_type": "text"
      },
      "cell_type": "markdown",
      "source": [
        "1. take a break"
      ]
    },
    {
      "metadata": {
        "id": "AcpdCkfts0N8",
        "colab_type": "code",
        "outputId": "4a6a54e8-56e1-4a07-9e8d-d11f105d52ff",
        "colab": {
          "base_uri": "https://localhost:8080/",
          "height": 34
        }
      },
      "cell_type": "code",
      "source": [
        "import time\n",
        "import webbrowser\n",
        "\n",
        "total_breaks = 3\n",
        "cnt = 0\n",
        "\n",
        "print(\"This program started on \"+ time.ctime())\n",
        "while (cnt < total_breaks):\n",
        "    time.sleep(10)\n",
        "    webbrowser.open(\"https://www.youtube.com/watch?v=F_lJi05488A\")\n",
        "    cnt+=1\n"
      ],
      "execution_count": 0,
      "outputs": [
        {
          "output_type": "stream",
          "text": [
            "This program started on Tue Jan 15 05:50:30 2019\n"
          ],
          "name": "stdout"
        }
      ]
    },
    {
      "metadata": {
        "id": "9KYl-0zAD-fo",
        "colab_type": "text"
      },
      "cell_type": "markdown",
      "source": [
        "2. secret message"
      ]
    },
    {
      "metadata": {
        "id": "BU4xZzoZ7cRb",
        "colab_type": "code",
        "colab": {}
      },
      "cell_type": "code",
      "source": [
        "import os\n",
        "\n",
        "def rename_files():\n",
        "  \n",
        "  # (1) get the file names from the folder\n",
        "  file_list = os.listdir(r\"C:\\Desktop\\folder_name\\file_name\")\n",
        "  print(file_list)\n",
        "  saved_path = os.getcwd()\n",
        "  print(\"Current Working Directory is :\"+saved_path)\n",
        "  os.chdir(r\"C:\\Desktop\\folder_name\\file_name\")\n",
        "  \n",
        "  # (2) for each line, rename the file names\n",
        "  for file in file_list:\n",
        "    print(\"Old name - :\"+file)\n",
        "    print(\"New name - :\"+file.translate(None, \"0123456789\"))\n",
        "    os.rename(file, file.translate(None, \"0123456789\"))\n",
        "  os.chdir(saved_path)\n",
        "    \n",
        "rename_files()"
      ],
      "execution_count": 0,
      "outputs": []
    },
    {
      "metadata": {
        "id": "vIIRwsBFLtz7",
        "colab_type": "text"
      },
      "cell_type": "markdown",
      "source": [
        "# Lesson 3. Use Classes : Draw Turtles"
      ]
    },
    {
      "metadata": {
        "id": "zpomBcbmaAkQ",
        "colab_type": "text"
      },
      "cell_type": "markdown",
      "source": [
        "- drawing things"
      ]
    },
    {
      "metadata": {
        "id": "9kfNUBpTLsvI",
        "colab_type": "code",
        "colab": {}
      },
      "cell_type": "code",
      "source": [
        "import turtle\n",
        "\n",
        "def draw():\n",
        "    window = turtle.Screen()\n",
        "    window.bgcolor(\"red\")\n",
        "    \n",
        "    brad = turtle.Turtle()\n",
        "    brad.shape(\"turtle\")\n",
        "    brad.color(\"white\")\n",
        "    brad.speed(2)\n",
        "\n",
        "    for i in range(4):\n",
        "        brad.forward(100)\n",
        "        brad.right(90)\n",
        "\n",
        "    angie = turtle.Turtle()\n",
        "    angie.shape(\"arrow\")\n",
        "    angie.color(\"blue\")\n",
        "    angie.circle(100)\n",
        "\n",
        "    junnie = turtle.Turtle()\n",
        "    junnie.shape(\"turtle\")\n",
        "    junnie.color(\"yellow\")\n",
        "    \n",
        "    junnie.forward(100)\n",
        "    junnie.right(135)\n",
        "    junnie.forward(100*(2**(1/2)))\n",
        "    junnie.right(135)\n",
        "    junnie.forward(100)\n",
        "    \n",
        "\n",
        "    window.exitonclick()\n",
        "\n",
        "draw()"
      ],
      "execution_count": 0,
      "outputs": []
    },
    {
      "metadata": {
        "id": "9B9Uaup5rNrR",
        "colab_type": "text"
      },
      "cell_type": "markdown",
      "source": [
        "* drawing the final quest"
      ]
    },
    {
      "metadata": {
        "id": "RRc7jtoerQzf",
        "colab_type": "code",
        "colab": {}
      },
      "cell_type": "code",
      "source": [
        "import turtle\n",
        "\n",
        "def draw_square(turtle_name):\n",
        "    for i in range(4):\n",
        "        turtle_name.forward(100)\n",
        "        turtle_name.right(90)    \n",
        "\n",
        "def final_request():\n",
        "    window = turtle.Screen()\n",
        "    window.bgcolor(\"black\")\n",
        "    \n",
        "    flower = turtle.Turtle()\n",
        "    flower.shape(\"arrow\")\n",
        "    flower.color(\"white\")\n",
        "    flower.speed(0.5)\n",
        "\n",
        "    for i in range(40):\n",
        "        draw_square(flower)\n",
        "        flower.right(9)\n",
        "\n",
        "    window.exitonclick()\n",
        "    \n",
        "\n",
        "final_request()"
      ],
      "execution_count": 0,
      "outputs": []
    },
    {
      "metadata": {
        "id": "XCbTtqVd15T_",
        "colab_type": "text"
      },
      "cell_type": "markdown",
      "source": [
        "* additional requests (flower)"
      ]
    },
    {
      "metadata": {
        "id": "lVhZYM1z18X2",
        "colab_type": "code",
        "colab": {}
      },
      "cell_type": "code",
      "source": [
        "import turtle\n",
        "\n",
        "def draw_rhombus(turtle_name):\n",
        "        turtle_name.forward(100)\n",
        "        turtle_name.right(60)\n",
        "        turtle_name.forward(100)\n",
        "        turtle_name.right(120)\n",
        "        turtle_name.forward(100)\n",
        "        turtle_name.right(60)\n",
        "        turtle_name.forward(100)\n",
        "        turtle_name.right(120)\n",
        "\n",
        "def final_request():\n",
        "    window = turtle.Screen()\n",
        "    window.bgcolor(\"white\")\n",
        "    \n",
        "    flower = turtle.Turtle()\n",
        "    flower.shape(\"turtle\")\n",
        "    flower.color(\"blue\")\n",
        "    flower.speed(0.5)\n",
        "\n",
        "    for i in range(60):\n",
        "        draw_rhombus(flower)\n",
        "        flower.right(6)\n",
        "\n",
        "    flower.right(90)\n",
        "    flower.forward(300)\n",
        "    \n",
        "    window.exitonclick()\n",
        "    \n",
        "final_request()"
      ],
      "execution_count": 0,
      "outputs": []
    },
    {
      "metadata": {
        "id": "tsFGVf8L3evE",
        "colab_type": "text"
      },
      "cell_type": "markdown",
      "source": [
        "# Lesson 4. Using Classes : Send Text"
      ]
    },
    {
      "metadata": {
        "id": "mHM5DE5f40Kx",
        "colab_type": "text"
      },
      "cell_type": "markdown",
      "source": [
        "# Lesson 5. Using Classes : Profanity Editor"
      ]
    },
    {
      "metadata": {
        "id": "aU64C_M519Vf",
        "colab_type": "code",
        "colab": {}
      },
      "cell_type": "code",
      "source": [
        "from urllib import request, parse\n",
        "\n",
        "\n",
        "def read_text():\n",
        "    \n",
        "    quotes = open(r\"C:\\Users\\junnie\\Desktop\\sample_file.txt\")\n",
        "    contents = quotes.read()\n",
        "    print(contents)\n",
        "    quotes.close()\n",
        "    check_profanity(contents)\n",
        "\n",
        "def check_profanity(text):\n",
        "    connection = request.urlopen(\"http://www.wdylike.appspot.com/?q=\"+parse.quote(text))\n",
        "    output = str(connection.read())\n",
        "    # print(output)\n",
        "    connection.close()\n",
        "\n",
        "    if \"true\" in output:\n",
        "        print(\"Profanity Alert!!\")\n",
        "    elif \"false\" in output:\n",
        "        print(\"You're safe from curse words\")\n",
        "    else:\n",
        "        print(\"Could not scan the document properly.\")\n",
        "    \n",
        "read_text()"
      ],
      "execution_count": 0,
      "outputs": []
    },
    {
      "metadata": {
        "id": "ZNnw8fpumRuO",
        "colab_type": "text"
      },
      "cell_type": "markdown",
      "source": [
        "# Lesson 6. Make Classes: Movie Website"
      ]
    },
    {
      "metadata": {
        "id": "Ph7tbeHamaO9",
        "colab_type": "code",
        "colab": {}
      },
      "cell_type": "code",
      "source": [
        "# media.py\n",
        "\n",
        "import webbrowser\n",
        "\n",
        "class Movie():\n",
        "    def __init__(self, title, storyline, poster_image, trailer):\n",
        "        self. title = title\n",
        "        self. storyline = storyline\n",
        "        self.poster_image_url = poster_image\n",
        "        self.trailer_youtube_url = trailer\n",
        "\n",
        "    def show_trailer(self):\n",
        "        webbrowser.open(self.trailer)"
      ],
      "execution_count": 0,
      "outputs": []
    },
    {
      "metadata": {
        "id": "3admxBVmI151",
        "colab_type": "code",
        "colab": {}
      },
      "cell_type": "code",
      "source": [
        "# entertainment_center.py\n",
        "\n",
        "import media\n",
        "import fresh_tomatoes\n",
        "\n",
        "toy_story = media.Movie(\"Toy Story\", \"A story of a boy and his toys that come to life\", \"https://upload.wikimedia.org/wikipedia/en/thumb/1/13/Toy_Story.jpg/220px-Toy_Story.jpg\", \"https://www.youtube.com/watch?v=qoqG7Px6cOQ\")\n",
        "# print(toy_story.storyline)\n",
        "\n",
        "avatar = media.Movie(\"Avatar\", \"A marine on an alien planet\", \"https://upload.wikimedia.org/wikipedia/ko/thumb/c/c0/%EC%98%81%ED%99%94_%EC%95%84%EB%B0%94%ED%83%80.jpg/250px-%EC%98%81%ED%99%94_%EC%95%84%EB%B0%94%ED%83%80.jpg\", \"https://www.youtube.com/watch?v=6ziBFh3V1aM\")\n",
        "# print(avatar.storyline)\n",
        "# avatar.show_trailer()\n",
        "\n",
        "\n",
        "movies = [toy_story, avatar]\n",
        "fresh_tomatoes.open_movies_page(movies)\n"
      ],
      "execution_count": 0,
      "outputs": []
    },
    {
      "metadata": {
        "id": "QYuK5Ef6SoKr",
        "colab_type": "text"
      },
      "cell_type": "markdown",
      "source": [
        "## Lesson 7. Make Classes : Advanced Topics"
      ]
    },
    {
      "metadata": {
        "id": "-MVwvl-4SuGy",
        "colab_type": "code",
        "colab": {}
      },
      "cell_type": "code",
      "source": [
        "class Parent():\n",
        "    def __init__(self, last_name, eye_color):\n",
        "        print(\"Parent Constructor Called\")\n",
        "        self.last_name = last_name\n",
        "        self.eye_color = eye_color\n",
        "\n",
        "    def show_info(self):\n",
        "        print(\"Last Name - \"+self.last_name)\n",
        "        print(\"Eye Color -\"+self.eye_color)\n",
        "        \n",
        "\n",
        "class Child(Parent): # inheritance\n",
        "    def __init__(self, last_name, eye_color, number_of_toys):\n",
        "        print(\"Child Constructor Called\")\n",
        "        Parent.__init__(self, last_name, eye_color)\n",
        "        self.number_of_toys = number_of_toys\n",
        "\n",
        "    def show_info(self):\n",
        "        Parent.show_info(self)\n",
        "        print(\"Number of toys -\"+str(self.number_of_toys))\n",
        "\n",
        "        \n",
        "billy_cyrus = Parent(\"Cyrus\", \"blue\")\n",
        "print(billy_cyrus.last_name)\n",
        "billy_cyrus.show_info() # instance method\n",
        "\n",
        "\n",
        "miley_cyrus = Child(\"Cyrus\", \"blue\", 5)\n",
        "print(miley_cyrus.last_name)\n",
        "print(miley_cyrus.number_of_toys)\n",
        "miley_cyrus.show_info() # method overriding"
      ],
      "execution_count": 0,
      "outputs": []
    }
  ]
}