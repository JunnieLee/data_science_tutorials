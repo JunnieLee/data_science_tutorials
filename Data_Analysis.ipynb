{
  "nbformat": 4,
  "nbformat_minor": 0,
  "metadata": {
    "colab": {
      "name": "Data_Analysis.ipynb",
      "version": "0.3.2",
      "provenance": [],
      "collapsed_sections": [],
      "include_colab_link": true
    },
    "kernelspec": {
      "name": "python3",
      "display_name": "Python 3"
    }
  },
  "cells": [
    {
      "cell_type": "markdown",
      "metadata": {
        "id": "view-in-github",
        "colab_type": "text"
      },
      "source": [
        "<a href=\"https://colab.research.google.com/github/JunnieLee/data_science_tutorials/blob/master/Data_Analysis.ipynb\" target=\"_parent\"><img src=\"https://colab.research.google.com/assets/colab-badge.svg\" alt=\"Open In Colab\"/></a>"
      ]
    },
    {
      "metadata": {
        "id": "OtI5T_GDGed_",
        "colab_type": "text"
      },
      "cell_type": "markdown",
      "source": [
        "# T-test (T검증)\n",
        "\n",
        "\n",
        "- T-검증이란 간단하게 설명하자면 두 집단간에 평균의 차이가 있는가를 검증하는 방법이다. 차이가 있다면 얼마나 있으며, 없다면 얼마정도의 차이가 나지 않는가를 분석하는 방법이라고 할 수 있다."
      ]
    },
    {
      "metadata": {
        "id": "YbQsBgLVGy3c",
        "colab_type": "text"
      },
      "cell_type": "markdown",
      "source": [
        " - 여기서, 귀무가설(영가설-null hypothesis)을 설정하여 귀무가설이 맞는지 틀리는지를 검증하게 된다. 귀무가설이란, \"두 모집단간의 평균 차이는 없다\"이고, 대립가설은 \"두 모집단간에 평균 차이가 있다\"가 되는 것이다."
      ]
    },
    {
      "metadata": {
        "id": "WWqs48OaHE6X",
        "colab_type": "text"
      },
      "cell_type": "markdown",
      "source": [
        "- 그리고, T-검증 통계량을 계산하여 두 집단간 표본평균의 차이가 귀무가설 하에 있을 확률, 즉 표본오차로 인해 차이가 발생할 확률(유의확률: P-Value)이 귀무가설을 기각하기로 설정한 유의수준(통상적으로 5%)과 같거나 적다면 귀무가설을 기각하고 대립가설을 채택하게 된다. \n",
        "\n",
        "\n",
        "\n",
        "\n",
        "\n",
        "\n",
        "\n",
        "\n",
        "\n",
        "- T-검증은 크게 2가지로 구분되어 질 수가 있는데, \"독립표본 T-검증\"과 \"쌍표본 T-검증\"으로 구분할 수가 있다.\n",
        "\n",
        "\n",
        "---\n",
        "\n",
        "\n",
        "- **독립표본 T-검증**은 두 집단의 수가 틀려도 상관이 없으며, 남자와 여자 등과 같이 동일 시점에서 두 집단의 평균을 비교하는 것이다.(The 2-sample t-test takes your sample data from two groups and boils it down to the t-value. The process is very similar to the 1-sample t-test, and you can still use the analogy of the signal-to-noise ratio. Unlike the paired t-test, the 2-sample t-test requires independent groups for each sample.)\n",
        "\n",
        "\n",
        "---\n",
        "\n",
        "\n",
        "- **쌍표본 T-검증**은 동일 집단의 전/후의 평균을 비교하는 것으로 전과 후의 수가 동일해야 하며, 비교 대상의 수가 총 40명이라면 A라는 사람의 전과 후를 비교하는 방법으로 40명의 전/후의 차이를 비교하여 분석하는 기법이다. (The paired t-test and the 1-sample t-test are actually the same test in disguise! A 1-sample t-test compares one sample mean to a null hypothesis value. A paired t-test simply calculates the difference between paired observations (e.g., before and after) and then performs a 1-sample t-test on the differences.)"
      ]
    },
    {
      "metadata": {
        "id": "NfU-jwbvIihF",
        "colab_type": "text"
      },
      "cell_type": "markdown",
      "source": [
        "(출처: [t-test관련 참고글](http://www.rsinfo.co.kr/staticmethod/ttest.htm))"
      ]
    },
    {
      "metadata": {
        "id": "x44pjCVgNn7h",
        "colab_type": "text"
      },
      "cell_type": "markdown",
      "source": [
        "- Welch's two sample test\n",
        "![alt text](https://www.mbaskool.com/2013_images/stories/may_images/welch_tests.jpg)"
      ]
    },
    {
      "metadata": {
        "id": "FNNki_mS-p_l",
        "colab_type": "code",
        "colab": {}
      },
      "cell_type": "code",
      "source": [
        ""
      ],
      "execution_count": 0,
      "outputs": []
    }
  ]
}