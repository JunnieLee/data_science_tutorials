{
  "nbformat": 4,
  "nbformat_minor": 0,
  "metadata": {
    "colab": {
      "name": "Data_Analysis.ipynb",
      "version": "0.3.2",
      "provenance": [],
      "collapsed_sections": [],
      "include_colab_link": true
    },
    "kernelspec": {
      "name": "python3",
      "display_name": "Python 3"
    }
  },
  "cells": [
    {
      "cell_type": "markdown",
      "metadata": {
        "id": "view-in-github",
        "colab_type": "text"
      },
      "source": [
        "<a href=\"https://colab.research.google.com/github/JunnieLee/data_science_tutorials/blob/master/Data_Analysis.ipynb\" target=\"_parent\"><img src=\"https://colab.research.google.com/assets/colab-badge.svg\" alt=\"Open In Colab\"/></a>"
      ]
    },
    {
      "metadata": {
        "id": "OtI5T_GDGed_",
        "colab_type": "text"
      },
      "cell_type": "markdown",
      "source": [
        "# T-test (T검증)\n",
        "\n",
        "\n",
        "- T-검증이란 간단하게 설명하자면 두 집단간에 평균의 차이가 있는가를 검증하는 방법이다. 차이가 있다면 얼마나 있으며, 없다면 얼마정도의 차이가 나지 않는가를 분석하는 방법이라고 할 수 있다."
      ]
    },
    {
      "metadata": {
        "id": "YbQsBgLVGy3c",
        "colab_type": "text"
      },
      "cell_type": "markdown",
      "source": [
        " - 여기서, 귀무가설(영가설-null hypothesis)을 설정하여 귀무가설이 맞는지 틀리는지를 검증하게 된다. 귀무가설이란, \"두 모집단간의 평균 차이는 없다\"이고, 대립가설은 \"두 모집단간에 평균 차이가 있다\"가 되는 것이다."
      ]
    },
    {
      "metadata": {
        "id": "WWqs48OaHE6X",
        "colab_type": "text"
      },
      "cell_type": "markdown",
      "source": [
        "- 그리고, T-검증 통계량을 계산하여 두 집단간 표본평균의 차이가 귀무가설 하에 있을 확률, 즉 표본오차로 인해 차이가 발생할 확률(유의확률: P-Value)이 귀무가설을 기각하기로 설정한 유의수준(통상적으로 5%)과 같거나 적다면 귀무가설을 기각하고 대립가설을 채택하게 된다. \n",
        "\n",
        "\n",
        "\n",
        "\n",
        "\n",
        "\n",
        "\n",
        "\n",
        "\n",
        "- T-검증은 크게 2가지로 구분되어 질 수가 있는데, \"독립표본 T-검증\"과 \"쌍표본 T-검증\"으로 구분할 수가 있다.\n",
        "\n",
        "\n",
        "---\n",
        "\n",
        "\n",
        "- **독립표본 T-검증**은 두 집단의 수가 틀려도 상관이 없으며, 남자와 여자 등과 같이 동일 시점에서 두 집단의 평균을 비교하는 것이다.(The 2-sample t-test takes your sample data from two groups and boils it down to the t-value. The process is very similar to the 1-sample t-test, and you can still use the analogy of the signal-to-noise ratio. Unlike the paired t-test, the 2-sample t-test requires independent groups for each sample.)\n",
        "\n",
        "\n",
        "---\n",
        "\n",
        "\n",
        "- **쌍표본 T-검증**은 동일 집단의 전/후의 평균을 비교하는 것으로 전과 후의 수가 동일해야 하며, 비교 대상의 수가 총 40명이라면 A라는 사람의 전과 후를 비교하는 방법으로 40명의 전/후의 차이를 비교하여 분석하는 기법이다. (The paired t-test and the 1-sample t-test are actually the same test in disguise! A 1-sample t-test compares one sample mean to a null hypothesis value. A paired t-test simply calculates the difference between paired observations (e.g., before and after) and then performs a 1-sample t-test on the differences.)"
      ]
    },
    {
      "metadata": {
        "id": "NfU-jwbvIihF",
        "colab_type": "text"
      },
      "cell_type": "markdown",
      "source": [
        "(출처: [t-test관련 참고글](http://www.rsinfo.co.kr/staticmethod/ttest.htm))"
      ]
    },
    {
      "metadata": {
        "id": "x44pjCVgNn7h",
        "colab_type": "text"
      },
      "cell_type": "markdown",
      "source": [
        "- Welch's two sample test\n",
        "![alt text](https://www.mbaskool.com/2013_images/stories/may_images/welch_tests.jpg)\n",
        "\n",
        "P-value(P값)란 관찰된 데이터의 검정통계량이 귀무가설을 지지하는 정도를 확률로 표현한 것이라 할 수 있다.\n",
        "\n",
        "(p-value가 유의수준보다 작을수록 귀무가설을 지지하는 정도가 약하므로 귀무가설을 기각하게 되고,  연구가설 채택이 되는 것이다.)\n",
        "\n",
        "- t 값이 커지면,  p값이 작아지며, 유의한 차이를 보일 가능성이 높아진다."
      ]
    },
    {
      "metadata": {
        "id": "MdUZgqjGXYS4",
        "colab_type": "text"
      },
      "cell_type": "markdown",
      "source": [
        "(강의 스샷 + 보충설명-->) [블로그 정리글](https://blog.naver.com/heunghari/221450385583)"
      ]
    },
    {
      "metadata": {
        "id": "Tm76gU5nfpRl",
        "colab_type": "text"
      },
      "cell_type": "markdown",
      "source": [
        "# Welch's t-Test Exercise"
      ]
    },
    {
      "metadata": {
        "id": "q4jQ-FxfgPds",
        "colab_type": "code",
        "colab": {
          "resources": {
            "http://localhost:8080/nbextensions/google.colab/files.js": {
              "data": "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",
              "ok": true,
              "headers": [
                [
                  "content-type",
                  "application/javascript"
                ]
              ],
              "status": 200,
              "status_text": ""
            }
          },
          "base_uri": "https://localhost:8080/",
          "height": 73
        },
        "outputId": "b1f75c73-0856-4ff2-d3c7-f3e18781d07a"
      },
      "cell_type": "code",
      "source": [
        "from google.colab import files\n",
        "uploaded = files.upload()"
      ],
      "execution_count": 2,
      "outputs": [
        {
          "output_type": "display_data",
          "data": {
            "text/html": [
              "\n",
              "     <input type=\"file\" id=\"files-0e77893d-ab63-4a58-a872-d56f11174cd8\" name=\"files[]\" multiple disabled />\n",
              "     <output id=\"result-0e77893d-ab63-4a58-a872-d56f11174cd8\">\n",
              "      Upload widget is only available when the cell has been executed in the\n",
              "      current browser session. Please rerun this cell to enable.\n",
              "      </output>\n",
              "      <script src=\"/nbextensions/google.colab/files.js\"></script> "
            ],
            "text/plain": [
              "<IPython.core.display.HTML object>"
            ]
          },
          "metadata": {
            "tags": []
          }
        },
        {
          "output_type": "stream",
          "text": [
            "Saving baseball_stats.csv to baseball_stats.csv\n"
          ],
          "name": "stdout"
        }
      ]
    },
    {
      "metadata": {
        "id": "mPmtuNKYhjqF",
        "colab_type": "code",
        "colab": {}
      },
      "cell_type": "code",
      "source": [
        "    \"\"\"\n",
        "    Performs a t-test on two sets of baseball data (left-handed and right-handed hitters).\n",
        "\n",
        "    You will be given a csv file that has three columns.  A player's\n",
        "    name, handedness (L for lefthanded or R for righthanded) and their\n",
        "    career batting average (called 'avg'). You can look at the csv\n",
        "    file by downloading the baseball_stats file from Downloadables below. \n",
        "    pd.read_csv(filename)\n",
        "    Write a function that will read that the csv file into a pandas data frame,\n",
        "    and run Welch's t-test on the two cohorts defined by handedness.\n",
        "    \n",
        "    One cohort should be a data frame of right-handed batters. And the other\n",
        "    cohort should be a data frame of left-handed batters.\n",
        "    \n",
        "    We have included the scipy.stats library to help you write\n",
        "    or implement Welch's t-test:\n",
        "    http://docs.scipy.org/doc/scipy/reference/stats.html\n",
        "    \n",
        "    With a significance level of 95%, if there is no difference\n",
        "    between the two cohorts, return a tuple consisting of\n",
        "    True, and then the tuple returned by scipy.stats.ttest.  \n",
        "    \n",
        "    If there is a difference, return a tuple consisting of\n",
        "    False, and then the tuple returned by scipy.stats.ttest.\n",
        "    \n",
        "    For example, the tuple that you return may look like:\n",
        "    (True, (9.93570222, 0.000023))\n",
        "    \"\"\""
      ],
      "execution_count": 0,
      "outputs": []
    },
    {
      "metadata": {
        "id": "FNNki_mS-p_l",
        "colab_type": "code",
        "colab": {}
      },
      "cell_type": "code",
      "source": [
        "import numpy as np\n",
        "import scipy.stats\n",
        "import pandas as pd\n",
        "\n",
        "def compare_averages(filename):\n",
        "  \n",
        "  data = pd.read_csv(filename)\n",
        "  \n",
        "  left_handed = data[data['handedness']=='L']\n",
        "  right_handed = data[data['handedness']=='R']\n",
        "  \n",
        "  # Welch's t-test\n",
        "  result = scipy.stats.ttest_ind(left_handed['avg'],right_handed['avg'], equal_var=False) # (t값, p값)을 return함\n",
        "  \n",
        "  if result[1] <= 0.05: # p-value (유의확률) 이 0.05보다 작으면 --> 차이가 있더라~ 귀무가설이 false더라~\n",
        "    return (False, result)\n",
        "  else:  # p-value (유의확률) 이 0.05보다 크면 --> 차이가 없더라~ 귀무가설이 true더라~\n",
        "    return (True, result)"
      ],
      "execution_count": 0,
      "outputs": []
    },
    {
      "metadata": {
        "id": "CViwDxdFjPrP",
        "colab_type": "code",
        "colab": {
          "base_uri": "https://localhost:8080/",
          "height": 50
        },
        "outputId": "cbf9029b-46f0-49d3-deb6-1beda4b5e52e"
      },
      "cell_type": "code",
      "source": [
        "compare_averages('baseball_stats.csv')"
      ],
      "execution_count": 4,
      "outputs": [
        {
          "output_type": "execute_result",
          "data": {
            "text/plain": [
              "(False,\n",
              " Ttest_indResult(statistic=9.935702226242094, pvalue=3.810274225888738e-23))"
            ]
          },
          "metadata": {
            "tags": []
          },
          "execution_count": 4
        }
      ]
    },
    {
      "metadata": {
        "id": "dv8XzXTI5X3O",
        "colab_type": "text"
      },
      "cell_type": "markdown",
      "source": [
        "# Machine Learning basics"
      ]
    },
    {
      "metadata": {
        "id": "bBRHPfJX5bk-",
        "colab_type": "text"
      },
      "cell_type": "markdown",
      "source": [
        "[강의 개념 스샷](https://blog.naver.com/heunghari/221450472899)"
      ]
    },
    {
      "metadata": {
        "id": "HupXc8sD5pWB",
        "colab_type": "text"
      },
      "cell_type": "markdown",
      "source": [
        "- Gradient Descent in Python"
      ]
    },
    {
      "metadata": {
        "id": "RAPXIsSK6pz5",
        "colab_type": "text"
      },
      "cell_type": "markdown",
      "source": [
        "In this exercise, the output data points (or the Y's) are represented by 'values' and the input data points (or the X's) are represented by 'features'. \n",
        "\n",
        "The following equations from the lecture videos may be useful:\n",
        "\n",
        "\n",
        "![alt text](https://lh3.ggpht.com/ybMIr_Y3W7q8aDRqBVkXVt0UxMhX5Q6O7XOzLzUgmnlpFVLDmj9yLxa0bEB1qPlbET4ItObiUhBMVJ-Xlj-R=s0#w=457&h=112)\n",
        "\n",
        "where J(Theta) is the cost function and h(X^i) is the predicted value of Y^i, and\n",
        "\n",
        "\n",
        "![alt text](https://lh4.ggpht.com/GZTmhSbMXpeARDkr30QB0WPiMNiqJmQ1cUA3lidq5ybwPUzQmhY7d-33Izvfk4MDLOJDM_L0wGWKXlRVIRbQ=s0#w=256&h=51)\n",
        "\n",
        "which is the assignment statement used to update theta_j."
      ]
    },
    {
      "metadata": {
        "id": "bYMi2nTu7Idx",
        "colab_type": "text"
      },
      "cell_type": "markdown",
      "source": [
        "\n",
        "\n",
        "In the course we have a minus sign in front of alpha but note that here we subtract observed values - predicted values and therefore the minus signs cancel to give a plus sign in front of alpha.\n",
        "\n",
        "You might notice a sign change between the alpha in the formula we show here and the alpha in the Python implementation. That factor of -1 is distributed to the predicted and observed values, so both expressions are the same. "
      ]
    },
    {
      "metadata": {
        "id": "7Zg0S3wPjUE2",
        "colab_type": "code",
        "colab": {}
      },
      "cell_type": "code",
      "source": [
        "import numpy\n",
        "import pandas\n",
        "\n",
        "def compute_cost(features, values, theta):\n",
        "    \"\"\"\n",
        "    Compute the cost of a list of parameters, theta, given a list of features \n",
        "    (input data points) and values (output data points).\n",
        "    \"\"\"\n",
        "    m = len(values)\n",
        "    sum_of_square_errors = numpy.square(numpy.dot(features, theta) - values).sum()\n",
        "    cost = sum_of_square_errors / (2*m)\n",
        "\n",
        "    return cost\n",
        "\n",
        "  \n",
        "def gradient_descent(features, values, theta, alpha, num_iterations):\n",
        "    \"\"\"\n",
        "    Perform gradient descent given a data set with an arbitrary number of features.\n",
        "    \"\"\"\n",
        "\n",
        "    # Write code here that performs num_iterations updates to the elements of theta.\n",
        "    # times. Every time you compute the cost for a given list of thetas, append it \n",
        "    # to cost_history.\n",
        "    \n",
        "    cost_history = []\n",
        "\n",
        "    for i in range(num_iterations):\n",
        "      predicted_values = numpy.dot(features, theta)\n",
        "      theta = theata - alpha/m*numpy.dot((predicted_values-values), features)\n",
        "      \n",
        "      cost = compute_cost(features, values, theta)\n",
        "      cost_history.append(cost)\n",
        "    \n",
        "    return theta, pandas.Series(cost_history) # leave this line for the grader"
      ],
      "execution_count": 0,
      "outputs": []
    },
    {
      "metadata": {
        "id": "sq4_mU--1p64",
        "colab_type": "text"
      },
      "cell_type": "markdown",
      "source": [
        "# Coefficients of Determination (R^2)"
      ]
    },
    {
      "metadata": {
        "id": "L_zvqzAR1sNy",
        "colab_type": "code",
        "colab": {}
      },
      "cell_type": "code",
      "source": [
        "import numpy as np\n",
        "\n",
        "def compute_r_squared(data, predictions):\n",
        "    # Write a function that, given two input numpy arrays, 'data', and 'predictions,'\n",
        "    # returns the coefficient of determination, R^2, for the model that produced \n",
        "    # predictions.\n",
        "    \n",
        "    r_squared = 1 - np.sum((data-predictions)**2)/np.sum((data-np.mean(data))**2)\n",
        "\n",
        "    return r_squared"
      ],
      "execution_count": 0,
      "outputs": []
    }
  ]
}