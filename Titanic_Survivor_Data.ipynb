{
  "nbformat": 4,
  "nbformat_minor": 0,
  "metadata": {
    "colab": {
      "name": "Titanic_Survivor_Data.ipynb",
      "version": "0.3.2",
      "provenance": [],
      "collapsed_sections": [],
      "include_colab_link": true
    },
    "kernelspec": {
      "name": "python3",
      "display_name": "Python 3"
    }
  },
  "cells": [
    {
      "cell_type": "markdown",
      "metadata": {
        "id": "view-in-github",
        "colab_type": "text"
      },
      "source": [
        "<a href=\"https://colab.research.google.com/github/JunnieLee/data_science_tutorials/blob/master/Titanic_Survivor_Data.ipynb\" target=\"_parent\"><img src=\"https://colab.research.google.com/assets/colab-badge.svg\" alt=\"Open In Colab\"/></a>"
      ]
    },
    {
      "metadata": {
        "id": "slOMvFynr3CG",
        "colab_type": "code",
        "colab": {
          "resources": {
            "http://localhost:8080/nbextensions/google.colab/files.js": {
              "data": "Ly8gQ29weXJpZ2h0IDIwMTcgR29vZ2xlIExMQwovLwovLyBMaWNlbnNlZCB1bmRlciB0aGUgQXBhY2hlIExpY2Vuc2UsIFZlcnNpb24gMi4wICh0aGUgIkxpY2Vuc2UiKTsKLy8geW91IG1heSBub3QgdXNlIHRoaXMgZmlsZSBleGNlcHQgaW4gY29tcGxpYW5jZSB3aXRoIHRoZSBMaWNlbnNlLgovLyBZb3UgbWF5IG9idGFpbiBhIGNvcHkgb2YgdGhlIExpY2Vuc2UgYXQKLy8KLy8gICAgICBodHRwOi8vd3d3LmFwYWNoZS5vcmcvbGljZW5zZXMvTElDRU5TRS0yLjAKLy8KLy8gVW5sZXNzIHJlcXVpcmVkIGJ5IGFwcGxpY2FibGUgbGF3IG9yIGFncmVlZCB0byBpbiB3cml0aW5nLCBzb2Z0d2FyZQovLyBkaXN0cmlidXRlZCB1bmRlciB0aGUgTGljZW5zZSBpcyBkaXN0cmlidXRlZCBvbiBhbiAiQVMgSVMiIEJBU0lTLAovLyBXSVRIT1VUIFdBUlJBTlRJRVMgT1IgQ09ORElUSU9OUyBPRiBBTlkgS0lORCwgZWl0aGVyIGV4cHJlc3Mgb3IgaW1wbGllZC4KLy8gU2VlIHRoZSBMaWNlbnNlIGZvciB0aGUgc3BlY2lmaWMgbGFuZ3VhZ2UgZ292ZXJuaW5nIHBlcm1pc3Npb25zIGFuZAovLyBsaW1pdGF0aW9ucyB1bmRlciB0aGUgTGljZW5zZS4KCi8qKgogKiBAZmlsZW92ZXJ2aWV3IEhlbHBlcnMgZm9yIGdvb2dsZS5jb2xhYiBQeXRob24gbW9kdWxlLgogKi8KKGZ1bmN0aW9uKHNjb3BlKSB7CmZ1bmN0aW9uIHNwYW4odGV4dCwgc3R5bGVBdHRyaWJ1dGVzID0ge30pIHsKICBjb25zdCBlbGVtZW50ID0gZG9jdW1lbnQuY3JlYXRlRWxlbWVudCgnc3BhbicpOwogIGVsZW1lbnQudGV4dENvbnRlbnQgPSB0ZXh0OwogIGZvciAoY29uc3Qga2V5IG9mIE9iamVjdC5rZXlzKHN0eWxlQXR0cmlidXRlcykpIHsKICAgIGVsZW1lbnQuc3R5bGVba2V5XSA9IHN0eWxlQXR0cmlidXRlc1trZXldOwogIH0KICByZXR1cm4gZWxlbWVudDsKfQoKLy8gTWF4IG51bWJlciBvZiBieXRlcyB3aGljaCB3aWxsIGJlIHVwbG9hZGVkIGF0IGEgdGltZS4KY29uc3QgTUFYX1BBWUxPQURfU0laRSA9IDEwMCAqIDEwMjQ7Ci8vIE1heCBhbW91bnQgb2YgdGltZSB0byBibG9jayB3YWl0aW5nIGZvciB0aGUgdXNlci4KY29uc3QgRklMRV9DSEFOR0VfVElNRU9VVF9NUyA9IDMwICogMTAwMDsKCmZ1bmN0aW9uIF91cGxvYWRGaWxlcyhpbnB1dElkLCBvdXRwdXRJZCkgewogIGNvbnN0IHN0ZXBzID0gdXBsb2FkRmlsZXNTdGVwKGlucHV0SWQsIG91dHB1dElkKTsKICBjb25zdCBvdXRwdXRFbGVtZW50ID0gZG9jdW1lbnQuZ2V0RWxlbWVudEJ5SWQob3V0cHV0SWQpOwogIC8vIENhY2hlIHN0ZXBzIG9uIHRoZSBvdXRwdXRFbGVtZW50IHRvIG1ha2UgaXQgYXZhaWxhYmxlIGZvciB0aGUgbmV4dCBjYWxsCiAgLy8gdG8gdXBsb2FkRmlsZXNDb250aW51ZSBmcm9tIFB5dGhvbi4KICBvdXRwdXRFbGVtZW50LnN0ZXBzID0gc3RlcHM7CgogIHJldHVybiBfdXBsb2FkRmlsZXNDb250aW51ZShvdXRwdXRJZCk7Cn0KCi8vIFRoaXMgaXMgcm91Z2hseSBhbiBhc3luYyBnZW5lcmF0b3IgKG5vdCBzdXBwb3J0ZWQgaW4gdGhlIGJyb3dzZXIgeWV0KSwKLy8gd2hlcmUgdGhlcmUgYXJlIG11bHRpcGxlIGFzeW5jaHJvbm91cyBzdGVwcyBhbmQgdGhlIFB5dGhvbiBzaWRlIGlzIGdvaW5nCi8vIHRvIHBvbGwgZm9yIGNvbXBsZXRpb24gb2YgZWFjaCBzdGVwLgovLyBUaGlzIHVzZXMgYSBQcm9taXNlIHRvIGJsb2NrIHRoZSBweXRob24gc2lkZSBvbiBjb21wbGV0aW9uIG9mIGVhY2ggc3RlcCwKLy8gdGhlbiBwYXNzZXMgdGhlIHJlc3VsdCBvZiB0aGUgcHJldmlvdXMgc3RlcCBhcyB0aGUgaW5wdXQgdG8gdGhlIG5leHQgc3RlcC4KZnVuY3Rpb24gX3VwbG9hZEZpbGVzQ29udGludWUob3V0cHV0SWQpIHsKICBjb25zdCBvdXRwdXRFbGVtZW50ID0gZG9jdW1lbnQuZ2V0RWxlbWVudEJ5SWQob3V0cHV0SWQpOwogIGNvbnN0IHN0ZXBzID0gb3V0cHV0RWxlbWVudC5zdGVwczsKCiAgY29uc3QgbmV4dCA9IHN0ZXBzLm5leHQob3V0cHV0RWxlbWVudC5sYXN0UHJvbWlzZVZhbHVlKTsKICByZXR1cm4gUHJvbWlzZS5yZXNvbHZlKG5leHQudmFsdWUucHJvbWlzZSkudGhlbigodmFsdWUpID0+IHsKICAgIC8vIENhY2hlIHRoZSBsYXN0IHByb21pc2UgdmFsdWUgdG8gbWFrZSBpdCBhdmFpbGFibGUgdG8gdGhlIG5leHQKICAgIC8vIHN0ZXAgb2YgdGhlIGdlbmVyYXRvci4KICAgIG91dHB1dEVsZW1lbnQubGFzdFByb21pc2VWYWx1ZSA9IHZhbHVlOwogICAgcmV0dXJuIG5leHQudmFsdWUucmVzcG9uc2U7CiAgfSk7Cn0KCi8qKgogKiBHZW5lcmF0b3IgZnVuY3Rpb24gd2hpY2ggaXMgY2FsbGVkIGJldHdlZW4gZWFjaCBhc3luYyBzdGVwIG9mIHRoZSB1cGxvYWQKICogcHJvY2Vzcy4KICogQHBhcmFtIHtzdHJpbmd9IGlucHV0SWQgRWxlbWVudCBJRCBvZiB0aGUgaW5wdXQgZmlsZSBwaWNrZXIgZWxlbWVudC4KICogQHBhcmFtIHtzdHJpbmd9IG91dHB1dElkIEVsZW1lbnQgSUQgb2YgdGhlIG91dHB1dCBkaXNwbGF5LgogKiBAcmV0dXJuIHshSXRlcmFibGU8IU9iamVjdD59IEl0ZXJhYmxlIG9mIG5leHQgc3RlcHMuCiAqLwpmdW5jdGlvbiogdXBsb2FkRmlsZXNTdGVwKGlucHV0SWQsIG91dHB1dElkKSB7CiAgY29uc3QgaW5wdXRFbGVtZW50ID0gZG9jdW1lbnQuZ2V0RWxlbWVudEJ5SWQoaW5wdXRJZCk7CiAgaW5wdXRFbGVtZW50LmRpc2FibGVkID0gZmFsc2U7CgogIGNvbnN0IG91dHB1dEVsZW1lbnQgPSBkb2N1bWVudC5nZXRFbGVtZW50QnlJZChvdXRwdXRJZCk7CiAgb3V0cHV0RWxlbWVudC5pbm5lckhUTUwgPSAnJzsKCiAgY29uc3QgcGlja2VkUHJvbWlzZSA9IG5ldyBQcm9taXNlKChyZXNvbHZlKSA9PiB7CiAgICBpbnB1dEVsZW1lbnQuYWRkRXZlbnRMaXN0ZW5lcignY2hhbmdlJywgKGUpID0+IHsKICAgICAgcmVzb2x2ZShlLnRhcmdldC5maWxlcyk7CiAgICB9KTsKICB9KTsKCiAgY29uc3QgY2FuY2VsID0gZG9jdW1lbnQuY3JlYXRlRWxlbWVudCgnYnV0dG9uJyk7CiAgaW5wdXRFbGVtZW50LnBhcmVudEVsZW1lbnQuYXBwZW5kQ2hpbGQoY2FuY2VsKTsKICBjYW5jZWwudGV4dENvbnRlbnQgPSAnQ2FuY2VsIHVwbG9hZCc7CiAgY29uc3QgY2FuY2VsUHJvbWlzZSA9IG5ldyBQcm9taXNlKChyZXNvbHZlKSA9PiB7CiAgICBjYW5jZWwub25jbGljayA9ICgpID0+IHsKICAgICAgcmVzb2x2ZShudWxsKTsKICAgIH07CiAgfSk7CgogIC8vIENhbmNlbCB1cGxvYWQgaWYgdXNlciBoYXNuJ3QgcGlja2VkIGFueXRoaW5nIGluIHRpbWVvdXQuCiAgY29uc3QgdGltZW91dFByb21pc2UgPSBuZXcgUHJvbWlzZSgocmVzb2x2ZSkgPT4gewogICAgc2V0VGltZW91dCgoKSA9PiB7CiAgICAgIHJlc29sdmUobnVsbCk7CiAgICB9LCBGSUxFX0NIQU5HRV9USU1FT1VUX01TKTsKICB9KTsKCiAgLy8gV2FpdCBmb3IgdGhlIHVzZXIgdG8gcGljayB0aGUgZmlsZXMuCiAgY29uc3QgZmlsZXMgPSB5aWVsZCB7CiAgICBwcm9taXNlOiBQcm9taXNlLnJhY2UoW3BpY2tlZFByb21pc2UsIHRpbWVvdXRQcm9taXNlLCBjYW5jZWxQcm9taXNlXSksCiAgICByZXNwb25zZTogewogICAgICBhY3Rpb246ICdzdGFydGluZycsCiAgICB9CiAgfTsKCiAgaWYgKCFmaWxlcykgewogICAgcmV0dXJuIHsKICAgICAgcmVzcG9uc2U6IHsKICAgICAgICBhY3Rpb246ICdjb21wbGV0ZScsCiAgICAgIH0KICAgIH07CiAgfQoKICBjYW5jZWwucmVtb3ZlKCk7CgogIC8vIERpc2FibGUgdGhlIGlucHV0IGVsZW1lbnQgc2luY2UgZnVydGhlciBwaWNrcyBhcmUgbm90IGFsbG93ZWQuCiAgaW5wdXRFbGVtZW50LmRpc2FibGVkID0gdHJ1ZTsKCiAgZm9yIChjb25zdCBmaWxlIG9mIGZpbGVzKSB7CiAgICBjb25zdCBsaSA9IGRvY3VtZW50LmNyZWF0ZUVsZW1lbnQoJ2xpJyk7CiAgICBsaS5hcHBlbmQoc3BhbihmaWxlLm5hbWUsIHtmb250V2VpZ2h0OiAnYm9sZCd9KSk7CiAgICBsaS5hcHBlbmQoc3BhbigKICAgICAgICBgKCR7ZmlsZS50eXBlIHx8ICduL2EnfSkgLSAke2ZpbGUuc2l6ZX0gYnl0ZXMsIGAgKwogICAgICAgIGBsYXN0IG1vZGlmaWVkOiAkewogICAgICAgICAgICBmaWxlLmxhc3RNb2RpZmllZERhdGUgPyBmaWxlLmxhc3RNb2RpZmllZERhdGUudG9Mb2NhbGVEYXRlU3RyaW5nKCkgOgogICAgICAgICAgICAgICAgICAgICAgICAgICAgICAgICAgICAnbi9hJ30gLSBgKSk7CiAgICBjb25zdCBwZXJjZW50ID0gc3BhbignMCUgZG9uZScpOwogICAgbGkuYXBwZW5kQ2hpbGQocGVyY2VudCk7CgogICAgb3V0cHV0RWxlbWVudC5hcHBlbmRDaGlsZChsaSk7CgogICAgY29uc3QgZmlsZURhdGFQcm9taXNlID0gbmV3IFByb21pc2UoKHJlc29sdmUpID0+IHsKICAgICAgY29uc3QgcmVhZGVyID0gbmV3IEZpbGVSZWFkZXIoKTsKICAgICAgcmVhZGVyLm9ubG9hZCA9IChlKSA9PiB7CiAgICAgICAgcmVzb2x2ZShlLnRhcmdldC5yZXN1bHQpOwogICAgICB9OwogICAgICByZWFkZXIucmVhZEFzQXJyYXlCdWZmZXIoZmlsZSk7CiAgICB9KTsKICAgIC8vIFdhaXQgZm9yIHRoZSBkYXRhIHRvIGJlIHJlYWR5LgogICAgbGV0IGZpbGVEYXRhID0geWllbGQgewogICAgICBwcm9taXNlOiBmaWxlRGF0YVByb21pc2UsCiAgICAgIHJlc3BvbnNlOiB7CiAgICAgICAgYWN0aW9uOiAnY29udGludWUnLAogICAgICB9CiAgICB9OwoKICAgIC8vIFVzZSBhIGNodW5rZWQgc2VuZGluZyB0byBhdm9pZCBtZXNzYWdlIHNpemUgbGltaXRzLiBTZWUgYi82MjExNTY2MC4KICAgIGxldCBwb3NpdGlvbiA9IDA7CiAgICB3aGlsZSAocG9zaXRpb24gPCBmaWxlRGF0YS5ieXRlTGVuZ3RoKSB7CiAgICAgIGNvbnN0IGxlbmd0aCA9IE1hdGgubWluKGZpbGVEYXRhLmJ5dGVMZW5ndGggLSBwb3NpdGlvbiwgTUFYX1BBWUxPQURfU0laRSk7CiAgICAgIGNvbnN0IGNodW5rID0gbmV3IFVpbnQ4QXJyYXkoZmlsZURhdGEsIHBvc2l0aW9uLCBsZW5ndGgpOwogICAgICBwb3NpdGlvbiArPSBsZW5ndGg7CgogICAgICBjb25zdCBiYXNlNjQgPSBidG9hKFN0cmluZy5mcm9tQ2hhckNvZGUuYXBwbHkobnVsbCwgY2h1bmspKTsKICAgICAgeWllbGQgewogICAgICAgIHJlc3BvbnNlOiB7CiAgICAgICAgICBhY3Rpb246ICdhcHBlbmQnLAogICAgICAgICAgZmlsZTogZmlsZS5uYW1lLAogICAgICAgICAgZGF0YTogYmFzZTY0LAogICAgICAgIH0sCiAgICAgIH07CiAgICAgIHBlcmNlbnQudGV4dENvbnRlbnQgPQogICAgICAgICAgYCR7TWF0aC5yb3VuZCgocG9zaXRpb24gLyBmaWxlRGF0YS5ieXRlTGVuZ3RoKSAqIDEwMCl9JSBkb25lYDsKICAgIH0KICB9CgogIC8vIEFsbCBkb25lLgogIHlpZWxkIHsKICAgIHJlc3BvbnNlOiB7CiAgICAgIGFjdGlvbjogJ2NvbXBsZXRlJywKICAgIH0KICB9Owp9CgpzY29wZS5nb29nbGUgPSBzY29wZS5nb29nbGUgfHwge307CnNjb3BlLmdvb2dsZS5jb2xhYiA9IHNjb3BlLmdvb2dsZS5jb2xhYiB8fCB7fTsKc2NvcGUuZ29vZ2xlLmNvbGFiLl9maWxlcyA9IHsKICBfdXBsb2FkRmlsZXMsCiAgX3VwbG9hZEZpbGVzQ29udGludWUsCn07Cn0pKHNlbGYpOwo=",
              "ok": true,
              "headers": [
                [
                  "content-type",
                  "application/javascript"
                ]
              ],
              "status": 200,
              "status_text": ""
            }
          },
          "base_uri": "https://localhost:8080/",
          "height": 73
        },
        "outputId": "df4f5a26-2b66-4e36-ddc4-042c869ccef2"
      },
      "cell_type": "code",
      "source": [
        "from google.colab import files\n",
        "\n",
        "file = files.upload()"
      ],
      "execution_count": 1,
      "outputs": [
        {
          "output_type": "display_data",
          "data": {
            "text/html": [
              "\n",
              "     <input type=\"file\" id=\"files-f33efa98-7d20-4c56-8a36-d63f73af2826\" name=\"files[]\" multiple disabled />\n",
              "     <output id=\"result-f33efa98-7d20-4c56-8a36-d63f73af2826\">\n",
              "      Upload widget is only available when the cell has been executed in the\n",
              "      current browser session. Please rerun this cell to enable.\n",
              "      </output>\n",
              "      <script src=\"/nbextensions/google.colab/files.js\"></script> "
            ],
            "text/plain": [
              "<IPython.core.display.HTML object>"
            ]
          },
          "metadata": {
            "tags": []
          }
        },
        {
          "output_type": "stream",
          "text": [
            "Saving titanic-data.csv to titanic-data.csv\n"
          ],
          "name": "stdout"
        }
      ]
    },
    {
      "metadata": {
        "id": "fuOJb0Y4rcPZ",
        "colab_type": "text"
      },
      "cell_type": "markdown",
      "source": [
        "# 1 - A Simple Heuristic"
      ]
    },
    {
      "metadata": {
        "id": "2hT6Z016spK5",
        "colab_type": "text"
      },
      "cell_type": "markdown",
      "source": [
        " We would like for you to take your knowledge and intuition about the Titanic and its passengers' attributes to predict whether or not the passengers survived or perished. \n",
        " \n",
        " \n",
        " In this exercise and the following ones, you are given a list of Titantic passengers and their associated information. \n",
        " \n",
        " For this exercise, you need to write a simple heuristic that will use the passengers' gender to predict if that person survived the Titanic disaster. "
      ]
    },
    {
      "metadata": {
        "id": "nJdlHH7gtA7y",
        "colab_type": "text"
      },
      "cell_type": "markdown",
      "source": [
        "  Here's a simple heuristic to start off:\n",
        "       - 1) If the passenger is female, your heuristic should assume that the passenger survived.\n",
        "      - 2) If the passenger is male, you heuristic should assume that the passenger did not survive.\n",
        "    \n",
        "You can access the gender of a passenger via passenger['Sex']. If the passenger is male, passenger['Sex'] will return a string \"male\". If the passenger is female, passenger['Sex'] will return a string \"female\".\n",
        "\n",
        " Write your prediction back into the \"predictions\" dictionary. The key of the dictionary should be the passenger's id (which can be accessed via passenger[\"PassengerId\"]) and the associated value should be 1 if the passenger survied or 0 otherwise. For example, if a passenger is predicted to have survived:\n",
        " \n",
        " \n",
        "    - passenger_id = passenger['PassengerId']\n",
        "    - predictions[passenger_id] = 1\n",
        "\n",
        " And if a passenger is predicted to have perished in the disaster:\n",
        " \n",
        "    - passenger_id = passenger['PassengerId']\n",
        "    - predictions[passenger_id] = 0"
      ]
    },
    {
      "metadata": {
        "id": "aUKtge0grTC2",
        "colab_type": "code",
        "colab": {}
      },
      "cell_type": "code",
      "source": [
        "import numpy\n",
        "import pandas\n",
        "import statsmodels.api as sm\n",
        "\n",
        "def simple_heuristic(file_path):\n",
        "    predictions = {}\n",
        "    df = pandas.read_csv(file_path)\n",
        "    \n",
        "    for passenger_index, passenger in df.iterrows():\n",
        "        passenger_id = passenger['PassengerId']\n",
        "        \n",
        "        if passenger['Sex'] == 'male':\n",
        "          predictions[passenger_id] = 0\n",
        "        elif passenger['Sex'] == 'female':\n",
        "          predictions[passenger_id] = 1\n",
        "          \n",
        "    return predictions\n",
        "\n",
        "simple_heuristic('titanic-data.csv')"
      ],
      "execution_count": 0,
      "outputs": []
    },
    {
      "metadata": {
        "id": "RxCjEqOdre71",
        "colab_type": "text"
      },
      "cell_type": "markdown",
      "source": [
        "# 2- A more Complex Heuristic"
      ]
    },
    {
      "metadata": {
        "id": "Ea5qe9r1wiIp",
        "colab_type": "text"
      },
      "cell_type": "markdown",
      "source": [
        "For this exercise, you need to write a more sophisticated algorithm that will use the passengers' gender and their socioeconomical class and age to predict if they survived the Titanic diaster. \n",
        "   \n",
        "    \n",
        " Here's the algorithm, predict the passenger survived if:\n",
        "    - 1) If the passenger is female or\n",
        "    - 2) if his/her socioeconomic status is high AND if the passenger is under 18\n",
        "    \n",
        " Otherwise, your algorithm should predict that the passenger perished in the disaster.\n"
      ]
    },
    {
      "metadata": {
        "id": "PByX4JRJxKOh",
        "colab_type": "text"
      },
      "cell_type": "markdown",
      "source": [
        "    \n",
        "   Or more specifically in terms of coding:\n",
        "    - female or (high status and under 18)\n",
        "    \n",
        "   You can access the gender of a passenger via passenger['Sex'].\n",
        "   \n",
        "   \n",
        " If the passenger is male, passenger['Sex'] will return a string \"male\".\n",
        " \n",
        " \n",
        " If the passenger is female, passenger['Sex'] will return a string \"female\".\n",
        " \n",
        " ----------------------------------------------------------\n",
        "    \n",
        " You can access the socioeconomic status of a passenger via passenger['Pclass']:\n",
        "\n",
        "High socioeconomic status -- passenger['Pclass'] is 1\n",
        "\n",
        "\n",
        "Medium socioeconomic status -- passenger['Pclass'] is 2\n",
        "\n",
        "\n",
        "Low socioeconomic status -- passenger['Pclass'] is 3\n",
        "\n",
        "----------------------------------------------------------------\n",
        "\n",
        " You can access the age of a passenger via passenger['Age'].\n",
        "    \n",
        "----------------------------------------------------------------\n",
        "\n",
        "Write your prediction back into the \"predictions\" dictionary. The key of the dictionary should be the Passenger's id (which can be accessed via passenger[\"PassengerId\"]) and the associated value should be 1 if the passenger survived or 0 otherwise. \n",
        "\n",
        "\n",
        "\n",
        "For example, if a passenger is predicted to have survived:\n",
        "    - passenger_id = passenger['PassengerId']\n",
        "    - predictions[passenger_id] = 1\n",
        "\n",
        "And if a passenger is predicted to have perished in the disaster:\n",
        "    - passenger_id = passenger['PassengerId']\n",
        "    - predictions[passenger_id] = 0"
      ]
    },
    {
      "metadata": {
        "id": "H2j6kszTrjRI",
        "colab_type": "code",
        "colab": {}
      },
      "cell_type": "code",
      "source": [
        "import numpy\n",
        "import pandas\n",
        "import statsmodels.api as sm\n",
        "\n",
        "def complex_heuristic(file_path):\n",
        "\n",
        "    predictions = {}\n",
        "    df = pandas.read_csv(file_path)\n",
        "    for passenger_index, passenger in df.iterrows():\n",
        "        passenger_id = passenger['PassengerId']\n",
        "        \n",
        "        if passenger['Sex'] == 'female' or ((passenger['Age'] < 18) and (passenger['Pclass']==1)):\n",
        "          predictions[passenger_id] = 1\n",
        "        else:\n",
        "          predictions[passenger_id] = 0\n",
        "\n",
        "    return predictions\n",
        "\n",
        "complex_heuristic('titanic-data.csv')"
      ],
      "execution_count": 0,
      "outputs": []
    },
    {
      "metadata": {
        "id": "u869YH23rkN2",
        "colab_type": "text"
      },
      "cell_type": "markdown",
      "source": [
        "# 3- Your Custom Heuristic"
      ]
    },
    {
      "metadata": {
        "id": "Vl-nhcrT_pif",
        "colab_type": "code",
        "colab": {}
      },
      "cell_type": "code",
      "source": [
        "    '''\n",
        "    For this exercise, you need to write a custom heuristic that will take\n",
        "    in some combination of the passenger's attributes and predict if the passenger\n",
        "    survived the Titanic diaster.\n",
        "\n",
        "    Can your custom heuristic beat 80% accuracy?\n",
        "    \n",
        "    The available attributes are:\n",
        "    Pclass          Passenger Class\n",
        "                    (1 = 1st; 2 = 2nd; 3 = 3rd)\n",
        "    Name            Name\n",
        "    Sex             Sex\n",
        "    Age             Age\n",
        "    SibSp           Number of Siblings/Spouses Aboard\n",
        "    Parch           Number of Parents/Children Aboard\n",
        "    Ticket          Ticket Number\n",
        "    Fare            Passenger Fare\n",
        "    Cabin           Cabin\n",
        "    Embarked        Port of Embarkation\n",
        "                    (C = Cherbourg; Q = Queenstown; S = Southampton)\n",
        "                    \n",
        "    SPECIAL NOTES:\n",
        "    Pclass is a proxy for socioeconomic status (SES)\n",
        "    1st ~ Upper; 2nd ~ Middle; 3rd ~ Lower\n",
        "\n",
        "    Age is in years; fractional if age less than one\n",
        "    If the age is estimated, it is in the form xx.5\n",
        "\n",
        "    With respect to the family relation variables (i.e. SibSp and Parch)\n",
        "    some relations were ignored. The following are the definitions used\n",
        "    for SibSp and Parch.\n",
        "\n",
        "    Sibling:  brother, sister, stepbrother, or stepsister of passenger aboard Titanic\n",
        "    Spouse:   husband or wife of passenger aboard Titanic (mistresses and fiancees ignored)\n",
        "    Parent:   mother or father of passenger aboard Titanic\n",
        "    Child:    son, daughter, stepson, or stepdaughter of passenger aboard Titanic\n",
        "    \n",
        "    Write your prediction back into the \"predictions\" dictionary. The\n",
        "    key of the dictionary should be the passenger's id (which can be accessed\n",
        "    via passenger[\"PassengerId\"]) and the associating value should be 1 if the\n",
        "    passenger survvied or 0 otherwise. \n",
        "\n",
        "    For example, if a passenger is predicted to have survived:\n",
        "    passenger_id = passenger['PassengerId']\n",
        "    predictions[passenger_id] = 1\n",
        "\n",
        "    And if a passenger is predicted to have perished in the disaster:\n",
        "    passenger_id = passenger['PassengerId']\n",
        "    predictions[passenger_id] = 0\n",
        "    \n",
        "    '''"
      ],
      "execution_count": 0,
      "outputs": []
    },
    {
      "metadata": {
        "id": "UIrVKySFrpkL",
        "colab_type": "code",
        "colab": {}
      },
      "cell_type": "code",
      "source": [
        "import numpy\n",
        "import pandas\n",
        "import statsmodels.api as sm\n",
        "\n",
        "def custom_heuristic(file_path):\n",
        "\n",
        "    predictions = {}\n",
        "    df = pandas.read_csv(file_path)\n",
        "    for passenger_index, passenger in df.iterrows():\n",
        "      passenger_id = passenger['PassengerId']\n",
        "      \n",
        "      if passenger['SibSp']==0 and passenger['Parch']==0 and passenger['Pclass']==3:\n",
        "        predictions[passenger_id] = 0\n",
        "        \n",
        "      elif (passenger['Age'] < 10):\n",
        "        predictions[passenger_id] = 1 \n",
        "    \n",
        "      elif passenger['Sex']=='female' and passenger['Pclass']<3:\n",
        "        predictions[passenger_id] = 1\n",
        "      \n",
        "      elif passenger['Age'] >50:\n",
        "        predictions[passenger_id] = 0\n",
        "        \n",
        "      else:\n",
        "        predictions[passenger_id] = 0\n",
        "        \n",
        "    return predictions"
      ],
      "execution_count": 0,
      "outputs": []
    },
    {
      "metadata": {
        "id": "bvzgUeraCTzk",
        "colab_type": "code",
        "colab": {}
      },
      "cell_type": "code",
      "source": [
        "# Your heuristic is 79.35% accurate."
      ],
      "execution_count": 0,
      "outputs": []
    }
  ]
}