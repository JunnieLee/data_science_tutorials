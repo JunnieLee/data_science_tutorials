{
  "nbformat": 4,
  "nbformat_minor": 0,
  "metadata": {
    "colab": {
      "name": "Intro to Data Analysis_2.ipynb",
      "version": "0.3.2",
      "provenance": [],
      "collapsed_sections": [],
      "include_colab_link": true
    },
    "kernelspec": {
      "name": "python3",
      "display_name": "Python 3"
    }
  },
  "cells": [
    {
      "cell_type": "markdown",
      "metadata": {
        "id": "view-in-github",
        "colab_type": "text"
      },
      "source": [
        "<a href=\"https://colab.research.google.com/github/JunnieLee/data_science_tutorials/blob/master/Intro_to_Data_Analysis_2.ipynb\" target=\"_parent\"><img src=\"https://colab.research.google.com/assets/colab-badge.svg\" alt=\"Open In Colab\"/></a>"
      ]
    },
    {
      "metadata": {
        "id": "NvweW_nQV_BR",
        "colab_type": "text"
      },
      "cell_type": "markdown",
      "source": [
        "# [1] Numpy Arrays"
      ]
    },
    {
      "metadata": {
        "id": "XST2E_dUQiZP",
        "colab_type": "code",
        "colab": {}
      },
      "cell_type": "code",
      "source": [
        "import numpy as np\n",
        "\n",
        "# First 20 countries with employment data\n",
        "countries = np.array([\n",
        "    'Afghanistan', 'Albania', 'Algeria', 'Angola', 'Argentina',\n",
        "    'Armenia', 'Australia', 'Austria', 'Azerbaijan', 'Bahamas',\n",
        "    'Bahrain', 'Bangladesh', 'Barbados', 'Belarus', 'Belgium',\n",
        "    'Belize', 'Benin', 'Bhutan', 'Bolivia',\n",
        "    'Bosnia and Herzegovina'\n",
        "])\n",
        "\n",
        "# Employment data in 2007 for those 20 countries\n",
        "employment = np.array([\n",
        "    55.70000076,  51.40000153,  50.5       ,  75.69999695,\n",
        "    58.40000153,  40.09999847,  61.5       ,  57.09999847,\n",
        "    60.90000153,  66.59999847,  60.40000153,  68.09999847,\n",
        "    66.90000153,  53.40000153,  48.59999847,  56.79999924,\n",
        "    71.59999847,  58.40000153,  70.40000153,  41.20000076\n",
        "])\n"
      ],
      "execution_count": 0,
      "outputs": []
    },
    {
      "metadata": {
        "id": "GnQppgRBmTH8",
        "colab_type": "code",
        "colab": {
          "base_uri": "https://localhost:8080/",
          "height": 50
        },
        "outputId": "8afd2c1c-6583-406b-d16b-f8a6ae2eec36"
      },
      "cell_type": "code",
      "source": [
        "# Accessing elements\n",
        "    print(countries[0])\n",
        "    print(countries[3])"
      ],
      "execution_count": 2,
      "outputs": [
        {
          "output_type": "stream",
          "text": [
            "Afghanistan\n",
            "Angola\n"
          ],
          "name": "stdout"
        }
      ]
    },
    {
      "metadata": {
        "id": "w7STM8-YmepL",
        "colab_type": "code",
        "colab": {
          "base_uri": "https://localhost:8080/",
          "height": 134
        },
        "outputId": "54c9b903-3595-40f4-e235-023aba831985"
      },
      "cell_type": "code",
      "source": [
        "# Slicing\n",
        "print(countries[0:3])\n",
        "print(countries[:3])\n",
        "print(countries[17:]) \n",
        "print(countries[:]) "
      ],
      "execution_count": 3,
      "outputs": [
        {
          "output_type": "stream",
          "text": [
            "['Afghanistan' 'Albania' 'Algeria']\n",
            "['Afghanistan' 'Albania' 'Algeria']\n",
            "['Bhutan' 'Bolivia' 'Bosnia and Herzegovina']\n",
            "['Afghanistan' 'Albania' 'Algeria' 'Angola' 'Argentina' 'Armenia'\n",
            " 'Australia' 'Austria' 'Azerbaijan' 'Bahamas' 'Bahrain' 'Bangladesh'\n",
            " 'Barbados' 'Belarus' 'Belgium' 'Belize' 'Benin' 'Bhutan' 'Bolivia'\n",
            " 'Bosnia and Herzegovina']\n"
          ],
          "name": "stdout"
        }
      ]
    },
    {
      "metadata": {
        "id": "DnR6nBq6msQp",
        "colab_type": "code",
        "colab": {
          "base_uri": "https://localhost:8080/",
          "height": 118
        },
        "outputId": "6431121e-ffa7-40be-be05-192d88b401c7"
      },
      "cell_type": "code",
      "source": [
        "# Element types\n",
        "print(countries.dtype)\n",
        "print(employment.dtype)\n",
        "print(np.array([0, 1, 2, 3]).dtype)\n",
        "print(np.array([1.0, 1.5, 2.0, 2.5]).dtype)\n",
        "print(np.array([True, False, True]).dtype)\n",
        "print(np.array(['AL', 'AK', 'AZ', 'AR', 'CA']).dtype)"
      ],
      "execution_count": 4,
      "outputs": [
        {
          "output_type": "stream",
          "text": [
            "<U22\n",
            "float64\n",
            "int64\n",
            "float64\n",
            "bool\n",
            "<U2\n"
          ],
          "name": "stdout"
        }
      ]
    },
    {
      "metadata": {
        "id": "ZE29SKHnm9zC",
        "colab_type": "code",
        "colab": {
          "base_uri": "https://localhost:8080/",
          "height": 689
        },
        "outputId": "2d024e00-0c60-465a-f9a3-00bc894b21ed"
      },
      "cell_type": "code",
      "source": [
        "# Looping\n",
        "for country in countries:\n",
        "  print('Examining country {}'.format(country))\n",
        "\n",
        "for i in range(len(countries)):\n",
        "  country = countries[i]\n",
        "  country_employment = employment[i]\n",
        "  print('Country {} has employment {}'.format(country,country_employment))"
      ],
      "execution_count": 5,
      "outputs": [
        {
          "output_type": "stream",
          "text": [
            "Examining country Afghanistan\n",
            "Examining country Albania\n",
            "Examining country Algeria\n",
            "Examining country Angola\n",
            "Examining country Argentina\n",
            "Examining country Armenia\n",
            "Examining country Australia\n",
            "Examining country Austria\n",
            "Examining country Azerbaijan\n",
            "Examining country Bahamas\n",
            "Examining country Bahrain\n",
            "Examining country Bangladesh\n",
            "Examining country Barbados\n",
            "Examining country Belarus\n",
            "Examining country Belgium\n",
            "Examining country Belize\n",
            "Examining country Benin\n",
            "Examining country Bhutan\n",
            "Examining country Bolivia\n",
            "Examining country Bosnia and Herzegovina\n",
            "Country Afghanistan has employment 55.70000076\n",
            "Country Albania has employment 51.40000153\n",
            "Country Algeria has employment 50.5\n",
            "Country Angola has employment 75.69999695\n",
            "Country Argentina has employment 58.40000153\n",
            "Country Armenia has employment 40.09999847\n",
            "Country Australia has employment 61.5\n",
            "Country Austria has employment 57.09999847\n",
            "Country Azerbaijan has employment 60.90000153\n",
            "Country Bahamas has employment 66.59999847\n",
            "Country Bahrain has employment 60.40000153\n",
            "Country Bangladesh has employment 68.09999847\n",
            "Country Barbados has employment 66.90000153\n",
            "Country Belarus has employment 53.40000153\n",
            "Country Belgium has employment 48.59999847\n",
            "Country Belize has employment 56.79999924\n",
            "Country Benin has employment 71.59999847\n",
            "Country Bhutan has employment 58.40000153\n",
            "Country Bolivia has employment 70.40000153\n",
            "Country Bosnia and Herzegovina has employment 41.20000076\n"
          ],
          "name": "stdout"
        }
      ]
    },
    {
      "metadata": {
        "id": "Ficvik6inM-5",
        "colab_type": "code",
        "colab": {
          "base_uri": "https://localhost:8080/",
          "height": 84
        },
        "outputId": "5855a0d2-77b8-4549-ed11-dda60f6453c7"
      },
      "cell_type": "code",
      "source": [
        "# Numpy functions\n",
        "print(employment.mean()) \n",
        "print(employment.std())\n",
        "print(employment.max())\n",
        "print(employment.sum())"
      ],
      "execution_count": 6,
      "outputs": [
        {
          "output_type": "stream",
          "text": [
            "58.68500003850001\n",
            "9.338269113687888\n",
            "75.69999695\n",
            "1173.70000077\n"
          ],
          "name": "stdout"
        }
      ]
    },
    {
      "metadata": {
        "id": "JqTT5zR6nyMm",
        "colab_type": "code",
        "colab": {}
      },
      "cell_type": "code",
      "source": [
        "def max_employment(countries, employment):   \n",
        "  max_country = None      \n",
        "  max_employment = 0   \n",
        "  \n",
        "  for i in range(len(contries)):\n",
        "    country = countries[i]\n",
        "    country_employment = employment[i]\n",
        "    \n",
        "    if country_employment > max_employment:\n",
        "      max_country = country\n",
        "      max_employment = country_employment\n",
        "    \n",
        "  return (max_country, max_value)"
      ],
      "execution_count": 0,
      "outputs": []
    },
    {
      "metadata": {
        "id": "Zd3O3G2mosGy",
        "colab_type": "code",
        "colab": {}
      },
      "cell_type": "code",
      "source": [
        "def max_employment(countries, employment):\n",
        "  i = employment.argmax() # returns the index where the max value is located\n",
        "  return (countries[i], employment[i])"
      ],
      "execution_count": 0,
      "outputs": []
    },
    {
      "metadata": {
        "id": "bIX88JrJ6wSE",
        "colab_type": "text"
      },
      "cell_type": "markdown",
      "source": [
        "# [2]  Vectorized Operations"
      ]
    },
    {
      "metadata": {
        "id": "Kn_HExjIpHST",
        "colab_type": "code",
        "colab": {
          "base_uri": "https://localhost:8080/",
          "height": 101
        },
        "outputId": "dab5b213-e951-477f-86a3-401aeccaa087"
      },
      "cell_type": "code",
      "source": [
        "# Arithmetic operations between 2 NumPy arrays\n",
        "\n",
        "import numpy as np\n",
        "\n",
        "a = np.array([1, 2, 3, 4])\n",
        "b = np.array([1, 2, 1, 2])\n",
        "    \n",
        "print(a + b)\n",
        "print(a - b)\n",
        "print(a * b)\n",
        "print(a / b)\n",
        "print(a ** b)\n"
      ],
      "execution_count": 9,
      "outputs": [
        {
          "output_type": "stream",
          "text": [
            "[2 4 4 6]\n",
            "[0 0 2 2]\n",
            "[1 4 3 8]\n",
            "[1. 1. 3. 2.]\n",
            "[ 1  4  3 16]\n"
          ],
          "name": "stdout"
        }
      ]
    },
    {
      "metadata": {
        "id": "MxOkwLac3E-9",
        "colab_type": "code",
        "colab": {
          "base_uri": "https://localhost:8080/",
          "height": 101
        },
        "outputId": "66d84db0-6b78-4bfe-b23a-20b7fba4a7a2"
      },
      "cell_type": "code",
      "source": [
        "# Arithmetic operations between a NumPy array and a single number\n",
        "\n",
        "a = np.array([1, 2, 3, 4])\n",
        "b = 2\n",
        "\n",
        "print(a + b)\n",
        "print(a - b)\n",
        "print(a * b)\n",
        "print(a / b)\n",
        "print(a ** b)"
      ],
      "execution_count": 10,
      "outputs": [
        {
          "output_type": "stream",
          "text": [
            "[3 4 5 6]\n",
            "[-1  0  1  2]\n",
            "[2 4 6 8]\n",
            "[0.5 1.  1.5 2. ]\n",
            "[ 1  4  9 16]\n"
          ],
          "name": "stdout"
        }
      ]
    },
    {
      "metadata": {
        "id": "DX1FqDfo3RYo",
        "colab_type": "code",
        "colab": {
          "base_uri": "https://localhost:8080/",
          "height": 134
        },
        "outputId": "9bfa6188-8cdb-4cbe-bc9e-e15f4a7a6686"
      },
      "cell_type": "code",
      "source": [
        "# Logical operations with NumPy arrays\n",
        "\n",
        "a = np.array([True, True, False, False])\n",
        "b = np.array([True, False, True, False])\n",
        "\n",
        "print(a & b)\n",
        "print(a | b)\n",
        "print(~a)\n",
        "print(a & True)\n",
        "print(a & False)\n",
        "print(a | True)\n",
        "print(a | False)"
      ],
      "execution_count": 11,
      "outputs": [
        {
          "output_type": "stream",
          "text": [
            "[ True False False False]\n",
            "[ True  True  True False]\n",
            "[False False  True  True]\n",
            "[ True  True False False]\n",
            "[False False False False]\n",
            "[ True  True  True  True]\n",
            "[ True  True False False]\n"
          ],
          "name": "stdout"
        }
      ]
    },
    {
      "metadata": {
        "id": "OQ31aThi3qn0",
        "colab_type": "code",
        "colab": {
          "base_uri": "https://localhost:8080/",
          "height": 118
        },
        "outputId": "a11bbead-6b2a-4e2d-f93d-3bf75a4ebb23"
      },
      "cell_type": "code",
      "source": [
        "# Comparison operations between 2 NumPy Arrays\n",
        "\n",
        "a = np.array([1, 2, 3, 4, 5])\n",
        "b = np.array([5, 4, 3, 2, 1])\n",
        "\n",
        "print(a > b)\n",
        "print(a >= b)\n",
        "print(a < b)\n",
        "print(a <= b)\n",
        "print(a == b)\n",
        "print(a != b)"
      ],
      "execution_count": 12,
      "outputs": [
        {
          "output_type": "stream",
          "text": [
            "[False False False  True  True]\n",
            "[False False  True  True  True]\n",
            "[ True  True False False False]\n",
            "[ True  True  True False False]\n",
            "[False False  True False False]\n",
            "[ True  True False  True  True]\n"
          ],
          "name": "stdout"
        }
      ]
    },
    {
      "metadata": {
        "id": "2CpK5Ar74For",
        "colab_type": "code",
        "colab": {
          "base_uri": "https://localhost:8080/",
          "height": 118
        },
        "outputId": "e9a2edf0-444b-4554-9f15-88d03c5aa343"
      },
      "cell_type": "code",
      "source": [
        "# Comparison operations between a NumPy array and a single number\n",
        "\n",
        "a = np.array([1, 2, 3, 4])\n",
        "b = 2\n",
        "    \n",
        "print(a > b)\n",
        "print(a >= b)\n",
        "print(a < b)\n",
        "print(a <= b)\n",
        "print(a == b)\n",
        "print(a != b)"
      ],
      "execution_count": 13,
      "outputs": [
        {
          "output_type": "stream",
          "text": [
            "[False False  True  True]\n",
            "[False  True  True  True]\n",
            "[ True False False False]\n",
            "[ True  True False False]\n",
            "[False  True False False]\n",
            "[ True False  True  True]\n"
          ],
          "name": "stdout"
        }
      ]
    },
    {
      "metadata": {
        "id": "85ppovb84mEb",
        "colab_type": "code",
        "colab": {}
      },
      "cell_type": "code",
      "source": [
        "# First 20 countries with school completion data\n",
        "countries = np.array([\n",
        "       'Algeria', 'Argentina', 'Armenia', 'Aruba', 'Austria','Azerbaijan',\n",
        "       'Bahamas', 'Barbados', 'Belarus', 'Belgium', 'Belize', 'Bolivia',\n",
        "       'Botswana', 'Brunei', 'Bulgaria', 'Burkina Faso', 'Burundi',\n",
        "       'Cambodia', 'Cameroon', 'Cape Verde'\n",
        "])\n",
        "\n",
        "# Female school completion rate in 2007 for those 20 countries\n",
        "female_completion = np.array([\n",
        "    97.35583,  104.62379,  103.02998,   95.14321,  103.69019,\n",
        "    98.49185,  100.88828,   95.43974,   92.11484,   91.54804,\n",
        "    95.98029,   98.22902,   96.12179,  119.28105,   97.84627,\n",
        "    29.07386,   38.41644,   90.70509,   51.7478 ,   95.45072\n",
        "])\n",
        "\n",
        "# Male school completion rate in 2007 for those 20 countries\n",
        "male_completion = np.array([\n",
        "     95.47622,  100.66476,   99.7926 ,   91.48936,  103.22096,\n",
        "     97.80458,  103.81398,   88.11736,   93.55611,   87.76347,\n",
        "    102.45714,   98.73953,   92.22388,  115.3892 ,   98.70502,\n",
        "     37.00692,   45.39401,   91.22084,   62.42028,   90.66958\n",
        "])\n",
        "\n",
        "def overall_completion_rate(female_completion, male_completion):\n",
        "    return (female_completion + male_completion)/2"
      ],
      "execution_count": 0,
      "outputs": []
    },
    {
      "metadata": {
        "id": "xR4_nMRL6THW",
        "colab_type": "code",
        "colab": {
          "base_uri": "https://localhost:8080/",
          "height": 84
        },
        "outputId": "a022d206-605b-4354-d2ba-71e94ef1e5b4"
      },
      "cell_type": "code",
      "source": [
        "overall_completion_rate(female_completion, male_completion)"
      ],
      "execution_count": 15,
      "outputs": [
        {
          "output_type": "execute_result",
          "data": {
            "text/plain": [
              "array([ 96.416025, 102.644275, 101.41129 ,  93.316285, 103.455575,\n",
              "        98.148215, 102.35113 ,  91.77855 ,  92.835475,  89.655755,\n",
              "        99.218715,  98.484275,  94.172835, 117.335125,  98.275645,\n",
              "        33.04039 ,  41.905225,  90.962965,  57.08404 ,  93.06015 ])"
            ]
          },
          "metadata": {
            "tags": []
          },
          "execution_count": 15
        }
      ]
    },
    {
      "metadata": {
        "id": "rv6UTF_O6XuA",
        "colab_type": "code",
        "colab": {
          "base_uri": "https://localhost:8080/",
          "height": 54
        },
        "outputId": "4d42df14-d041-4534-8255-e20178ec3940"
      },
      "cell_type": "code",
      "source": [
        "def standardize_data(values):\n",
        "    return (values - values.mean())/values.std()\n",
        "  \n",
        "print(sorted(standardize_data(employment)))"
      ],
      "execution_count": 18,
      "outputs": [
        {
          "output_type": "stream",
          "text": [
            "[-1.9901976846285574, -1.872402590419114, -1.0799647606768548, -0.8765007667751364, -0.7801229992206772, -0.565950546526159, -0.3196523083838568, -0.20185762217293615, -0.1697318367251522, -0.03051941478986332, -0.03051941478986332, 0.18365303790465493, 0.23719615107828448, 0.30144772304471396, 0.8475873135738095, 0.8797135091618392, 1.008216653094698, 1.254515301377246, 1.383018445310105, 1.822071810562803]\n"
          ],
          "name": "stdout"
        }
      ]
    },
    {
      "metadata": {
        "id": "f6EPtnZWAMRY",
        "colab_type": "code",
        "colab": {
          "base_uri": "https://localhost:8080/",
          "height": 50
        },
        "outputId": "0e69a583-ce00-41c6-f252-2e45a7d80938"
      },
      "cell_type": "code",
      "source": [
        "# Using index arrays\n",
        "\n",
        "a = np.array([1, 2, 3, 4])\n",
        "b = np.array([True, True, False, False])\n",
        "    \n",
        "print(a[b])\n",
        "print(a[np.array([True, False, True, False])])"
      ],
      "execution_count": 19,
      "outputs": [
        {
          "output_type": "stream",
          "text": [
            "[1 2]\n",
            "[1 3]\n"
          ],
          "name": "stdout"
        }
      ]
    },
    {
      "metadata": {
        "id": "l3pPRFVODcDB",
        "colab_type": "code",
        "colab": {
          "base_uri": "https://localhost:8080/",
          "height": 50
        },
        "outputId": "d0f117d6-08e0-4477-fea4-f6af25d7836a"
      },
      "cell_type": "code",
      "source": [
        "# Creating the index array using vectorized operations\n",
        "\n",
        "a = np.array([1, 2, 3, 2, 1])\n",
        "b = (a >= 2)\n",
        "\n",
        "print(a[b])\n",
        "print(a[a >= 2])"
      ],
      "execution_count": 20,
      "outputs": [
        {
          "output_type": "stream",
          "text": [
            "[2 3 2]\n",
            "[2 3 2]\n"
          ],
          "name": "stdout"
        }
      ]
    },
    {
      "metadata": {
        "id": "9A0HK59kDm1c",
        "colab_type": "code",
        "colab": {
          "base_uri": "https://localhost:8080/",
          "height": 50
        },
        "outputId": "2140b9db-be8b-46fc-acdf-632ece5640dd"
      },
      "cell_type": "code",
      "source": [
        "# Creating the index array using vectorized operations on another array\n",
        "\n",
        "a = np.array([1, 2, 3, 4, 5])\n",
        "b = np.array([1, 2, 3, 2, 1])\n",
        "    \n",
        "print(b == 2) \n",
        "print(a[b == 2])"
      ],
      "execution_count": 21,
      "outputs": [
        {
          "output_type": "stream",
          "text": [
            "[False  True False  True False]\n",
            "[2 4]\n"
          ],
          "name": "stdout"
        }
      ]
    },
    {
      "metadata": {
        "id": "NiQKTinXEO1E",
        "colab_type": "code",
        "colab": {}
      },
      "cell_type": "code",
      "source": [
        "# Time spent in the classroom in the first week for 20 students\n",
        "time_spent = np.array([\n",
        "       12.89697233,    0.        ,   64.55043217,    0.        ,\n",
        "       24.2315615 ,   39.991625  ,    0.        ,    0.        ,\n",
        "      147.20683783,    0.        ,    0.        ,    0.        ,\n",
        "       45.18261617,  157.60454283,  133.2434615 ,   52.85000767,\n",
        "        0.        ,   54.9204785 ,   26.78142417,    0.\n",
        "])\n",
        "\n",
        "# Days to cancel for 20 students\n",
        "days_to_cancel = np.array([\n",
        "      4,   5,  37,   3,  12,   4,  35,  38,   5,  37,   3,   3,  68,\n",
        "     38,  98,   2, 249,   2, 127,  35\n",
        "])"
      ],
      "execution_count": 0,
      "outputs": []
    },
    {
      "metadata": {
        "id": "86EeohB3D_Yf",
        "colab_type": "code",
        "colab": {
          "base_uri": "https://localhost:8080/",
          "height": 34
        },
        "outputId": "8f8e5cb2-85d2-4696-afdd-bff9aa96354e"
      },
      "cell_type": "code",
      "source": [
        "def mean_time_for_paid_students(time_spent, days_to_cancel):\n",
        "    return time_spent[days_to_cancel >= 7].mean()\n",
        "\n",
        "mean_time_for_paid_students(time_spent, days_to_cancel)"
      ],
      "execution_count": 23,
      "outputs": [
        {
          "output_type": "execute_result",
          "data": {
            "text/plain": [
              "41.05400348545454"
            ]
          },
          "metadata": {
            "tags": []
          },
          "execution_count": 23
        }
      ]
    },
    {
      "metadata": {
        "id": "PiKWrPYAE6Ji",
        "colab_type": "code",
        "colab": {}
      },
      "cell_type": "code",
      "source": [
        ""
      ],
      "execution_count": 0,
      "outputs": []
    }
  ]
}