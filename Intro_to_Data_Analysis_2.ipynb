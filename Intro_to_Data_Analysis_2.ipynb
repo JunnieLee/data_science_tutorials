{
  "nbformat": 4,
  "nbformat_minor": 0,
  "metadata": {
    "colab": {
      "name": "Intro to Data Analysis_2.ipynb",
      "version": "0.3.2",
      "provenance": [],
      "collapsed_sections": [],
      "include_colab_link": true
    },
    "kernelspec": {
      "name": "python3",
      "display_name": "Python 3"
    }
  },
  "cells": [
    {
      "cell_type": "markdown",
      "metadata": {
        "id": "view-in-github",
        "colab_type": "text"
      },
      "source": [
        "<a href=\"https://colab.research.google.com/github/JunnieLee/data_science_tutorials/blob/master/Intro_to_Data_Analysis_2.ipynb\" target=\"_parent\"><img src=\"https://colab.research.google.com/assets/colab-badge.svg\" alt=\"Open In Colab\"/></a>"
      ]
    },
    {
      "metadata": {
        "id": "NvweW_nQV_BR",
        "colab_type": "text"
      },
      "cell_type": "markdown",
      "source": [
        "# [1] Numpy Arrays"
      ]
    },
    {
      "metadata": {
        "id": "cmgrFLZybekc",
        "colab_type": "text"
      },
      "cell_type": "markdown",
      "source": [
        "- numpy basics\n",
        "\n",
        "- https://blog.naver.com/heunghari/221445512331 "
      ]
    },
    {
      "metadata": {
        "id": "XST2E_dUQiZP",
        "colab_type": "code",
        "colab": {}
      },
      "cell_type": "code",
      "source": [
        "import numpy as np\n",
        "\n",
        "# First 20 countries with employment data\n",
        "countries = np.array([\n",
        "    'Afghanistan', 'Albania', 'Algeria', 'Angola', 'Argentina',\n",
        "    'Armenia', 'Australia', 'Austria', 'Azerbaijan', 'Bahamas',\n",
        "    'Bahrain', 'Bangladesh', 'Barbados', 'Belarus', 'Belgium',\n",
        "    'Belize', 'Benin', 'Bhutan', 'Bolivia',\n",
        "    'Bosnia and Herzegovina'\n",
        "])\n",
        "\n",
        "# Employment data in 2007 for those 20 countries\n",
        "employment = np.array([\n",
        "    55.70000076,  51.40000153,  50.5       ,  75.69999695,\n",
        "    58.40000153,  40.09999847,  61.5       ,  57.09999847,\n",
        "    60.90000153,  66.59999847,  60.40000153,  68.09999847,\n",
        "    66.90000153,  53.40000153,  48.59999847,  56.79999924,\n",
        "    71.59999847,  58.40000153,  70.40000153,  41.20000076\n",
        "])\n"
      ],
      "execution_count": 0,
      "outputs": []
    },
    {
      "metadata": {
        "id": "GnQppgRBmTH8",
        "colab_type": "code",
        "colab": {
          "base_uri": "https://localhost:8080/",
          "height": 50
        },
        "outputId": "8afd2c1c-6583-406b-d16b-f8a6ae2eec36"
      },
      "cell_type": "code",
      "source": [
        "# Accessing elements\n",
        "    print(countries[0])\n",
        "    print(countries[3])"
      ],
      "execution_count": 2,
      "outputs": [
        {
          "output_type": "stream",
          "text": [
            "Afghanistan\n",
            "Angola\n"
          ],
          "name": "stdout"
        }
      ]
    },
    {
      "metadata": {
        "id": "w7STM8-YmepL",
        "colab_type": "code",
        "colab": {
          "base_uri": "https://localhost:8080/",
          "height": 134
        },
        "outputId": "54c9b903-3595-40f4-e235-023aba831985"
      },
      "cell_type": "code",
      "source": [
        "# Slicing\n",
        "print(countries[0:3])\n",
        "print(countries[:3])\n",
        "print(countries[17:]) \n",
        "print(countries[:]) "
      ],
      "execution_count": 3,
      "outputs": [
        {
          "output_type": "stream",
          "text": [
            "['Afghanistan' 'Albania' 'Algeria']\n",
            "['Afghanistan' 'Albania' 'Algeria']\n",
            "['Bhutan' 'Bolivia' 'Bosnia and Herzegovina']\n",
            "['Afghanistan' 'Albania' 'Algeria' 'Angola' 'Argentina' 'Armenia'\n",
            " 'Australia' 'Austria' 'Azerbaijan' 'Bahamas' 'Bahrain' 'Bangladesh'\n",
            " 'Barbados' 'Belarus' 'Belgium' 'Belize' 'Benin' 'Bhutan' 'Bolivia'\n",
            " 'Bosnia and Herzegovina']\n"
          ],
          "name": "stdout"
        }
      ]
    },
    {
      "metadata": {
        "id": "DnR6nBq6msQp",
        "colab_type": "code",
        "colab": {
          "base_uri": "https://localhost:8080/",
          "height": 118
        },
        "outputId": "6431121e-ffa7-40be-be05-192d88b401c7"
      },
      "cell_type": "code",
      "source": [
        "# Element types\n",
        "print(countries.dtype)\n",
        "print(employment.dtype)\n",
        "print(np.array([0, 1, 2, 3]).dtype)\n",
        "print(np.array([1.0, 1.5, 2.0, 2.5]).dtype)\n",
        "print(np.array([True, False, True]).dtype)\n",
        "print(np.array(['AL', 'AK', 'AZ', 'AR', 'CA']).dtype)"
      ],
      "execution_count": 4,
      "outputs": [
        {
          "output_type": "stream",
          "text": [
            "<U22\n",
            "float64\n",
            "int64\n",
            "float64\n",
            "bool\n",
            "<U2\n"
          ],
          "name": "stdout"
        }
      ]
    },
    {
      "metadata": {
        "id": "ZE29SKHnm9zC",
        "colab_type": "code",
        "colab": {
          "base_uri": "https://localhost:8080/",
          "height": 689
        },
        "outputId": "2d024e00-0c60-465a-f9a3-00bc894b21ed"
      },
      "cell_type": "code",
      "source": [
        "# Looping\n",
        "for country in countries:\n",
        "  print('Examining country {}'.format(country))\n",
        "\n",
        "for i in range(len(countries)):\n",
        "  country = countries[i]\n",
        "  country_employment = employment[i]\n",
        "  print('Country {} has employment {}'.format(country,country_employment))"
      ],
      "execution_count": 5,
      "outputs": [
        {
          "output_type": "stream",
          "text": [
            "Examining country Afghanistan\n",
            "Examining country Albania\n",
            "Examining country Algeria\n",
            "Examining country Angola\n",
            "Examining country Argentina\n",
            "Examining country Armenia\n",
            "Examining country Australia\n",
            "Examining country Austria\n",
            "Examining country Azerbaijan\n",
            "Examining country Bahamas\n",
            "Examining country Bahrain\n",
            "Examining country Bangladesh\n",
            "Examining country Barbados\n",
            "Examining country Belarus\n",
            "Examining country Belgium\n",
            "Examining country Belize\n",
            "Examining country Benin\n",
            "Examining country Bhutan\n",
            "Examining country Bolivia\n",
            "Examining country Bosnia and Herzegovina\n",
            "Country Afghanistan has employment 55.70000076\n",
            "Country Albania has employment 51.40000153\n",
            "Country Algeria has employment 50.5\n",
            "Country Angola has employment 75.69999695\n",
            "Country Argentina has employment 58.40000153\n",
            "Country Armenia has employment 40.09999847\n",
            "Country Australia has employment 61.5\n",
            "Country Austria has employment 57.09999847\n",
            "Country Azerbaijan has employment 60.90000153\n",
            "Country Bahamas has employment 66.59999847\n",
            "Country Bahrain has employment 60.40000153\n",
            "Country Bangladesh has employment 68.09999847\n",
            "Country Barbados has employment 66.90000153\n",
            "Country Belarus has employment 53.40000153\n",
            "Country Belgium has employment 48.59999847\n",
            "Country Belize has employment 56.79999924\n",
            "Country Benin has employment 71.59999847\n",
            "Country Bhutan has employment 58.40000153\n",
            "Country Bolivia has employment 70.40000153\n",
            "Country Bosnia and Herzegovina has employment 41.20000076\n"
          ],
          "name": "stdout"
        }
      ]
    },
    {
      "metadata": {
        "id": "Ficvik6inM-5",
        "colab_type": "code",
        "colab": {
          "base_uri": "https://localhost:8080/",
          "height": 84
        },
        "outputId": "5855a0d2-77b8-4549-ed11-dda60f6453c7"
      },
      "cell_type": "code",
      "source": [
        "# Numpy functions\n",
        "print(employment.mean()) \n",
        "print(employment.std())\n",
        "print(employment.max())\n",
        "print(employment.sum())"
      ],
      "execution_count": 6,
      "outputs": [
        {
          "output_type": "stream",
          "text": [
            "58.68500003850001\n",
            "9.338269113687888\n",
            "75.69999695\n",
            "1173.70000077\n"
          ],
          "name": "stdout"
        }
      ]
    },
    {
      "metadata": {
        "id": "JqTT5zR6nyMm",
        "colab_type": "code",
        "colab": {}
      },
      "cell_type": "code",
      "source": [
        "def max_employment(countries, employment):   \n",
        "  max_country = None      \n",
        "  max_employment = 0   \n",
        "  \n",
        "  for i in range(len(contries)):\n",
        "    country = countries[i]\n",
        "    country_employment = employment[i]\n",
        "    \n",
        "    if country_employment > max_employment:\n",
        "      max_country = country\n",
        "      max_employment = country_employment\n",
        "    \n",
        "  return (max_country, max_value)"
      ],
      "execution_count": 0,
      "outputs": []
    },
    {
      "metadata": {
        "id": "Zd3O3G2mosGy",
        "colab_type": "code",
        "colab": {}
      },
      "cell_type": "code",
      "source": [
        "def max_employment(countries, employment):\n",
        "  i = employment.argmax() # returns the index where the max value is located\n",
        "  return (countries[i], employment[i])"
      ],
      "execution_count": 0,
      "outputs": []
    },
    {
      "metadata": {
        "id": "bIX88JrJ6wSE",
        "colab_type": "text"
      },
      "cell_type": "markdown",
      "source": [
        "# [2]  Vectorized Operations"
      ]
    },
    {
      "metadata": {
        "id": "Kn_HExjIpHST",
        "colab_type": "code",
        "colab": {
          "base_uri": "https://localhost:8080/",
          "height": 101
        },
        "outputId": "dab5b213-e951-477f-86a3-401aeccaa087"
      },
      "cell_type": "code",
      "source": [
        "# Arithmetic operations between 2 NumPy arrays\n",
        "\n",
        "import numpy as np\n",
        "\n",
        "a = np.array([1, 2, 3, 4])\n",
        "b = np.array([1, 2, 1, 2])\n",
        "    \n",
        "print(a + b)\n",
        "print(a - b)\n",
        "print(a * b)\n",
        "print(a / b)\n",
        "print(a ** b)\n"
      ],
      "execution_count": 9,
      "outputs": [
        {
          "output_type": "stream",
          "text": [
            "[2 4 4 6]\n",
            "[0 0 2 2]\n",
            "[1 4 3 8]\n",
            "[1. 1. 3. 2.]\n",
            "[ 1  4  3 16]\n"
          ],
          "name": "stdout"
        }
      ]
    },
    {
      "metadata": {
        "id": "MxOkwLac3E-9",
        "colab_type": "code",
        "colab": {
          "base_uri": "https://localhost:8080/",
          "height": 101
        },
        "outputId": "66d84db0-6b78-4bfe-b23a-20b7fba4a7a2"
      },
      "cell_type": "code",
      "source": [
        "# Arithmetic operations between a NumPy array and a single number\n",
        "\n",
        "a = np.array([1, 2, 3, 4])\n",
        "b = 2\n",
        "\n",
        "print(a + b)\n",
        "print(a - b)\n",
        "print(a * b)\n",
        "print(a / b)\n",
        "print(a ** b)"
      ],
      "execution_count": 10,
      "outputs": [
        {
          "output_type": "stream",
          "text": [
            "[3 4 5 6]\n",
            "[-1  0  1  2]\n",
            "[2 4 6 8]\n",
            "[0.5 1.  1.5 2. ]\n",
            "[ 1  4  9 16]\n"
          ],
          "name": "stdout"
        }
      ]
    },
    {
      "metadata": {
        "id": "DX1FqDfo3RYo",
        "colab_type": "code",
        "colab": {
          "base_uri": "https://localhost:8080/",
          "height": 134
        },
        "outputId": "9bfa6188-8cdb-4cbe-bc9e-e15f4a7a6686"
      },
      "cell_type": "code",
      "source": [
        "# Logical operations with NumPy arrays\n",
        "\n",
        "a = np.array([True, True, False, False])\n",
        "b = np.array([True, False, True, False])\n",
        "\n",
        "print(a & b)\n",
        "print(a | b)\n",
        "print(~a)\n",
        "print(a & True)\n",
        "print(a & False)\n",
        "print(a | True)\n",
        "print(a | False)"
      ],
      "execution_count": 11,
      "outputs": [
        {
          "output_type": "stream",
          "text": [
            "[ True False False False]\n",
            "[ True  True  True False]\n",
            "[False False  True  True]\n",
            "[ True  True False False]\n",
            "[False False False False]\n",
            "[ True  True  True  True]\n",
            "[ True  True False False]\n"
          ],
          "name": "stdout"
        }
      ]
    },
    {
      "metadata": {
        "id": "OQ31aThi3qn0",
        "colab_type": "code",
        "colab": {
          "base_uri": "https://localhost:8080/",
          "height": 118
        },
        "outputId": "a11bbead-6b2a-4e2d-f93d-3bf75a4ebb23"
      },
      "cell_type": "code",
      "source": [
        "# Comparison operations between 2 NumPy Arrays\n",
        "\n",
        "a = np.array([1, 2, 3, 4, 5])\n",
        "b = np.array([5, 4, 3, 2, 1])\n",
        "\n",
        "print(a > b)\n",
        "print(a >= b)\n",
        "print(a < b)\n",
        "print(a <= b)\n",
        "print(a == b)\n",
        "print(a != b)"
      ],
      "execution_count": 12,
      "outputs": [
        {
          "output_type": "stream",
          "text": [
            "[False False False  True  True]\n",
            "[False False  True  True  True]\n",
            "[ True  True False False False]\n",
            "[ True  True  True False False]\n",
            "[False False  True False False]\n",
            "[ True  True False  True  True]\n"
          ],
          "name": "stdout"
        }
      ]
    },
    {
      "metadata": {
        "id": "2CpK5Ar74For",
        "colab_type": "code",
        "colab": {
          "base_uri": "https://localhost:8080/",
          "height": 118
        },
        "outputId": "e9a2edf0-444b-4554-9f15-88d03c5aa343"
      },
      "cell_type": "code",
      "source": [
        "# Comparison operations between a NumPy array and a single number\n",
        "\n",
        "a = np.array([1, 2, 3, 4])\n",
        "b = 2\n",
        "    \n",
        "print(a > b)\n",
        "print(a >= b)\n",
        "print(a < b)\n",
        "print(a <= b)\n",
        "print(a == b)\n",
        "print(a != b)"
      ],
      "execution_count": 13,
      "outputs": [
        {
          "output_type": "stream",
          "text": [
            "[False False  True  True]\n",
            "[False  True  True  True]\n",
            "[ True False False False]\n",
            "[ True  True False False]\n",
            "[False  True False False]\n",
            "[ True False  True  True]\n"
          ],
          "name": "stdout"
        }
      ]
    },
    {
      "metadata": {
        "id": "85ppovb84mEb",
        "colab_type": "code",
        "colab": {}
      },
      "cell_type": "code",
      "source": [
        "# First 20 countries with school completion data\n",
        "countries = np.array([\n",
        "       'Algeria', 'Argentina', 'Armenia', 'Aruba', 'Austria','Azerbaijan',\n",
        "       'Bahamas', 'Barbados', 'Belarus', 'Belgium', 'Belize', 'Bolivia',\n",
        "       'Botswana', 'Brunei', 'Bulgaria', 'Burkina Faso', 'Burundi',\n",
        "       'Cambodia', 'Cameroon', 'Cape Verde'\n",
        "])\n",
        "\n",
        "# Female school completion rate in 2007 for those 20 countries\n",
        "female_completion = np.array([\n",
        "    97.35583,  104.62379,  103.02998,   95.14321,  103.69019,\n",
        "    98.49185,  100.88828,   95.43974,   92.11484,   91.54804,\n",
        "    95.98029,   98.22902,   96.12179,  119.28105,   97.84627,\n",
        "    29.07386,   38.41644,   90.70509,   51.7478 ,   95.45072\n",
        "])\n",
        "\n",
        "# Male school completion rate in 2007 for those 20 countries\n",
        "male_completion = np.array([\n",
        "     95.47622,  100.66476,   99.7926 ,   91.48936,  103.22096,\n",
        "     97.80458,  103.81398,   88.11736,   93.55611,   87.76347,\n",
        "    102.45714,   98.73953,   92.22388,  115.3892 ,   98.70502,\n",
        "     37.00692,   45.39401,   91.22084,   62.42028,   90.66958\n",
        "])\n",
        "\n",
        "def overall_completion_rate(female_completion, male_completion):\n",
        "    return (female_completion + male_completion)/2"
      ],
      "execution_count": 0,
      "outputs": []
    },
    {
      "metadata": {
        "id": "xR4_nMRL6THW",
        "colab_type": "code",
        "colab": {
          "base_uri": "https://localhost:8080/",
          "height": 84
        },
        "outputId": "a022d206-605b-4354-d2ba-71e94ef1e5b4"
      },
      "cell_type": "code",
      "source": [
        "overall_completion_rate(female_completion, male_completion)"
      ],
      "execution_count": 15,
      "outputs": [
        {
          "output_type": "execute_result",
          "data": {
            "text/plain": [
              "array([ 96.416025, 102.644275, 101.41129 ,  93.316285, 103.455575,\n",
              "        98.148215, 102.35113 ,  91.77855 ,  92.835475,  89.655755,\n",
              "        99.218715,  98.484275,  94.172835, 117.335125,  98.275645,\n",
              "        33.04039 ,  41.905225,  90.962965,  57.08404 ,  93.06015 ])"
            ]
          },
          "metadata": {
            "tags": []
          },
          "execution_count": 15
        }
      ]
    },
    {
      "metadata": {
        "id": "rv6UTF_O6XuA",
        "colab_type": "code",
        "colab": {
          "base_uri": "https://localhost:8080/",
          "height": 54
        },
        "outputId": "4d42df14-d041-4534-8255-e20178ec3940"
      },
      "cell_type": "code",
      "source": [
        "def standardize_data(values):\n",
        "    return (values - values.mean())/values.std()\n",
        "  \n",
        "print(sorted(standardize_data(employment)))"
      ],
      "execution_count": 18,
      "outputs": [
        {
          "output_type": "stream",
          "text": [
            "[-1.9901976846285574, -1.872402590419114, -1.0799647606768548, -0.8765007667751364, -0.7801229992206772, -0.565950546526159, -0.3196523083838568, -0.20185762217293615, -0.1697318367251522, -0.03051941478986332, -0.03051941478986332, 0.18365303790465493, 0.23719615107828448, 0.30144772304471396, 0.8475873135738095, 0.8797135091618392, 1.008216653094698, 1.254515301377246, 1.383018445310105, 1.822071810562803]\n"
          ],
          "name": "stdout"
        }
      ]
    },
    {
      "metadata": {
        "id": "f6EPtnZWAMRY",
        "colab_type": "code",
        "colab": {
          "base_uri": "https://localhost:8080/",
          "height": 50
        },
        "outputId": "0e69a583-ce00-41c6-f252-2e45a7d80938"
      },
      "cell_type": "code",
      "source": [
        "# Using index arrays\n",
        "\n",
        "a = np.array([1, 2, 3, 4])\n",
        "b = np.array([True, True, False, False])\n",
        "    \n",
        "print(a[b])\n",
        "print(a[np.array([True, False, True, False])])"
      ],
      "execution_count": 19,
      "outputs": [
        {
          "output_type": "stream",
          "text": [
            "[1 2]\n",
            "[1 3]\n"
          ],
          "name": "stdout"
        }
      ]
    },
    {
      "metadata": {
        "id": "l3pPRFVODcDB",
        "colab_type": "code",
        "colab": {
          "base_uri": "https://localhost:8080/",
          "height": 50
        },
        "outputId": "d0f117d6-08e0-4477-fea4-f6af25d7836a"
      },
      "cell_type": "code",
      "source": [
        "# Creating the index array using vectorized operations\n",
        "\n",
        "a = np.array([1, 2, 3, 2, 1])\n",
        "b = (a >= 2)\n",
        "\n",
        "print(a[b])\n",
        "print(a[a >= 2])"
      ],
      "execution_count": 20,
      "outputs": [
        {
          "output_type": "stream",
          "text": [
            "[2 3 2]\n",
            "[2 3 2]\n"
          ],
          "name": "stdout"
        }
      ]
    },
    {
      "metadata": {
        "id": "9A0HK59kDm1c",
        "colab_type": "code",
        "colab": {
          "base_uri": "https://localhost:8080/",
          "height": 50
        },
        "outputId": "2140b9db-be8b-46fc-acdf-632ece5640dd"
      },
      "cell_type": "code",
      "source": [
        "# Creating the index array using vectorized operations on another array\n",
        "\n",
        "a = np.array([1, 2, 3, 4, 5])\n",
        "b = np.array([1, 2, 3, 2, 1])\n",
        "    \n",
        "print(b == 2) \n",
        "print(a[b == 2])"
      ],
      "execution_count": 21,
      "outputs": [
        {
          "output_type": "stream",
          "text": [
            "[False  True False  True False]\n",
            "[2 4]\n"
          ],
          "name": "stdout"
        }
      ]
    },
    {
      "metadata": {
        "id": "NiQKTinXEO1E",
        "colab_type": "code",
        "colab": {}
      },
      "cell_type": "code",
      "source": [
        "# Time spent in the classroom in the first week for 20 students\n",
        "time_spent = np.array([\n",
        "       12.89697233,    0.        ,   64.55043217,    0.        ,\n",
        "       24.2315615 ,   39.991625  ,    0.        ,    0.        ,\n",
        "      147.20683783,    0.        ,    0.        ,    0.        ,\n",
        "       45.18261617,  157.60454283,  133.2434615 ,   52.85000767,\n",
        "        0.        ,   54.9204785 ,   26.78142417,    0.\n",
        "])\n",
        "\n",
        "# Days to cancel for 20 students\n",
        "days_to_cancel = np.array([\n",
        "      4,   5,  37,   3,  12,   4,  35,  38,   5,  37,   3,   3,  68,\n",
        "     38,  98,   2, 249,   2, 127,  35\n",
        "])"
      ],
      "execution_count": 0,
      "outputs": []
    },
    {
      "metadata": {
        "id": "86EeohB3D_Yf",
        "colab_type": "code",
        "colab": {
          "base_uri": "https://localhost:8080/",
          "height": 34
        },
        "outputId": "8f8e5cb2-85d2-4696-afdd-bff9aa96354e"
      },
      "cell_type": "code",
      "source": [
        "def mean_time_for_paid_students(time_spent, days_to_cancel):\n",
        "    return time_spent[days_to_cancel >= 7].mean()\n",
        "\n",
        "mean_time_for_paid_students(time_spent, days_to_cancel)"
      ],
      "execution_count": 23,
      "outputs": [
        {
          "output_type": "execute_result",
          "data": {
            "text/plain": [
              "41.05400348545454"
            ]
          },
          "metadata": {
            "tags": []
          },
          "execution_count": 23
        }
      ]
    },
    {
      "metadata": {
        "id": "woWgv-REbV3h",
        "colab_type": "text"
      },
      "cell_type": "markdown",
      "source": [
        "# [2] Pandas Series"
      ]
    },
    {
      "metadata": {
        "id": "Ay94Qpvzbg_P",
        "colab_type": "text"
      },
      "cell_type": "markdown",
      "source": [
        "- pandas basics\n",
        "- https://blog.naver.com/heunghari/221445585994 "
      ]
    },
    {
      "metadata": {
        "id": "PiKWrPYAE6Ji",
        "colab_type": "code",
        "colab": {}
      },
      "cell_type": "code",
      "source": [
        "import pandas as pd\n",
        "\n",
        "countries = ['Albania', 'Algeria', 'Andorra', 'Angola', 'Antigua and Barbuda',\n",
        "             'Argentina', 'Armenia', 'Australia', 'Austria', 'Azerbaijan',\n",
        "             'Bahamas', 'Bahrain', 'Bangladesh', 'Barbados', 'Belarus',\n",
        "             'Belgium', 'Belize', 'Benin', 'Bhutan', 'Bolivia']\n",
        "\n",
        "life_expectancy_values = [74.7,  75. ,  83.4,  57.6,  74.6,  75.4,  72.3,  81.5,  80.2,\n",
        "                          70.3,  72.1,  76.4,  68.1,  75.2,  69.8,  79.4,  70.8,  62.7,\n",
        "                          67.3,  70.6]\n",
        "\n",
        "gdp_values = [ 1681.61390973,   2155.48523109,  21495.80508273,    562.98768478,\n",
        "              13495.1274663 ,   9388.68852258,   1424.19056199,  24765.54890176,\n",
        "              27036.48733192,   1945.63754911,  21721.61840978,  13373.21993972,\n",
        "                483.97086804,   9783.98417323,   2253.46411147,  25034.66692293,\n",
        "               3680.91642923,    366.04496652,   1175.92638695,   1132.21387981]\n",
        "\n",
        "# Life expectancy and gdp data in 2007 for 20 countries\n",
        "life_expectancy = pd.Series(life_expectancy_values)\n",
        "gdp = pd.Series(gdp_values)"
      ],
      "execution_count": 0,
      "outputs": []
    },
    {
      "metadata": {
        "id": "g3g0bhticMjr",
        "colab_type": "code",
        "colab": {
          "base_uri": "https://localhost:8080/",
          "height": 101
        },
        "outputId": "4c079e5d-0113-4070-ecb3-ac1679318564"
      },
      "cell_type": "code",
      "source": [
        "# Accessing elements and slicing\n",
        "print(life_expectancy[0])\n",
        "print(gdp[3:6])"
      ],
      "execution_count": 25,
      "outputs": [
        {
          "output_type": "stream",
          "text": [
            "74.7\n",
            "3      562.987685\n",
            "4    13495.127466\n",
            "5     9388.688523\n",
            "dtype: float64\n"
          ],
          "name": "stdout"
        }
      ]
    },
    {
      "metadata": {
        "id": "SsmwZK0jcb9q",
        "colab_type": "code",
        "colab": {
          "base_uri": "https://localhost:8080/",
          "height": 353
        },
        "outputId": "936bc17f-8076-48ce-e2c1-10153e9f86ce"
      },
      "cell_type": "code",
      "source": [
        "# Looping\n",
        "\n",
        "for country_life_expectancy in life_expectancy:\n",
        "  print('Examining life expectancy {}'.format(country_life_expectancy))"
      ],
      "execution_count": 26,
      "outputs": [
        {
          "output_type": "stream",
          "text": [
            "Examining life expectancy 74.7\n",
            "Examining life expectancy 75.0\n",
            "Examining life expectancy 83.4\n",
            "Examining life expectancy 57.6\n",
            "Examining life expectancy 74.6\n",
            "Examining life expectancy 75.4\n",
            "Examining life expectancy 72.3\n",
            "Examining life expectancy 81.5\n",
            "Examining life expectancy 80.2\n",
            "Examining life expectancy 70.3\n",
            "Examining life expectancy 72.1\n",
            "Examining life expectancy 76.4\n",
            "Examining life expectancy 68.1\n",
            "Examining life expectancy 75.2\n",
            "Examining life expectancy 69.8\n",
            "Examining life expectancy 79.4\n",
            "Examining life expectancy 70.8\n",
            "Examining life expectancy 62.7\n",
            "Examining life expectancy 67.3\n",
            "Examining life expectancy 70.6\n"
          ],
          "name": "stdout"
        }
      ]
    },
    {
      "metadata": {
        "id": "PxJOdX48c2KR",
        "colab_type": "code",
        "colab": {
          "base_uri": "https://localhost:8080/",
          "height": 84
        },
        "outputId": "fa043c12-8ed0-4405-ad9e-0e4f9de4aa10"
      },
      "cell_type": "code",
      "source": [
        "# Pandas functions\n",
        "print(life_expectancy.mean())\n",
        "print(life_expectancy.std())\n",
        "print(gdp.max())\n",
        "print(gdp.sum())"
      ],
      "execution_count": 27,
      "outputs": [
        {
          "output_type": "stream",
          "text": [
            "72.86999999999999\n",
            "6.213999474869968\n",
            "27036.48733192\n",
            "182957.59832967006\n"
          ],
          "name": "stdout"
        }
      ]
    },
    {
      "metadata": {
        "id": "D61T_QwwdEWI",
        "colab_type": "code",
        "colab": {
          "base_uri": "https://localhost:8080/",
          "height": 386
        },
        "outputId": "7b7962bc-de0e-4b64-e11f-f8562adcba04"
      },
      "cell_type": "code",
      "source": [
        "# Vectorized operations and index arrays\n",
        "\n",
        "a = pd.Series([1, 2, 3, 4])\n",
        "b = pd.Series([1, 2, 1, 2])\n",
        " \n",
        "print(a + b, '\\n')\n",
        "print(a * 2, '\\n')\n",
        "print(a >= 3, '\\n')\n",
        "print(a[a >= 3], '\\n')"
      ],
      "execution_count": 30,
      "outputs": [
        {
          "output_type": "stream",
          "text": [
            "0    2\n",
            "1    4\n",
            "2    4\n",
            "3    6\n",
            "dtype: int64 \n",
            "\n",
            "0    2\n",
            "1    4\n",
            "2    6\n",
            "3    8\n",
            "dtype: int64 \n",
            "\n",
            "0    False\n",
            "1    False\n",
            "2     True\n",
            "3     True\n",
            "dtype: bool \n",
            "\n",
            "2    3\n",
            "3    4\n",
            "dtype: int64 \n",
            "\n"
          ],
          "name": "stdout"
        }
      ]
    },
    {
      "metadata": {
        "id": "aXvhub1udUbk",
        "colab_type": "code",
        "colab": {}
      },
      "cell_type": "code",
      "source": [
        "# 양의 상관관계? 음의 상관관계?\n",
        "\n",
        "def variable_correlation(variable1, variable2):\n",
        "  \n",
        "  both_above = (variable1 > variable1.mean()) & (variable2 > variable2.mean())\n",
        "  both_below = (variable1 < variable1.mean()) & (variable2 < variable2.mean())\n",
        "  \n",
        "  is_same_direction = both_above | both_below  \n",
        "  num_same_direction = is_same_direction.sum() \n",
        "  num_different_direction = len(variable1) - num_same_direction\n",
        "    \n",
        "  return (num_same_direction, num_different_direction)"
      ],
      "execution_count": 0,
      "outputs": []
    },
    {
      "metadata": {
        "id": "N3irqWg4fgxd",
        "colab_type": "code",
        "colab": {
          "base_uri": "https://localhost:8080/",
          "height": 34
        },
        "outputId": "cf7836dd-4d62-4701-db11-a43a7a427a67"
      },
      "cell_type": "code",
      "source": [
        "variable_correlation(life_expectancy, gdp)"
      ],
      "execution_count": 33,
      "outputs": [
        {
          "output_type": "execute_result",
          "data": {
            "text/plain": [
              "(17, 3)"
            ]
          },
          "metadata": {
            "tags": []
          },
          "execution_count": 33
        }
      ]
    },
    {
      "metadata": {
        "id": "ll41yW_BnbNH",
        "colab_type": "code",
        "colab": {}
      },
      "cell_type": "code",
      "source": [
        "countries = [\n",
        "    'Afghanistan', 'Albania', 'Algeria', 'Angola',\n",
        "    'Argentina', 'Armenia', 'Australia', 'Austria',\n",
        "    'Azerbaijan', 'Bahamas', 'Bahrain', 'Bangladesh',\n",
        "    'Barbados', 'Belarus', 'Belgium', 'Belize',\n",
        "    'Benin', 'Bhutan', 'Bolivia', 'Bosnia and Herzegovina',\n",
        "]\n",
        "\n",
        "\n",
        "employment_values = [\n",
        "    55.70000076,  51.40000153,  50.5       ,  75.69999695,\n",
        "    58.40000153,  40.09999847,  61.5       ,  57.09999847,\n",
        "    60.90000153,  66.59999847,  60.40000153,  68.09999847,\n",
        "    66.90000153,  53.40000153,  48.59999847,  56.79999924,\n",
        "    71.59999847,  58.40000153,  70.40000153,  41.20000076,\n",
        "]\n",
        "\n",
        "# Employment data in 2007 for 20 countries\n",
        "employment = pd.Series(employment_values, index=countries)"
      ],
      "execution_count": 0,
      "outputs": []
    },
    {
      "metadata": {
        "id": "BbIX7jptxkgz",
        "colab_type": "code",
        "colab": {}
      },
      "cell_type": "code",
      "source": [
        "def max_employment(employment):\n",
        "  max_country = employment.idxmax() \n",
        "  max_value = employment.loc[max_country] # 딕셔너리 key로 value 찾는것처럼 !\n",
        "  return (max_country, max_value)"
      ],
      "execution_count": 0,
      "outputs": []
    },
    {
      "metadata": {
        "id": "Nj8wO_XEyLTF",
        "colab_type": "code",
        "colab": {
          "base_uri": "https://localhost:8080/",
          "height": 34
        },
        "outputId": "0d099efb-3110-4ed4-a673-adde8973381a"
      },
      "cell_type": "code",
      "source": [
        "max_employment(employment)"
      ],
      "execution_count": 40,
      "outputs": [
        {
          "output_type": "execute_result",
          "data": {
            "text/plain": [
              "('Angola', 75.69999695)"
            ]
          },
          "metadata": {
            "tags": []
          },
          "execution_count": 40
        }
      ]
    },
    {
      "metadata": {
        "id": "mDWgBMguyNH0",
        "colab_type": "code",
        "colab": {
          "base_uri": "https://localhost:8080/",
          "height": 101
        },
        "outputId": "eb9a7e88-ef1e-4425-c0af-85be832b47f3"
      },
      "cell_type": "code",
      "source": [
        "# Addition when indexes are the same\n",
        "\n",
        "s1 = pd.Series([1, 2, 3, 4], index=['a', 'b', 'c', 'd'])\n",
        "s2 = pd.Series([10, 20, 30, 40], index=['a', 'b', 'c', 'd'])\n",
        "\n",
        "print(s1 + s2)"
      ],
      "execution_count": 41,
      "outputs": [
        {
          "output_type": "stream",
          "text": [
            "a    11\n",
            "b    22\n",
            "c    33\n",
            "d    44\n",
            "dtype: int64\n"
          ],
          "name": "stdout"
        }
      ]
    },
    {
      "metadata": {
        "id": "9g8NpeHFze2z",
        "colab_type": "code",
        "colab": {
          "base_uri": "https://localhost:8080/",
          "height": 101
        },
        "outputId": "de7ba356-ecbd-4ffc-ed50-10a12b29cf6f"
      },
      "cell_type": "code",
      "source": [
        "# Indexes have same elements in a different order\n",
        "\n",
        "s1 = pd.Series([1, 2, 3, 4], index=['a', 'b', 'c', 'd'])\n",
        "s2 = pd.Series([10, 20, 30, 40], index=['b', 'd', 'a', 'c'])\n",
        "\n",
        "print(s1 + s2)"
      ],
      "execution_count": 42,
      "outputs": [
        {
          "output_type": "stream",
          "text": [
            "a    31\n",
            "b    12\n",
            "c    43\n",
            "d    24\n",
            "dtype: int64\n"
          ],
          "name": "stdout"
        }
      ]
    },
    {
      "metadata": {
        "id": "iktTPP5JzotF",
        "colab_type": "code",
        "colab": {
          "base_uri": "https://localhost:8080/",
          "height": 134
        },
        "outputId": "a5e8203f-9728-46cf-ab3e-511d9db2afbd"
      },
      "cell_type": "code",
      "source": [
        "# Indexes overlap, but do not have exactly the same elements\n",
        "\n",
        "s1 = pd.Series([1, 2, 3, 4], index=['a', 'b', 'c', 'd'])\n",
        "s2 = pd.Series([10, 20, 30, 40], index=['c', 'd', 'e', 'f'])\n",
        "\n",
        "print(s1 + s2)"
      ],
      "execution_count": 43,
      "outputs": [
        {
          "output_type": "stream",
          "text": [
            "a     NaN\n",
            "b     NaN\n",
            "c    13.0\n",
            "d    24.0\n",
            "e     NaN\n",
            "f     NaN\n",
            "dtype: float64\n"
          ],
          "name": "stdout"
        }
      ]
    },
    {
      "metadata": {
        "id": "UeVZJHTNzyjZ",
        "colab_type": "code",
        "colab": {
          "base_uri": "https://localhost:8080/",
          "height": 168
        },
        "outputId": "e78c5d41-1cfd-4a5f-dd9d-d2a81ba4debc"
      },
      "cell_type": "code",
      "source": [
        "# Indexes do not overlap\n",
        "\n",
        "s1 = pd.Series([1, 2, 3, 4], index=['a', 'b', 'c', 'd'])\n",
        "s2 = pd.Series([10, 20, 30, 40], index=['e', 'f', 'g', 'h'])\n",
        "    \n",
        "print(s1 + s2)"
      ],
      "execution_count": 44,
      "outputs": [
        {
          "output_type": "stream",
          "text": [
            "a   NaN\n",
            "b   NaN\n",
            "c   NaN\n",
            "d   NaN\n",
            "e   NaN\n",
            "f   NaN\n",
            "g   NaN\n",
            "h   NaN\n",
            "dtype: float64\n"
          ],
          "name": "stdout"
        }
      ]
    },
    {
      "metadata": {
        "id": "o1CrK86T1pYb",
        "colab_type": "text"
      },
      "cell_type": "markdown",
      "source": [
        "- values are matched up based on index not position\n",
        "- if the indexes don't match, NaN will be filled in."
      ]
    },
    {
      "metadata": {
        "id": "y0VJ9wa1z9Ws",
        "colab_type": "code",
        "colab": {
          "base_uri": "https://localhost:8080/",
          "height": 67
        },
        "outputId": "a2a15806-3cb0-4eb7-c13c-f52d3d6ce0ab"
      },
      "cell_type": "code",
      "source": [
        "s1 = pd.Series([1, 2, 3, 4], index=['a', 'b', 'c', 'd'])\n",
        "s2 = pd.Series([10, 20, 30, 40], index=['c', 'd', 'e', 'f'])\n",
        "\n",
        "sum_result = s1 + s2\n",
        "\n",
        "sum_result.dropna() # all the missing values (The ones with NaN) will be removed!\n",
        "\n",
        "#  If you want to save the results of your operations for later, \n",
        "# remember to assign the results to a variable or, \n",
        "# for some Pandas functions like .dropna(), \n",
        "# use inplace = True to modify the starting object without needing to reassign it."
      ],
      "execution_count": 47,
      "outputs": [
        {
          "output_type": "execute_result",
          "data": {
            "text/plain": [
              "c    13.0\n",
              "d    24.0\n",
              "dtype: float64"
            ]
          },
          "metadata": {
            "tags": []
          },
          "execution_count": 47
        }
      ]
    },
    {
      "metadata": {
        "id": "-TfZfaYt3x45",
        "colab_type": "code",
        "colab": {
          "base_uri": "https://localhost:8080/",
          "height": 134
        },
        "outputId": "19854eb5-a59c-48f8-c1dc-e32cd05f2b17"
      },
      "cell_type": "code",
      "source": [
        "# Alternate solution : Treat missing values as 0 before the addition \n",
        "\n",
        "s1.add(s2, fill_value = 0)"
      ],
      "execution_count": 49,
      "outputs": [
        {
          "output_type": "execute_result",
          "data": {
            "text/plain": [
              "a     1.0\n",
              "b     2.0\n",
              "c    13.0\n",
              "d    24.0\n",
              "e    30.0\n",
              "f    40.0\n",
              "dtype: float64"
            ]
          },
          "metadata": {
            "tags": []
          },
          "execution_count": 49
        }
      ]
    },
    {
      "metadata": {
        "id": "W-eAdfwk4QkJ",
        "colab_type": "code",
        "colab": {
          "base_uri": "https://localhost:8080/",
          "height": 118
        },
        "outputId": "4292223a-c745-4a0b-db29-89799b7f3453"
      },
      "cell_type": "code",
      "source": [
        "s = pd.Series([1, 2, 3, 4, 5])\n",
        "\n",
        "def add_one(x):\n",
        "  return x + 1\n",
        "\n",
        "print(s.apply(add_one)) # apply --> map 메소드랑 비슷함. \n",
        "                        # 요소 하나하나마다 함수를 적용시킨 값을 반환하는거"
      ],
      "execution_count": 50,
      "outputs": [
        {
          "output_type": "stream",
          "text": [
            "0    2\n",
            "1    3\n",
            "2    4\n",
            "3    5\n",
            "4    6\n",
            "dtype: int64\n"
          ],
          "name": "stdout"
        }
      ]
    },
    {
      "metadata": {
        "id": "3jX3AulR79uS",
        "colab_type": "code",
        "colab": {
          "base_uri": "https://localhost:8080/",
          "height": 454
        },
        "outputId": "201d3644-cd15-4aab-b7f9-72d5b34d84c7"
      },
      "cell_type": "code",
      "source": [
        "names = pd.Series([\n",
        "    'Andre Agassi',\n",
        "    'Barry Bonds',\n",
        "    'Christopher Columbus',\n",
        "    'Daniel Defoe',\n",
        "    'Emilio Estevez',\n",
        "    'Fred Flintstone',\n",
        "    'Greta Garbo',\n",
        "    'Humbert Humbert',\n",
        "    'Ivan Ilych',\n",
        "    'James Joyce',\n",
        "    'Keira Knightley',\n",
        "    'Lois Lane',\n",
        "    'Mike Myers',\n",
        "    'Nick Nolte',\n",
        "    'Ozzy Osbourne',\n",
        "    'Pablo Picasso',\n",
        "    'Quirinus Quirrell',\n",
        "    'Rachael Ray',\n",
        "    'Susan Sarandon',\n",
        "    'Tina Turner',\n",
        "    'Ugueth Urbina',\n",
        "    'Vince Vaughn',\n",
        "    'Woodrow Wilson',\n",
        "    'Yoji Yamada',\n",
        "    'Zinedine Zidane'\n",
        "])\n",
        "\n",
        "\n",
        "def reverse(word):  \n",
        "  return word.split()[1]+', '+word.split()[0]\n",
        "\n",
        "def reverse_names(names):\n",
        "  return names.apply(reverse)\n",
        "\n",
        "reverse_names(names)"
      ],
      "execution_count": 53,
      "outputs": [
        {
          "output_type": "execute_result",
          "data": {
            "text/plain": [
              "0             Agassi, Andre\n",
              "1              Bonds, Barry\n",
              "2     Columbus, Christopher\n",
              "3             Defoe, Daniel\n",
              "4           Estevez, Emilio\n",
              "5          Flintstone, Fred\n",
              "6              Garbo, Greta\n",
              "7          Humbert, Humbert\n",
              "8               Ilych, Ivan\n",
              "9              Joyce, James\n",
              "10         Knightley, Keira\n",
              "11               Lane, Lois\n",
              "12              Myers, Mike\n",
              "13              Nolte, Nick\n",
              "14           Osbourne, Ozzy\n",
              "15           Picasso, Pablo\n",
              "16       Quirrell, Quirinus\n",
              "17             Ray, Rachael\n",
              "18          Sarandon, Susan\n",
              "19             Turner, Tina\n",
              "20           Urbina, Ugueth\n",
              "21            Vaughn, Vince\n",
              "22          Wilson, Woodrow\n",
              "23             Yamada, Yoji\n",
              "24         Zidane, Zinedine\n",
              "dtype: object"
            ]
          },
          "metadata": {
            "tags": []
          },
          "execution_count": 53
        }
      ]
    },
    {
      "metadata": {
        "id": "6venWjl88_1_",
        "colab_type": "code",
        "colab": {
          "base_uri": "https://localhost:8080/",
          "height": 34
        },
        "outputId": "601474ad-3edd-4bc8-a91e-ab137bc889d6"
      },
      "cell_type": "code",
      "source": [
        "reverse(names.iloc[0])"
      ],
      "execution_count": 54,
      "outputs": [
        {
          "output_type": "execute_result",
          "data": {
            "text/plain": [
              "'Agassi, Andre'"
            ]
          },
          "metadata": {
            "tags": []
          },
          "execution_count": 54
        }
      ]
    },
    {
      "metadata": {
        "id": "Lq9kV23592w_",
        "colab_type": "text"
      },
      "cell_type": "markdown",
      "source": [
        "# [3] Plotting in Pandas\n",
        "\n",
        "If the variable data is a NumPy array or a Pandas Series, just like if it is a list, the code\n",
        "\n",
        " **import matplotlib.pyplot as plt**\n",
        " \n",
        "**plt.hist(data)** \n",
        "\n",
        "\n",
        "will create a histogram of the data."
      ]
    },
    {
      "metadata": {
        "id": "OWbLvEz6-lTn",
        "colab_type": "text"
      },
      "cell_type": "markdown",
      "source": [
        "Pandas also has built-in plotting that uses matplotlib behind the scenes, so if data is a Series, you can create a histogram using **data.hist()**.\n",
        "\n",
        "\n",
        "\n",
        "There's no difference between these two in this case, but sometimes the Pandas wrapper can be more convenient. For example, you can make a line plot of a series using **data.plot()**. The index of the Series will be used for the x-axis and the values for the y-axis.\n",
        "\n",
        "\n",
        "---\n",
        "\n",
        "\n",
        "\n",
        "- If you're running plotting code locally, you may need to add the line plt.show() depending on your setup."
      ]
    },
    {
      "metadata": {
        "id": "T6do6I5P_qOc",
        "colab_type": "code",
        "colab": {}
      },
      "cell_type": "code",
      "source": [
        ""
      ],
      "execution_count": 0,
      "outputs": []
    }
  ]
}