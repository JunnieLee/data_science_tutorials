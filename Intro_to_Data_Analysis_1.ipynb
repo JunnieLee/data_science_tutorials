{
  "nbformat": 4,
  "nbformat_minor": 0,
  "metadata": {
    "colab": {
      "name": "Intro to Data Analysis_1.ipynb",
      "version": "0.3.2",
      "provenance": [],
      "collapsed_sections": [],
      "include_colab_link": true
    },
    "kernelspec": {
      "name": "python3",
      "display_name": "Python 3"
    }
  },
  "cells": [
    {
      "cell_type": "markdown",
      "metadata": {
        "id": "view-in-github",
        "colab_type": "text"
      },
      "source": [
        "<a href=\"https://colab.research.google.com/github/JunnieLee/data_science_tutorials/blob/master/Intro_to_Data_Analysis_1.ipynb\" target=\"_parent\"><img src=\"https://colab.research.google.com/assets/colab-badge.svg\" alt=\"Open In Colab\"/></a>"
      ]
    },
    {
      "metadata": {
        "id": "pbBaIR50GnRR",
        "colab_type": "text"
      },
      "cell_type": "markdown",
      "source": [
        "# Lesson 1. Data Analysis Process"
      ]
    },
    {
      "metadata": {
        "id": "cw_x9YN9DeC9",
        "colab_type": "text"
      },
      "cell_type": "markdown",
      "source": [
        "**< Data Analysis Process>**\n",
        "- Question -- Wrangle -- Explore -- Draw Conclusions -- Communicate"
      ]
    },
    {
      "metadata": {
        "id": "jD21JiCTEqtB",
        "colab_type": "text"
      },
      "cell_type": "markdown",
      "source": [
        "> Data Acquisition\n",
        "- Downloading files\n",
        "- Accessing an API\n",
        "- Scraping a webpage\n",
        "- Combine data from different formats"
      ]
    },
    {
      "metadata": {
        "id": "6QxQsqUeblWF",
        "colab_type": "text"
      },
      "cell_type": "markdown",
      "source": [
        "\n",
        "\n",
        "---\n",
        "\n",
        "\n",
        "# [1] Load Data From CSVs"
      ]
    },
    {
      "metadata": {
        "id": "a2dM827ue89y",
        "colab_type": "code",
        "cellView": "both",
        "outputId": "392d3d99-a683-4be0-e331-b70ac40ca18c",
        "colab": {
          "resources": {
            "http://localhost:8080/nbextensions/google.colab/files.js": {
              "data": "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",
              "ok": true,
              "headers": [
                [
                  "content-type",
                  "application/javascript"
                ]
              ],
              "status": 200,
              "status_text": ""
            }
          },
          "base_uri": "https://localhost:8080/",
          "height": 73
        }
      },
      "cell_type": "code",
      "source": [
        "from google.colab import files\n",
        "\n",
        "file1 = files.upload()"
      ],
      "execution_count": 9,
      "outputs": [
        {
          "output_type": "display_data",
          "data": {
            "text/html": [
              "\n",
              "     <input type=\"file\" id=\"files-b2e39649-fd52-499a-8a43-59274b8e2193\" name=\"files[]\" multiple disabled />\n",
              "     <output id=\"result-b2e39649-fd52-499a-8a43-59274b8e2193\">\n",
              "      Upload widget is only available when the cell has been executed in the\n",
              "      current browser session. Please rerun this cell to enable.\n",
              "      </output>\n",
              "      <script src=\"/nbextensions/google.colab/files.js\"></script> "
            ],
            "text/plain": [
              "<IPython.core.display.HTML object>"
            ]
          },
          "metadata": {
            "tags": []
          }
        },
        {
          "output_type": "stream",
          "text": [
            "Saving enrollments.csv to enrollments.csv\n"
          ],
          "name": "stdout"
        }
      ]
    },
    {
      "metadata": {
        "id": "6md6UO81L_75",
        "colab_type": "code",
        "cellView": "both",
        "colab": {
          "base_uri": "https://localhost:8080/",
          "height": 34
        },
        "outputId": "ad2b1650-0662-4de6-987b-c29eef643491"
      },
      "cell_type": "code",
      "source": [
        "!pip install unicodecsv"
      ],
      "execution_count": 7,
      "outputs": [
        {
          "output_type": "stream",
          "text": [
            "Requirement already satisfied: unicodecsv in /usr/local/lib/python3.6/dist-packages (0.14.1)\n"
          ],
          "name": "stdout"
        }
      ]
    },
    {
      "metadata": {
        "id": "28PjfkJ-YSs8",
        "colab_type": "code",
        "cellView": "both",
        "colab": {
          "base_uri": "https://localhost:8080/",
          "height": 134
        },
        "outputId": "1881ca0e-4505-4dda-b540-15383b32993b"
      },
      "cell_type": "code",
      "source": [
        "import unicodecsv\n",
        "\n",
        "## Longer version of code (replaced with shorter, equivalent version below)\n",
        "\n",
        "# enrollments = []\n",
        "# f = open('enrollments.csv', 'rb')\n",
        "# reader = unicodecsv.DictReader(f)\n",
        "# for row in reader:\n",
        "#     enrollments.append(row)\n",
        "# f.close()\n",
        "\n",
        "\n",
        "with open('enrollments.csv', 'rb') as f: \n",
        "  reader = unicodecsv.DictReader(f) # this means that each row is going to be a dictionary\n",
        "                                    # refer to each column by its name, rather than its number\n",
        "  enrollments = list(reader)\n",
        "\n",
        "enrollments[0]"
      ],
      "execution_count": 10,
      "outputs": [
        {
          "output_type": "execute_result",
          "data": {
            "text/plain": [
              "OrderedDict([('account_key', '448'),\n",
              "             ('status', 'canceled'),\n",
              "             ('join_date', '2014-11-10'),\n",
              "             ('cancel_date', '2015-01-14'),\n",
              "             ('days_to_cancel', '65'),\n",
              "             ('is_udacity', 'True'),\n",
              "             ('is_canceled', 'True')])"
            ]
          },
          "metadata": {
            "tags": []
          },
          "execution_count": 10
        }
      ]
    },
    {
      "metadata": {
        "id": "kFQbtWDgYiM2",
        "colab_type": "code",
        "cellView": "both",
        "colab": {
          "resources": {
            "http://localhost:8080/nbextensions/google.colab/files.js": {
              "data": "Ly8gQ29weXJpZ2h0IDIwMTcgR29vZ2xlIExMQwovLwovLyBMaWNlbnNlZCB1bmRlciB0aGUgQXBhY2hlIExpY2Vuc2UsIFZlcnNpb24gMi4wICh0aGUgIkxpY2Vuc2UiKTsKLy8geW91IG1heSBub3QgdXNlIHRoaXMgZmlsZSBleGNlcHQgaW4gY29tcGxpYW5jZSB3aXRoIHRoZSBMaWNlbnNlLgovLyBZb3UgbWF5IG9idGFpbiBhIGNvcHkgb2YgdGhlIExpY2Vuc2UgYXQKLy8KLy8gICAgICBodHRwOi8vd3d3LmFwYWNoZS5vcmcvbGljZW5zZXMvTElDRU5TRS0yLjAKLy8KLy8gVW5sZXNzIHJlcXVpcmVkIGJ5IGFwcGxpY2FibGUgbGF3IG9yIGFncmVlZCB0byBpbiB3cml0aW5nLCBzb2Z0d2FyZQovLyBkaXN0cmlidXRlZCB1bmRlciB0aGUgTGljZW5zZSBpcyBkaXN0cmlidXRlZCBvbiBhbiAiQVMgSVMiIEJBU0lTLAovLyBXSVRIT1VUIFdBUlJBTlRJRVMgT1IgQ09ORElUSU9OUyBPRiBBTlkgS0lORCwgZWl0aGVyIGV4cHJlc3Mgb3IgaW1wbGllZC4KLy8gU2VlIHRoZSBMaWNlbnNlIGZvciB0aGUgc3BlY2lmaWMgbGFuZ3VhZ2UgZ292ZXJuaW5nIHBlcm1pc3Npb25zIGFuZAovLyBsaW1pdGF0aW9ucyB1bmRlciB0aGUgTGljZW5zZS4KCi8qKgogKiBAZmlsZW92ZXJ2aWV3IEhlbHBlcnMgZm9yIGdvb2dsZS5jb2xhYiBQeXRob24gbW9kdWxlLgogKi8KKGZ1bmN0aW9uKHNjb3BlKSB7CmZ1bmN0aW9uIHNwYW4odGV4dCwgc3R5bGVBdHRyaWJ1dGVzID0ge30pIHsKICBjb25zdCBlbGVtZW50ID0gZG9jdW1lbnQuY3JlYXRlRWxlbWVudCgnc3BhbicpOwogIGVsZW1lbnQudGV4dENvbnRlbnQgPSB0ZXh0OwogIGZvciAoY29uc3Qga2V5IG9mIE9iamVjdC5rZXlzKHN0eWxlQXR0cmlidXRlcykpIHsKICAgIGVsZW1lbnQuc3R5bGVba2V5XSA9IHN0eWxlQXR0cmlidXRlc1trZXldOwogIH0KICByZXR1cm4gZWxlbWVudDsKfQoKLy8gTWF4IG51bWJlciBvZiBieXRlcyB3aGljaCB3aWxsIGJlIHVwbG9hZGVkIGF0IGEgdGltZS4KY29uc3QgTUFYX1BBWUxPQURfU0laRSA9IDEwMCAqIDEwMjQ7Ci8vIE1heCBhbW91bnQgb2YgdGltZSB0byBibG9jayB3YWl0aW5nIGZvciB0aGUgdXNlci4KY29uc3QgRklMRV9DSEFOR0VfVElNRU9VVF9NUyA9IDMwICogMTAwMDsKCmZ1bmN0aW9uIF91cGxvYWRGaWxlcyhpbnB1dElkLCBvdXRwdXRJZCkgewogIGNvbnN0IHN0ZXBzID0gdXBsb2FkRmlsZXNTdGVwKGlucHV0SWQsIG91dHB1dElkKTsKICBjb25zdCBvdXRwdXRFbGVtZW50ID0gZG9jdW1lbnQuZ2V0RWxlbWVudEJ5SWQob3V0cHV0SWQpOwogIC8vIENhY2hlIHN0ZXBzIG9uIHRoZSBvdXRwdXRFbGVtZW50IHRvIG1ha2UgaXQgYXZhaWxhYmxlIGZvciB0aGUgbmV4dCBjYWxsCiAgLy8gdG8gdXBsb2FkRmlsZXNDb250aW51ZSBmcm9tIFB5dGhvbi4KICBvdXRwdXRFbGVtZW50LnN0ZXBzID0gc3RlcHM7CgogIHJldHVybiBfdXBsb2FkRmlsZXNDb250aW51ZShvdXRwdXRJZCk7Cn0KCi8vIFRoaXMgaXMgcm91Z2hseSBhbiBhc3luYyBnZW5lcmF0b3IgKG5vdCBzdXBwb3J0ZWQgaW4gdGhlIGJyb3dzZXIgeWV0KSwKLy8gd2hlcmUgdGhlcmUgYXJlIG11bHRpcGxlIGFzeW5jaHJvbm91cyBzdGVwcyBhbmQgdGhlIFB5dGhvbiBzaWRlIGlzIGdvaW5nCi8vIHRvIHBvbGwgZm9yIGNvbXBsZXRpb24gb2YgZWFjaCBzdGVwLgovLyBUaGlzIHVzZXMgYSBQcm9taXNlIHRvIGJsb2NrIHRoZSBweXRob24gc2lkZSBvbiBjb21wbGV0aW9uIG9mIGVhY2ggc3RlcCwKLy8gdGhlbiBwYXNzZXMgdGhlIHJlc3VsdCBvZiB0aGUgcHJldmlvdXMgc3RlcCBhcyB0aGUgaW5wdXQgdG8gdGhlIG5leHQgc3RlcC4KZnVuY3Rpb24gX3VwbG9hZEZpbGVzQ29udGludWUob3V0cHV0SWQpIHsKICBjb25zdCBvdXRwdXRFbGVtZW50ID0gZG9jdW1lbnQuZ2V0RWxlbWVudEJ5SWQob3V0cHV0SWQpOwogIGNvbnN0IHN0ZXBzID0gb3V0cHV0RWxlbWVudC5zdGVwczsKCiAgY29uc3QgbmV4dCA9IHN0ZXBzLm5leHQob3V0cHV0RWxlbWVudC5sYXN0UHJvbWlzZVZhbHVlKTsKICByZXR1cm4gUHJvbWlzZS5yZXNvbHZlKG5leHQudmFsdWUucHJvbWlzZSkudGhlbigodmFsdWUpID0+IHsKICAgIC8vIENhY2hlIHRoZSBsYXN0IHByb21pc2UgdmFsdWUgdG8gbWFrZSBpdCBhdmFpbGFibGUgdG8gdGhlIG5leHQKICAgIC8vIHN0ZXAgb2YgdGhlIGdlbmVyYXRvci4KICAgIG91dHB1dEVsZW1lbnQubGFzdFByb21pc2VWYWx1ZSA9IHZhbHVlOwogICAgcmV0dXJuIG5leHQudmFsdWUucmVzcG9uc2U7CiAgfSk7Cn0KCi8qKgogKiBHZW5lcmF0b3IgZnVuY3Rpb24gd2hpY2ggaXMgY2FsbGVkIGJldHdlZW4gZWFjaCBhc3luYyBzdGVwIG9mIHRoZSB1cGxvYWQKICogcHJvY2Vzcy4KICogQHBhcmFtIHtzdHJpbmd9IGlucHV0SWQgRWxlbWVudCBJRCBvZiB0aGUgaW5wdXQgZmlsZSBwaWNrZXIgZWxlbWVudC4KICogQHBhcmFtIHtzdHJpbmd9IG91dHB1dElkIEVsZW1lbnQgSUQgb2YgdGhlIG91dHB1dCBkaXNwbGF5LgogKiBAcmV0dXJuIHshSXRlcmFibGU8IU9iamVjdD59IEl0ZXJhYmxlIG9mIG5leHQgc3RlcHMuCiAqLwpmdW5jdGlvbiogdXBsb2FkRmlsZXNTdGVwKGlucHV0SWQsIG91dHB1dElkKSB7CiAgY29uc3QgaW5wdXRFbGVtZW50ID0gZG9jdW1lbnQuZ2V0RWxlbWVudEJ5SWQoaW5wdXRJZCk7CiAgaW5wdXRFbGVtZW50LmRpc2FibGVkID0gZmFsc2U7CgogIGNvbnN0IG91dHB1dEVsZW1lbnQgPSBkb2N1bWVudC5nZXRFbGVtZW50QnlJZChvdXRwdXRJZCk7CiAgb3V0cHV0RWxlbWVudC5pbm5lckhUTUwgPSAnJzsKCiAgY29uc3QgcGlja2VkUHJvbWlzZSA9IG5ldyBQcm9taXNlKChyZXNvbHZlKSA9PiB7CiAgICBpbnB1dEVsZW1lbnQuYWRkRXZlbnRMaXN0ZW5lcignY2hhbmdlJywgKGUpID0+IHsKICAgICAgcmVzb2x2ZShlLnRhcmdldC5maWxlcyk7CiAgICB9KTsKICB9KTsKCiAgY29uc3QgY2FuY2VsID0gZG9jdW1lbnQuY3JlYXRlRWxlbWVudCgnYnV0dG9uJyk7CiAgaW5wdXRFbGVtZW50LnBhcmVudEVsZW1lbnQuYXBwZW5kQ2hpbGQoY2FuY2VsKTsKICBjYW5jZWwudGV4dENvbnRlbnQgPSAnQ2FuY2VsIHVwbG9hZCc7CiAgY29uc3QgY2FuY2VsUHJvbWlzZSA9IG5ldyBQcm9taXNlKChyZXNvbHZlKSA9PiB7CiAgICBjYW5jZWwub25jbGljayA9ICgpID0+IHsKICAgICAgcmVzb2x2ZShudWxsKTsKICAgIH07CiAgfSk7CgogIC8vIENhbmNlbCB1cGxvYWQgaWYgdXNlciBoYXNuJ3QgcGlja2VkIGFueXRoaW5nIGluIHRpbWVvdXQuCiAgY29uc3QgdGltZW91dFByb21pc2UgPSBuZXcgUHJvbWlzZSgocmVzb2x2ZSkgPT4gewogICAgc2V0VGltZW91dCgoKSA9PiB7CiAgICAgIHJlc29sdmUobnVsbCk7CiAgICB9LCBGSUxFX0NIQU5HRV9USU1FT1VUX01TKTsKICB9KTsKCiAgLy8gV2FpdCBmb3IgdGhlIHVzZXIgdG8gcGljayB0aGUgZmlsZXMuCiAgY29uc3QgZmlsZXMgPSB5aWVsZCB7CiAgICBwcm9taXNlOiBQcm9taXNlLnJhY2UoW3BpY2tlZFByb21pc2UsIHRpbWVvdXRQcm9taXNlLCBjYW5jZWxQcm9taXNlXSksCiAgICByZXNwb25zZTogewogICAgICBhY3Rpb246ICdzdGFydGluZycsCiAgICB9CiAgfTsKCiAgaWYgKCFmaWxlcykgewogICAgcmV0dXJuIHsKICAgICAgcmVzcG9uc2U6IHsKICAgICAgICBhY3Rpb246ICdjb21wbGV0ZScsCiAgICAgIH0KICAgIH07CiAgfQoKICBjYW5jZWwucmVtb3ZlKCk7CgogIC8vIERpc2FibGUgdGhlIGlucHV0IGVsZW1lbnQgc2luY2UgZnVydGhlciBwaWNrcyBhcmUgbm90IGFsbG93ZWQuCiAgaW5wdXRFbGVtZW50LmRpc2FibGVkID0gdHJ1ZTsKCiAgZm9yIChjb25zdCBmaWxlIG9mIGZpbGVzKSB7CiAgICBjb25zdCBsaSA9IGRvY3VtZW50LmNyZWF0ZUVsZW1lbnQoJ2xpJyk7CiAgICBsaS5hcHBlbmQoc3BhbihmaWxlLm5hbWUsIHtmb250V2VpZ2h0OiAnYm9sZCd9KSk7CiAgICBsaS5hcHBlbmQoc3BhbigKICAgICAgICBgKCR7ZmlsZS50eXBlIHx8ICduL2EnfSkgLSAke2ZpbGUuc2l6ZX0gYnl0ZXMsIGAgKwogICAgICAgIGBsYXN0IG1vZGlmaWVkOiAkewogICAgICAgICAgICBmaWxlLmxhc3RNb2RpZmllZERhdGUgPyBmaWxlLmxhc3RNb2RpZmllZERhdGUudG9Mb2NhbGVEYXRlU3RyaW5nKCkgOgogICAgICAgICAgICAgICAgICAgICAgICAgICAgICAgICAgICAnbi9hJ30gLSBgKSk7CiAgICBjb25zdCBwZXJjZW50ID0gc3BhbignMCUgZG9uZScpOwogICAgbGkuYXBwZW5kQ2hpbGQocGVyY2VudCk7CgogICAgb3V0cHV0RWxlbWVudC5hcHBlbmRDaGlsZChsaSk7CgogICAgY29uc3QgZmlsZURhdGFQcm9taXNlID0gbmV3IFByb21pc2UoKHJlc29sdmUpID0+IHsKICAgICAgY29uc3QgcmVhZGVyID0gbmV3IEZpbGVSZWFkZXIoKTsKICAgICAgcmVhZGVyLm9ubG9hZCA9IChlKSA9PiB7CiAgICAgICAgcmVzb2x2ZShlLnRhcmdldC5yZXN1bHQpOwogICAgICB9OwogICAgICByZWFkZXIucmVhZEFzQXJyYXlCdWZmZXIoZmlsZSk7CiAgICB9KTsKICAgIC8vIFdhaXQgZm9yIHRoZSBkYXRhIHRvIGJlIHJlYWR5LgogICAgbGV0IGZpbGVEYXRhID0geWllbGQgewogICAgICBwcm9taXNlOiBmaWxlRGF0YVByb21pc2UsCiAgICAgIHJlc3BvbnNlOiB7CiAgICAgICAgYWN0aW9uOiAnY29udGludWUnLAogICAgICB9CiAgICB9OwoKICAgIC8vIFVzZSBhIGNodW5rZWQgc2VuZGluZyB0byBhdm9pZCBtZXNzYWdlIHNpemUgbGltaXRzLiBTZWUgYi82MjExNTY2MC4KICAgIGxldCBwb3NpdGlvbiA9IDA7CiAgICB3aGlsZSAocG9zaXRpb24gPCBmaWxlRGF0YS5ieXRlTGVuZ3RoKSB7CiAgICAgIGNvbnN0IGxlbmd0aCA9IE1hdGgubWluKGZpbGVEYXRhLmJ5dGVMZW5ndGggLSBwb3NpdGlvbiwgTUFYX1BBWUxPQURfU0laRSk7CiAgICAgIGNvbnN0IGNodW5rID0gbmV3IFVpbnQ4QXJyYXkoZmlsZURhdGEsIHBvc2l0aW9uLCBsZW5ndGgpOwogICAgICBwb3NpdGlvbiArPSBsZW5ndGg7CgogICAgICBjb25zdCBiYXNlNjQgPSBidG9hKFN0cmluZy5mcm9tQ2hhckNvZGUuYXBwbHkobnVsbCwgY2h1bmspKTsKICAgICAgeWllbGQgewogICAgICAgIHJlc3BvbnNlOiB7CiAgICAgICAgICBhY3Rpb246ICdhcHBlbmQnLAogICAgICAgICAgZmlsZTogZmlsZS5uYW1lLAogICAgICAgICAgZGF0YTogYmFzZTY0LAogICAgICAgIH0sCiAgICAgIH07CiAgICAgIHBlcmNlbnQudGV4dENvbnRlbnQgPQogICAgICAgICAgYCR7TWF0aC5yb3VuZCgocG9zaXRpb24gLyBmaWxlRGF0YS5ieXRlTGVuZ3RoKSAqIDEwMCl9JSBkb25lYDsKICAgIH0KICB9CgogIC8vIEFsbCBkb25lLgogIHlpZWxkIHsKICAgIHJlc3BvbnNlOiB7CiAgICAgIGFjdGlvbjogJ2NvbXBsZXRlJywKICAgIH0KICB9Owp9CgpzY29wZS5nb29nbGUgPSBzY29wZS5nb29nbGUgfHwge307CnNjb3BlLmdvb2dsZS5jb2xhYiA9IHNjb3BlLmdvb2dsZS5jb2xhYiB8fCB7fTsKc2NvcGUuZ29vZ2xlLmNvbGFiLl9maWxlcyA9IHsKICBfdXBsb2FkRmlsZXMsCiAgX3VwbG9hZEZpbGVzQ29udGludWUsCn07Cn0pKHNlbGYpOwo=",
              "ok": true,
              "headers": [
                [
                  "content-type",
                  "application/javascript"
                ]
              ],
              "status": 200,
              "status_text": ""
            }
          },
          "base_uri": "https://localhost:8080/",
          "height": 73
        },
        "outputId": "daff9d21-4c67-48fc-a2d3-067d80c10057"
      },
      "cell_type": "code",
      "source": [
        "file2 = files.upload()"
      ],
      "execution_count": 11,
      "outputs": [
        {
          "output_type": "display_data",
          "data": {
            "text/html": [
              "\n",
              "     <input type=\"file\" id=\"files-0debe22a-9536-478e-ba8f-b52587be653a\" name=\"files[]\" multiple disabled />\n",
              "     <output id=\"result-0debe22a-9536-478e-ba8f-b52587be653a\">\n",
              "      Upload widget is only available when the cell has been executed in the\n",
              "      current browser session. Please rerun this cell to enable.\n",
              "      </output>\n",
              "      <script src=\"/nbextensions/google.colab/files.js\"></script> "
            ],
            "text/plain": [
              "<IPython.core.display.HTML object>"
            ]
          },
          "metadata": {
            "tags": []
          }
        },
        {
          "output_type": "stream",
          "text": [
            "Saving daily_engagement.csv to daily_engagement.csv\n"
          ],
          "name": "stdout"
        }
      ]
    },
    {
      "metadata": {
        "id": "tlF82akJZFDV",
        "colab_type": "code",
        "cellView": "both",
        "colab": {
          "resources": {
            "http://localhost:8080/nbextensions/google.colab/files.js": {
              "data": "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",
              "ok": true,
              "headers": [
                [
                  "content-type",
                  "application/javascript"
                ]
              ],
              "status": 200,
              "status_text": ""
            }
          },
          "base_uri": "https://localhost:8080/",
          "height": 73
        },
        "outputId": "b9329df2-b7c7-4066-cc87-db97cd8dc95c"
      },
      "cell_type": "code",
      "source": [
        "file3 = files.upload()"
      ],
      "execution_count": 12,
      "outputs": [
        {
          "output_type": "display_data",
          "data": {
            "text/html": [
              "\n",
              "     <input type=\"file\" id=\"files-a21310b3-a583-413d-b73f-85c66ee46963\" name=\"files[]\" multiple disabled />\n",
              "     <output id=\"result-a21310b3-a583-413d-b73f-85c66ee46963\">\n",
              "      Upload widget is only available when the cell has been executed in the\n",
              "      current browser session. Please rerun this cell to enable.\n",
              "      </output>\n",
              "      <script src=\"/nbextensions/google.colab/files.js\"></script> "
            ],
            "text/plain": [
              "<IPython.core.display.HTML object>"
            ]
          },
          "metadata": {
            "tags": []
          }
        },
        {
          "output_type": "stream",
          "text": [
            "Saving project_submissions.csv to project_submissions.csv\n"
          ],
          "name": "stdout"
        }
      ]
    },
    {
      "metadata": {
        "id": "QtBinPBpZRKe",
        "colab_type": "code",
        "cellView": "both",
        "colab": {}
      },
      "cell_type": "code",
      "source": [
        "with open('daily_engagement.csv', 'rb') as f: \n",
        "  reader = unicodecsv.DictReader(f)\n",
        "  daily_engagement = list(reader)\n",
        "  \n",
        "with open('project_submissions.csv', 'rb') as f: \n",
        "  reader = unicodecsv.DictReader(f)\n",
        "  project_submissions = list(reader)"
      ],
      "execution_count": 0,
      "outputs": []
    },
    {
      "metadata": {
        "id": "o8Gb2IbjZ08h",
        "colab_type": "code",
        "cellView": "both",
        "colab": {
          "base_uri": "https://localhost:8080/",
          "height": 118
        },
        "outputId": "b266a36e-00a8-4fd3-a0a5-27d31a9c14b5"
      },
      "cell_type": "code",
      "source": [
        "daily_engagement[0]"
      ],
      "execution_count": 14,
      "outputs": [
        {
          "output_type": "execute_result",
          "data": {
            "text/plain": [
              "OrderedDict([('acct', '0'),\n",
              "             ('utc_date', '2015-01-09'),\n",
              "             ('num_courses_visited', '1.0'),\n",
              "             ('total_minutes_visited', '11.6793745'),\n",
              "             ('lessons_completed', '0.0'),\n",
              "             ('projects_completed', '0.0')])"
            ]
          },
          "metadata": {
            "tags": []
          },
          "execution_count": 14
        }
      ]
    },
    {
      "metadata": {
        "id": "njF7yg1VZ4hI",
        "colab_type": "code",
        "cellView": "both",
        "colab": {
          "base_uri": "https://localhost:8080/",
          "height": 118
        },
        "outputId": "fc4f1dba-ec2b-48e7-d1a5-2458e08cce3c"
      },
      "cell_type": "code",
      "source": [
        "project_submissions[0]"
      ],
      "execution_count": 15,
      "outputs": [
        {
          "output_type": "execute_result",
          "data": {
            "text/plain": [
              "OrderedDict([('creation_date', '2015-01-14'),\n",
              "             ('completion_date', '2015-01-16'),\n",
              "             ('assigned_rating', 'UNGRADED'),\n",
              "             ('account_key', '256'),\n",
              "             ('lesson_key', '3176718735'),\n",
              "             ('processing_state', 'EVALUATED')])"
            ]
          },
          "metadata": {
            "tags": []
          },
          "execution_count": 15
        }
      ]
    },
    {
      "metadata": {
        "id": "veNdrC4TbtpE",
        "colab_type": "text"
      },
      "cell_type": "markdown",
      "source": [
        "\n",
        "\n",
        "---\n",
        "\n",
        "\n",
        "# **[2] Fixing Data Types**"
      ]
    },
    {
      "metadata": {
        "id": "upv0lV-kZ7h8",
        "colab_type": "code",
        "colab": {}
      },
      "cell_type": "code",
      "source": [
        "from datetime import datetime as dt\n",
        "\n",
        "# Takes a date as a string, and returns a Python datetime object. \n",
        "# If there is no date given, returns None\n",
        "def parse_date(date):\n",
        "    if date == '':\n",
        "        return None\n",
        "    else:\n",
        "        return dt.strptime(date, '%Y-%m-%d')\n",
        "    \n",
        "# Takes a string which is either an empty string or represents an integer,\n",
        "# and returns an int or None.\n",
        "def parse_maybe_int(i):\n",
        "    if i == '':\n",
        "        return None\n",
        "    else:\n",
        "        return int(i)"
      ],
      "execution_count": 0,
      "outputs": []
    },
    {
      "metadata": {
        "id": "Yn3uKi2IbzyW",
        "colab_type": "code",
        "colab": {
          "base_uri": "https://localhost:8080/",
          "height": 134
        },
        "outputId": "3f5fdfc5-14c8-4095-8627-9ca7c61d4bf6"
      },
      "cell_type": "code",
      "source": [
        "# Clean up the data types in the enrollments table\n",
        "for enrollment in enrollments:\n",
        "    enrollment['cancel_date'] = parse_date(enrollment['cancel_date'])\n",
        "    enrollment['days_to_cancel'] = parse_maybe_int(enrollment['days_to_cancel'])\n",
        "    enrollment['is_canceled'] = enrollment['is_canceled'] == 'True' # is_canceled 값이 True면 최종값이 True, 아니면 False\n",
        "    enrollment['is_udacity'] = enrollment['is_udacity'] == 'True' # is_udacity 값이 True면 최종값이 True, 아니면 False\n",
        "    enrollment['join_date'] = parse_date(enrollment['join_date'])\n",
        "    \n",
        "enrollments[0]"
      ],
      "execution_count": 17,
      "outputs": [
        {
          "output_type": "execute_result",
          "data": {
            "text/plain": [
              "OrderedDict([('account_key', '448'),\n",
              "             ('status', 'canceled'),\n",
              "             ('join_date', datetime.datetime(2014, 11, 10, 0, 0)),\n",
              "             ('cancel_date', datetime.datetime(2015, 1, 14, 0, 0)),\n",
              "             ('days_to_cancel', 65),\n",
              "             ('is_udacity', True),\n",
              "             ('is_canceled', True)])"
            ]
          },
          "metadata": {
            "tags": []
          },
          "execution_count": 17
        }
      ]
    },
    {
      "metadata": {
        "id": "XVjnI0LZb5Ea",
        "colab_type": "code",
        "colab": {
          "base_uri": "https://localhost:8080/",
          "height": 118
        },
        "outputId": "86cc273c-4e59-4a69-a5ce-138bd9a59b98"
      },
      "cell_type": "code",
      "source": [
        "# Clean up the data types in the engagement table\n",
        "for engagement_record in daily_engagement:\n",
        "    engagement_record['lessons_completed'] = int(float(engagement_record['lessons_completed']))\n",
        "    engagement_record['num_courses_visited'] = int(float(engagement_record['num_courses_visited']))\n",
        "    engagement_record['projects_completed'] = int(float(engagement_record['projects_completed']))\n",
        "    engagement_record['total_minutes_visited'] = float(engagement_record['total_minutes_visited'])\n",
        "    engagement_record['utc_date'] = parse_date(engagement_record['utc_date'])\n",
        "    \n",
        "daily_engagement[0]"
      ],
      "execution_count": 18,
      "outputs": [
        {
          "output_type": "execute_result",
          "data": {
            "text/plain": [
              "OrderedDict([('acct', '0'),\n",
              "             ('utc_date', datetime.datetime(2015, 1, 9, 0, 0)),\n",
              "             ('num_courses_visited', 1),\n",
              "             ('total_minutes_visited', 11.6793745),\n",
              "             ('lessons_completed', 0),\n",
              "             ('projects_completed', 0)])"
            ]
          },
          "metadata": {
            "tags": []
          },
          "execution_count": 18
        }
      ]
    },
    {
      "metadata": {
        "id": "CPu4cJTLcSwx",
        "colab_type": "code",
        "colab": {
          "base_uri": "https://localhost:8080/",
          "height": 118
        },
        "outputId": "2096bcbe-ab52-4acc-bb85-c4b22dad2c7b"
      },
      "cell_type": "code",
      "source": [
        "# Clean up the data types in the submissions table\n",
        "for submission in project_submissions:\n",
        "    submission['completion_date'] = parse_date(submission['completion_date'])\n",
        "    submission['creation_date'] = parse_date(submission['creation_date'])\n",
        "\n",
        "project_submissions[0]"
      ],
      "execution_count": 19,
      "outputs": [
        {
          "output_type": "execute_result",
          "data": {
            "text/plain": [
              "OrderedDict([('creation_date', datetime.datetime(2015, 1, 14, 0, 0)),\n",
              "             ('completion_date', datetime.datetime(2015, 1, 16, 0, 0)),\n",
              "             ('assigned_rating', 'UNGRADED'),\n",
              "             ('account_key', '256'),\n",
              "             ('lesson_key', '3176718735'),\n",
              "             ('processing_state', 'EVALUATED')])"
            ]
          },
          "metadata": {
            "tags": []
          },
          "execution_count": 19
        }
      ]
    },
    {
      "metadata": {
        "id": "6YfwoEPkHsO8",
        "colab_type": "text"
      },
      "cell_type": "markdown",
      "source": [
        "# [3] Investigating the Data"
      ]
    },
    {
      "metadata": {
        "id": "Vm2G7LivJA6x",
        "colab_type": "code",
        "colab": {}
      },
      "cell_type": "code",
      "source": [
        "# column name 통일시키기\n",
        "\n",
        "for engagement_record in daily_engagement:\n",
        "  engagement_record['account_key'] = engagement_record['acct']\n",
        "  del [engagement_record['acct']]"
      ],
      "execution_count": 0,
      "outputs": []
    },
    {
      "metadata": {
        "id": "DclnWevZefxt",
        "colab_type": "code",
        "colab": {}
      },
      "cell_type": "code",
      "source": [
        "def get_unique_students(data):\n",
        "    unique_students = set()\n",
        "    for data_point in data:\n",
        "        unique_students.add(data_point['account_key'])\n",
        "    return unique_students\n",
        "  \n",
        "unique_enrolled_students = get_unique_students(enrollments)\n",
        "unique_engagement_students = get_unique_students(daily_engagement)\n",
        "unique_project_submitters = get_unique_students(project_submissions)"
      ],
      "execution_count": 0,
      "outputs": []
    },
    {
      "metadata": {
        "id": "E6j4y6kLcZ2f",
        "colab_type": "code",
        "colab": {
          "base_uri": "https://localhost:8080/",
          "height": 118
        },
        "outputId": "dae6e897-029e-4c5f-ca2e-f646e31bd0f8"
      },
      "cell_type": "code",
      "source": [
        "### For each of these three tables, find the number of rows in the table and\n",
        "### the number of unique students in the table. To find the number of unique\n",
        "### students, you might want to create a set of the account keys in each table.\n",
        "\n",
        "enrollment_num_rows = len(enrollments)\n",
        "engagement_num_rows = len(daily_engagement)\n",
        "submission_num_rows = len(project_submissions)\n",
        "\n",
        "print(\"enrollment_num_rows :\"+str(enrollment_num_rows))\n",
        "print(\"enrollment_num_unique_students :\"+str(len(unique_enrolled_students)))\n",
        "\n",
        "print(\"engagement_num_rows :\"+str(engagement_num_rows))\n",
        "print(\"engagement_num_unique_students :\"+str(len(unique_engagement_students)))\n",
        "\n",
        "print(\"submission_num_rows :\"+str(submission_num_rows))\n",
        "print(\"submission_num_unique_students\"+str(len(unique_project_submitters)))"
      ],
      "execution_count": 24,
      "outputs": [
        {
          "output_type": "stream",
          "text": [
            "enrollment_num_rows :1640\n",
            "enrollment_num_unique_students :1302\n",
            "engagement_num_rows :136240\n",
            "engagement_num_unique_students :1237\n",
            "submission_num_rows :3642\n",
            "submission_num_unique_students743\n"
          ],
          "name": "stdout"
        }
      ]
    },
    {
      "metadata": {
        "id": "rBiGD8Docywm",
        "colab_type": "code",
        "colab": {
          "base_uri": "https://localhost:8080/",
          "height": 54
        },
        "outputId": "7ae95453-43e4-4cda-efcc-7c9052eecfe0"
      },
      "cell_type": "code",
      "source": [
        "# why are students missing from daily-engagement?\n",
        "\n",
        "for enrollment in enrollments:\n",
        "  student = enrollment['account_key']\n",
        "  if student not in unique_engagement_students:\n",
        "    print (enrollment)\n",
        "    break # 일단 한명만 print하고 loop exit\n",
        "    \n",
        "# 하루도 못버티고(?) 탈퇴하면 enroll은 했지만 engage는 안한게 되어서 그렇더라!"
      ],
      "execution_count": 25,
      "outputs": [
        {
          "output_type": "stream",
          "text": [
            "OrderedDict([('account_key', '1219'), ('status', 'canceled'), ('join_date', datetime.datetime(2014, 11, 12, 0, 0)), ('cancel_date', datetime.datetime(2014, 11, 12, 0, 0)), ('days_to_cancel', 0), ('is_udacity', False), ('is_canceled', True)])\n"
          ],
          "name": "stdout"
        }
      ]
    },
    {
      "metadata": {
        "id": "mVWnjqyligLJ",
        "colab_type": "code",
        "colab": {
          "base_uri": "https://localhost:8080/",
          "height": 34
        },
        "outputId": "efbb3177-f525-4f38-95f3-9564d3d1a0e3"
      },
      "cell_type": "code",
      "source": [
        "cnt = 0\n",
        "for enrollment in enrollments:\n",
        "  student = enrollment['account_key']\n",
        "  if student not in unique_engagement_students:\n",
        "    cnt+=1\n",
        "\n",
        "print(cnt) # 하루도 못 채우고 탈퇴한 사람들 수"
      ],
      "execution_count": 26,
      "outputs": [
        {
          "output_type": "stream",
          "text": [
            "71\n"
          ],
          "name": "stdout"
        }
      ]
    },
    {
      "metadata": {
        "id": "sSRgVa8oio1D",
        "colab_type": "text"
      },
      "cell_type": "markdown",
      "source": [
        "# [4] Tracking Down the Remaining Problems"
      ]
    },
    {
      "metadata": {
        "id": "hpX9ELJIc6jH",
        "colab_type": "code",
        "colab": {
          "base_uri": "https://localhost:8080/",
          "height": 34
        },
        "outputId": "d7a60eb6-9d8d-4e32-ba70-72b42f4d3c12"
      },
      "cell_type": "code",
      "source": [
        "num_problem_students = 0\n",
        "for enrollment in enrollments:\n",
        "  student = enrollment['account_key']\n",
        "  if (student not in unique_engagement_students) and (enrollment['join_date'] != enrollment['cancel_date']):\n",
        "    num_problem_students+=1\n",
        "\n",
        "print(num_problem_students)"
      ],
      "execution_count": 27,
      "outputs": [
        {
          "output_type": "stream",
          "text": [
            "3\n"
          ],
          "name": "stdout"
        }
      ]
    },
    {
      "metadata": {
        "id": "RmcrIzF6ed6o",
        "colab_type": "code",
        "colab": {
          "base_uri": "https://localhost:8080/",
          "height": 34
        },
        "outputId": "159c8177-b946-4ca5-d2dc-76ab58b50e5f"
      },
      "cell_type": "code",
      "source": [
        "# Create a set of the account keys for all Udacity test accounts\n",
        "\n",
        "udacity_test_accounts = set()\n",
        "\n",
        "for enrollment in enrollments:\n",
        "    if enrollment['is_udacity']:\n",
        "        udacity_test_accounts.add(enrollment['account_key'])\n",
        "        \n",
        "len(udacity_test_accounts)"
      ],
      "execution_count": 28,
      "outputs": [
        {
          "output_type": "execute_result",
          "data": {
            "text/plain": [
              "6"
            ]
          },
          "metadata": {
            "tags": []
          },
          "execution_count": 28
        }
      ]
    },
    {
      "metadata": {
        "id": "z9xq89vRi3zm",
        "colab_type": "code",
        "colab": {}
      },
      "cell_type": "code",
      "source": [
        "# Given some data with an account_key field, removes any records corresponding to Udacity test accounts\n",
        "\n",
        "def remove_udacity_accounts(data):\n",
        "    non_udacity_data = []\n",
        "    for data_point in data:\n",
        "        if data_point['account_key'] not in udacity_test_accounts:\n",
        "            non_udacity_data.append(data_point)\n",
        "    return non_udacity_data"
      ],
      "execution_count": 0,
      "outputs": []
    },
    {
      "metadata": {
        "id": "7wXbECqJjKu4",
        "colab_type": "code",
        "colab": {
          "base_uri": "https://localhost:8080/",
          "height": 67
        },
        "outputId": "a0f13c9d-92c4-430f-b234-e14eb3adee21"
      },
      "cell_type": "code",
      "source": [
        "# Remove Udacity test accounts from all three tables\n",
        "non_udacity_enrollments = remove_udacity_accounts(enrollments)\n",
        "non_udacity_engagement = remove_udacity_accounts(daily_engagement)\n",
        "non_udacity_submissions = remove_udacity_accounts(project_submissions)\n",
        "\n",
        "print (len(non_udacity_enrollments))\n",
        "print (len(non_udacity_engagement))\n",
        "print (len(non_udacity_submissions))"
      ],
      "execution_count": 30,
      "outputs": [
        {
          "output_type": "stream",
          "text": [
            "1622\n",
            "135656\n",
            "3634\n"
          ],
          "name": "stdout"
        }
      ]
    },
    {
      "metadata": {
        "id": "v0GMoFkvoyxw",
        "colab_type": "text"
      },
      "cell_type": "markdown",
      "source": [
        "# [5] Refining the Question"
      ]
    },
    {
      "metadata": {
        "id": "880-Bps1jLpR",
        "colab_type": "code",
        "colab": {
          "base_uri": "https://localhost:8080/",
          "height": 34
        },
        "outputId": "a8493bad-de51-4289-a80a-f9e20b422e32"
      },
      "cell_type": "code",
      "source": [
        "## Create a dictionary named paid_students containing all students who either\n",
        "## haven't canceled yet or who remained enrolled for more than 7 days. The keys\n",
        "## should be account keys, and the values should be the date the student enrolled.\n",
        "\n",
        "paid_students = dict()\n",
        "\n",
        "for student in non_udacity_enrollments:\n",
        "  \n",
        "  if not student['is_canceled'] or student['days_to_cancel'] > 7:\n",
        "    account_key = student['account_key']\n",
        "    enrollment_date = student['join_date']\n",
        "    \n",
        "    # 한사람이 여러번 enroll한 경우 가장 최신의 데이터만 저장\n",
        "    if (account_key not in paid_students) or (enrollment_date > paid_students[account_key]):\n",
        "      paid_students[account_key] = enrollment_date\n",
        "      \n",
        "\n",
        "len(paid_students)"
      ],
      "execution_count": 31,
      "outputs": [
        {
          "output_type": "execute_result",
          "data": {
            "text/plain": [
              "995"
            ]
          },
          "metadata": {
            "tags": []
          },
          "execution_count": 31
        }
      ]
    },
    {
      "metadata": {
        "id": "U4wEL6yes_Is",
        "colab_type": "text"
      },
      "cell_type": "markdown",
      "source": [
        "# [6] Getting Data from First Week"
      ]
    },
    {
      "metadata": {
        "id": "ArDbnA-7p4iM",
        "colab_type": "code",
        "colab": {}
      },
      "cell_type": "code",
      "source": [
        "# Takes a student's join date and the date of a specific engagement record,\n",
        "# and returns True if that engagement record happened within one week\n",
        "# of the student joining.\n",
        "def within_one_week(join_date, engagement_date):\n",
        "    time_delta = engagement_date - join_date\n",
        "    return time_delta.days < 7 and time_delta.days >= 0 # engagement date이 join date이후에 존재하는 경우만 다루자!\n",
        "                                                        # 만들었던 사람이 없앴다가 다시 만들었다가 하는경우는 고려 X"
      ],
      "execution_count": 0,
      "outputs": []
    },
    {
      "metadata": {
        "id": "_TujHqxIvriW",
        "colab_type": "code",
        "colab": {}
      },
      "cell_type": "code",
      "source": [
        "def remove_free_trial_cancels(data):\n",
        "  new_data = []\n",
        "  \n",
        "  for data_point in data:\n",
        "    if data_point['account_key'] in paid_students:\n",
        "      new_data.append(data_point)\n",
        "      \n",
        "  return new_data   "
      ],
      "execution_count": 0,
      "outputs": []
    },
    {
      "metadata": {
        "id": "QeiBpMPqwWYD",
        "colab_type": "code",
        "colab": {}
      },
      "cell_type": "code",
      "source": [
        "paid_enrollments = remove_free_trial_cancels(non_udacity_enrollments)\n",
        "paid_engagement = remove_free_trial_cancels(non_udacity_engagement)\n",
        "paid_submissions = remove_free_trial_cancels(non_udacity_submissions)"
      ],
      "execution_count": 0,
      "outputs": []
    },
    {
      "metadata": {
        "id": "Lwlf1jwSwwT8",
        "colab_type": "code",
        "colab": {
          "base_uri": "https://localhost:8080/",
          "height": 67
        },
        "outputId": "5f88ea17-1c3c-41fb-c56e-f62f96dc4c88"
      },
      "cell_type": "code",
      "source": [
        "print(len(paid_enrollments))\n",
        "print(len(paid_engagement))\n",
        "print(len(paid_submissions))"
      ],
      "execution_count": 35,
      "outputs": [
        {
          "output_type": "stream",
          "text": [
            "1293\n",
            "134549\n",
            "3618\n"
          ],
          "name": "stdout"
        }
      ]
    },
    {
      "metadata": {
        "id": "W3hGxS26tI6k",
        "colab_type": "code",
        "colab": {
          "base_uri": "https://localhost:8080/",
          "height": 34
        },
        "outputId": "eadc7984-ddfd-4a3a-8b3b-33ca6f299938"
      },
      "cell_type": "code",
      "source": [
        "## Create a list of rows from the engagement table including only rows where\n",
        "## the student is one of the paid students you just found, and the date is within\n",
        "## one week of the student's join date.\n",
        "\n",
        "paid_engagement_in_first_week = []\n",
        "\n",
        "for engagement_record in paid_engagement:\n",
        "  account_key = engagement_record['account_key']\n",
        "  join_date = paid_students[account_key]\n",
        "  engagement_date = engagement_record['utc_date']\n",
        "  \n",
        "  if within_one_week(join_date, engagement_date):\n",
        "    paid_engagement_in_first_week.append(engagement_record)\n",
        "    \n",
        "len(paid_engagement_in_first_week)"
      ],
      "execution_count": 36,
      "outputs": [
        {
          "output_type": "execute_result",
          "data": {
            "text/plain": [
              "6919"
            ]
          },
          "metadata": {
            "tags": []
          },
          "execution_count": 36
        }
      ]
    },
    {
      "metadata": {
        "id": "wJUumjeR3wwr",
        "colab_type": "text"
      },
      "cell_type": "markdown",
      "source": [
        "# [7] Exploring Student Engagement"
      ]
    },
    {
      "metadata": {
        "id": "iVPep7gLuxLt",
        "colab_type": "code",
        "colab": {}
      },
      "cell_type": "code",
      "source": [
        "# 첫번째 week에 평균적으로 학생들이 class를 듣는데 몇분정도 투자하는지 한번 알아보자!\n",
        "\n",
        "from collections import defaultdict\n",
        "\n",
        "# Create a dictionary of engagement grouped by student.\n",
        "# The keys are account keys, and the values are lists of engagement records.\n",
        "\n",
        "engagement_by_account = defaultdict(list) # 해당 키가 없으면 빈 list가 반환되도록 디폴트값을 설정해줌\n",
        "for engagement_record in paid_engagement_in_first_week:\n",
        "    account_key = engagement_record['account_key']\n",
        "    engagement_by_account[account_key].append(engagement_record)\n",
        "# -> group the engagement data with the account key."
      ],
      "execution_count": 0,
      "outputs": []
    },
    {
      "metadata": {
        "id": "Tv11NgcM4Lqg",
        "colab_type": "code",
        "colab": {}
      },
      "cell_type": "code",
      "source": [
        "# Create a dictionary with the total minutes each student spent in the classroom during the first week.\n",
        "# The keys are account keys, and the values are numbers (total minutes)\n",
        "\n",
        "total_minutes_by_account = {}\n",
        "\n",
        "# 한명씩 engagement들에서 총 분을 소요했는지 모아서 확인해보자!\n",
        "for account_key, engagement_for_student in engagement_by_account.items():\n",
        "    total_minutes = 0   \n",
        "    for engagement_record in engagement_for_student:\n",
        "        total_minutes += engagement_record['total_minutes_visited']                                           \n",
        "    total_minutes_by_account[account_key] = total_minutes"
      ],
      "execution_count": 0,
      "outputs": []
    },
    {
      "metadata": {
        "id": "cFNOFx0p4On_",
        "colab_type": "code",
        "colab": {}
      },
      "cell_type": "code",
      "source": [
        "total_minutes = list(total_minutes_by_account.values()) # 이제 account_key는 irrelevant하니까 그냥 .values()로 값에 접근!"
      ],
      "execution_count": 0,
      "outputs": []
    },
    {
      "metadata": {
        "id": "GpdV78gw4rmd",
        "colab_type": "code",
        "colab": {
          "base_uri": "https://localhost:8080/",
          "height": 84
        },
        "outputId": "50157b1e-2801-429c-82b2-b5d05b9a2366"
      },
      "cell_type": "code",
      "source": [
        "import numpy as np\n",
        "\n",
        "# Summarize the data about minutes spent in the classroom\n",
        "\n",
        "print ('Mean:', np.mean(total_minutes))\n",
        "print ('Standard deviation:', np.std(total_minutes))\n",
        "print ('Minimum:', np.min(total_minutes))\n",
        "print ('Maximum:', np.max(total_minutes))"
      ],
      "execution_count": 40,
      "outputs": [
        {
          "output_type": "stream",
          "text": [
            "Mean: 306.70832675342825\n",
            "Standard deviation: 412.99693340852957\n",
            "Minimum: 0.0\n",
            "Maximum: 3564.7332644989997\n"
          ],
          "name": "stdout"
        }
      ]
    },
    {
      "metadata": {
        "id": "n-MvIGAF5Fsd",
        "colab_type": "code",
        "colab": {}
      },
      "cell_type": "code",
      "source": [
        "# ?? Maximim의 값을 보면, 일주일동안 가능한 minute 수를 초과했다!!\n",
        "# 무엇이 문제일까?!\n",
        "# --> within_one_week function에 문제가 있더라~\n",
        "# --> engagement date이 join date보다 앞에 있는 경우도 포함해가지고 이런 오류가 생긴것이더라~\n",
        "# --> 그래서 function 코드 수정해줌!"
      ],
      "execution_count": 0,
      "outputs": []
    },
    {
      "metadata": {
        "id": "9POmX-_R81re",
        "colab_type": "text"
      },
      "cell_type": "markdown",
      "source": [
        "# [8] Debugging Data Analysis Code"
      ]
    },
    {
      "metadata": {
        "id": "D90UEREg80os",
        "colab_type": "code",
        "colab": {
          "base_uri": "https://localhost:8080/",
          "height": 34
        },
        "outputId": "2a9e9c98-35a7-45bf-f266-8b06d1f29f56"
      },
      "cell_type": "code",
      "source": [
        "student_with_max_values = None\n",
        "max_minutes = 0\n",
        "\n",
        "for student, total_minutes in total_minutes_by_account.items():\n",
        "  if total_minutes > max_minutes:\n",
        "    max_minutes = total_minutes\n",
        "    student_with_max_values = student\n",
        "\n",
        "print(max_minutes)"
      ],
      "execution_count": 42,
      "outputs": [
        {
          "output_type": "stream",
          "text": [
            "3564.7332644989997\n"
          ],
          "name": "stdout"
        }
      ]
    },
    {
      "metadata": {
        "id": "G_BQLVhr8vor",
        "colab_type": "code",
        "colab": {
          "base_uri": "https://localhost:8080/",
          "height": 154
        },
        "outputId": "fd4bb4b7-daf0-42e9-8f21-fbeae3008f29"
      },
      "cell_type": "code",
      "source": [
        "for engagement_record in paid_engagement_in_first_week:\n",
        "  if engagement_record['account_key'] == student_with_max_values:\n",
        "    print(engagement_record)"
      ],
      "execution_count": 43,
      "outputs": [
        {
          "output_type": "stream",
          "text": [
            "OrderedDict([('utc_date', datetime.datetime(2015, 7, 9, 0, 0)), ('num_courses_visited', 4), ('total_minutes_visited', 850.519339666), ('lessons_completed', 4), ('projects_completed', 0), ('account_key', '163')])\n",
            "OrderedDict([('utc_date', datetime.datetime(2015, 7, 10, 0, 0)), ('num_courses_visited', 6), ('total_minutes_visited', 872.633923334), ('lessons_completed', 6), ('projects_completed', 0), ('account_key', '163')])\n",
            "OrderedDict([('utc_date', datetime.datetime(2015, 7, 11, 0, 0)), ('num_courses_visited', 2), ('total_minutes_visited', 777.018903666), ('lessons_completed', 6), ('projects_completed', 0), ('account_key', '163')])\n",
            "OrderedDict([('utc_date', datetime.datetime(2015, 7, 12, 0, 0)), ('num_courses_visited', 1), ('total_minutes_visited', 294.568774), ('lessons_completed', 2), ('projects_completed', 0), ('account_key', '163')])\n",
            "OrderedDict([('utc_date', datetime.datetime(2015, 7, 13, 0, 0)), ('num_courses_visited', 3), ('total_minutes_visited', 471.2139785), ('lessons_completed', 1), ('projects_completed', 0), ('account_key', '163')])\n",
            "OrderedDict([('utc_date', datetime.datetime(2015, 7, 14, 0, 0)), ('num_courses_visited', 2), ('total_minutes_visited', 298.778345333), ('lessons_completed', 1), ('projects_completed', 0), ('account_key', '163')])\n",
            "OrderedDict([('utc_date', datetime.datetime(2015, 7, 15, 0, 0)), ('num_courses_visited', 0), ('total_minutes_visited', 0.0), ('lessons_completed', 0), ('projects_completed', 0), ('account_key', '163')])\n"
          ],
          "name": "stdout"
        }
      ]
    },
    {
      "metadata": {
        "id": "6ouFYeDL-UQO",
        "colab_type": "code",
        "colab": {}
      },
      "cell_type": "code",
      "source": [
        "# 드디어 이제야! 일주일간의 기록을 보면 총 7번의 entry가 있음을 확인할 수 있지!"
      ],
      "execution_count": 0,
      "outputs": []
    },
    {
      "metadata": {
        "id": "yMTTQQg-BtoP",
        "colab_type": "text"
      },
      "cell_type": "markdown",
      "source": [
        "# [9] Lessons Completed in First Week"
      ]
    },
    {
      "metadata": {
        "id": "4qPUFaC4BUoE",
        "colab_type": "code",
        "colab": {}
      },
      "cell_type": "code",
      "source": [
        "def group_data(data, key_name):\n",
        "    grouped_data = defaultdict(list)\n",
        "    for data_point in data:\n",
        "        key = data_point[key_name]\n",
        "        grouped_data[key].append(data_point)\n",
        "    return grouped_data\n",
        "\n",
        "engagement_by_account = group_data(paid_engagement_in_first_week,'account_key')"
      ],
      "execution_count": 0,
      "outputs": []
    },
    {
      "metadata": {
        "id": "QnkoxTR_CJG2",
        "colab_type": "code",
        "colab": {}
      },
      "cell_type": "code",
      "source": [
        "def sum_grouped_items(grouped_data, field_name):\n",
        "    summed_data = {}\n",
        "    for key, data_points in grouped_data.items():\n",
        "        total = 0\n",
        "        for data_point in data_points:\n",
        "            total += data_point[field_name]\n",
        "        summed_data[key] = total\n",
        "    return summed_data\n",
        "\n",
        "total_minutes_by_account = sum_grouped_items(engagement_by_account,'total_minutes_visited')"
      ],
      "execution_count": 0,
      "outputs": []
    },
    {
      "metadata": {
        "id": "rO6_pHbZCPE7",
        "colab_type": "code",
        "colab": {
          "base_uri": "https://localhost:8080/",
          "height": 84
        },
        "outputId": "c6cb2e35-d969-46a7-c292-7d56bc7b48e3"
      },
      "cell_type": "code",
      "source": [
        "def describe_data(data):\n",
        "    data = list(data)\n",
        "    print ('Mean:', np.mean(data))\n",
        "    print ('Standard deviation:', np.std(data))\n",
        "    print ('Minimum:', np.min(data))\n",
        "    print ('Maximum:', np.max(data))\n",
        "\n",
        "describe_data(total_minutes_by_account.values())"
      ],
      "execution_count": 47,
      "outputs": [
        {
          "output_type": "stream",
          "text": [
            "Mean: 306.70832675342825\n",
            "Standard deviation: 412.99693340852957\n",
            "Minimum: 0.0\n",
            "Maximum: 3564.7332644989997\n"
          ],
          "name": "stdout"
        }
      ]
    },
    {
      "metadata": {
        "id": "bdxr5q1sFkrO",
        "colab_type": "text"
      },
      "cell_type": "markdown",
      "source": [
        "# [10] Number of Visits in First Week"
      ]
    },
    {
      "metadata": {
        "id": "HG602vQHCPdd",
        "colab_type": "code",
        "colab": {}
      },
      "cell_type": "code",
      "source": [
        "# has_visited field 만들기!\n",
        "\n",
        "for engagement_record in paid_engagement:\n",
        "    if engagement_record['num_courses_visited'] > 0:\n",
        "        engagement_record['has_visited'] = 1\n",
        "    else:\n",
        "        engagement_record['has_visited'] = 0"
      ],
      "execution_count": 0,
      "outputs": []
    },
    {
      "metadata": {
        "id": "kZl-1ifTFp0r",
        "colab_type": "code",
        "colab": {
          "base_uri": "https://localhost:8080/",
          "height": 84
        },
        "outputId": "46e4eabd-843a-4fbd-aab0-2325e89f44f8"
      },
      "cell_type": "code",
      "source": [
        "days_visited_by_account = sum_grouped_items(engagement_by_account,'has_visited')\n",
        "describe_data(days_visited_by_account.values())"
      ],
      "execution_count": 49,
      "outputs": [
        {
          "output_type": "stream",
          "text": [
            "Mean: 2.8673366834170855\n",
            "Standard deviation: 2.2551980029196814\n",
            "Minimum: 0\n",
            "Maximum: 7\n"
          ],
          "name": "stdout"
        }
      ]
    },
    {
      "metadata": {
        "id": "yYp0kR_sFy5M",
        "colab_type": "text"
      },
      "cell_type": "markdown",
      "source": [
        "# [11] Splitting out Passing Students"
      ]
    },
    {
      "metadata": {
        "id": "25bes5xAFx7a",
        "colab_type": "code",
        "colab": {
          "base_uri": "https://localhost:8080/",
          "height": 34
        },
        "outputId": "ec58215e-a2e0-404d-8e99-2c902b9eb17b"
      },
      "cell_type": "code",
      "source": [
        "## Create two lists of engagement data for paid students in the first week.\n",
        "## The first list should contain data for students who eventually pass the\n",
        "## subway project, and the second list should contain data for students\n",
        "## who do not.\n",
        "\n",
        "subway_project_lesson_keys = ['746169184', '3176718735']\n",
        "\n",
        "pass_subway_project = set()\n",
        "\n",
        "for submission in paid_submissions: # subway project submit한 사람들 account_key 모으기\n",
        "    project = submission['lesson_key']\n",
        "    rating = submission['assigned_rating']    \n",
        "\n",
        "    if ((project in subway_project_lesson_keys) and (rating == 'PASSED' or rating == 'DISTINCTION')):\n",
        "      pass_subway_project.add(submission['account_key'])\n",
        "\n",
        "len(pass_subway_project) # subway project submit한 사람들 수"
      ],
      "execution_count": 50,
      "outputs": [
        {
          "output_type": "execute_result",
          "data": {
            "text/plain": [
              "647"
            ]
          },
          "metadata": {
            "tags": []
          },
          "execution_count": 50
        }
      ]
    },
    {
      "metadata": {
        "id": "2WIjMO54J2yS",
        "colab_type": "code",
        "colab": {
          "base_uri": "https://localhost:8080/",
          "height": 50
        },
        "outputId": "75ba3d1b-326e-4c5e-d428-a3333c313f4e"
      },
      "cell_type": "code",
      "source": [
        "passing_engagement = [] # subway project submit 성공한 사람들의 engagement 데이터\n",
        "non_passing_engagement = [] # subway project submit 실패한 사람들의 engagement 데이터\n",
        "\n",
        "for engagement_record in paid_engagement_in_first_week:\n",
        "    if engagement_record['account_key'] in pass_subway_project: # subway project submit한 사람이라면\n",
        "        passing_engagement.append(engagement_record) # 그 사람의 engagement 정보를 passing_engagement에 추가해라\n",
        "    else:\n",
        "        non_passing_engagement.append(engagement_record)\n",
        "\n",
        "print (len(passing_engagement))\n",
        "print (len(non_passing_engagement))"
      ],
      "execution_count": 51,
      "outputs": [
        {
          "output_type": "stream",
          "text": [
            "4527\n",
            "2392\n"
          ],
          "name": "stdout"
        }
      ]
    },
    {
      "metadata": {
        "id": "_Iw3XrN4GALM",
        "colab_type": "text"
      },
      "cell_type": "markdown",
      "source": [
        "# [12] Comparing the Two Student Groups"
      ]
    },
    {
      "metadata": {
        "id": "Jylk4WsuF2-X",
        "colab_type": "code",
        "colab": {}
      },
      "cell_type": "code",
      "source": [
        "## Compute some metrics you're interested in and see how they differ for\n",
        "## students who pass the subway project vs. students who don't. A good\n",
        "## starting point would be the metrics we looked at earlier (minutes spent\n",
        "## in the classroom, lessons completed, and days visited).\n",
        "\n",
        "passing_engagement_by_account = group_data(passing_engagement,'account_key')\n",
        "non_passing_engagement_by_account = group_data(non_passing_engagement,'account_key')"
      ],
      "execution_count": 0,
      "outputs": []
    },
    {
      "metadata": {
        "id": "fbd31g5vGHQt",
        "colab_type": "code",
        "colab": {
          "base_uri": "https://localhost:8080/",
          "height": 202
        },
        "outputId": "822c600e-3cbd-49a5-8548-58149e727fed"
      },
      "cell_type": "code",
      "source": [
        "print('non-passing students\\' total visited minutes:')\n",
        "non_passing_minutes = sum_grouped_items(non_passing_engagement_by_account,'total_minutes_visited')\n",
        "describe_data(non_passing_minutes.values())\n",
        "\n",
        "print('------------------------------------------')\n",
        "\n",
        "print('passing students\\' total visited minutes:')\n",
        "passing_minutes = sum_grouped_items(passing_engagement_by_account,'total_minutes_visited')\n",
        "describe_data(passing_minutes.values())"
      ],
      "execution_count": 57,
      "outputs": [
        {
          "output_type": "stream",
          "text": [
            "non-passing students' total visited minutes:\n",
            "Mean: 143.32647426675584\n",
            "Standard deviation: 269.5386190114951\n",
            "Minimum: 0.0\n",
            "Maximum: 1768.5227493319999\n",
            "------------------------------------------\n",
            "passing students' total visited minutes:\n",
            "Mean: 394.58604648350865\n",
            "Standard deviation: 448.4995193265521\n",
            "Minimum: 0.0\n",
            "Maximum: 3564.7332644989997\n"
          ],
          "name": "stdout"
        }
      ]
    },
    {
      "metadata": {
        "id": "uFEvZJ668P5E",
        "colab_type": "code",
        "colab": {
          "base_uri": "https://localhost:8080/",
          "height": 202
        },
        "outputId": "fe037e00-2571-43c5-bf40-930b29cf6455"
      },
      "cell_type": "code",
      "source": [
        "print('non-passing students\\'s lesson completed:')\n",
        "non_passing_lessons = sum_grouped_items(non_passing_engagement_by_account,'lessons_completed')\n",
        "describe_data(non_passing_lessons.values())\n",
        "\n",
        "print('------------------------------------------')\n",
        "\n",
        "print('passing students\\'s lesson completed:')\n",
        "passing_lessons = sum_grouped_items(passing_engagement_by_account,'lessons_completed')\n",
        "describe_data(passing_lessons.values())"
      ],
      "execution_count": 58,
      "outputs": [
        {
          "output_type": "stream",
          "text": [
            "non-passing students's lesson completed:\n",
            "Mean: 0.8620689655172413\n",
            "Standard deviation: 2.5491599418312028\n",
            "Minimum: 0\n",
            "Maximum: 27\n",
            "------------------------------------------\n",
            "passing students's lesson completed:\n",
            "Mean: 2.052550231839258\n",
            "Standard deviation: 3.1422270555779344\n",
            "Minimum: 0\n",
            "Maximum: 36\n"
          ],
          "name": "stdout"
        }
      ]
    },
    {
      "metadata": {
        "id": "BWz8PQRe8QQR",
        "colab_type": "code",
        "colab": {
          "base_uri": "https://localhost:8080/",
          "height": 202
        },
        "outputId": "1e303f47-ab43-4a8d-b9ff-113ada46c1f4"
      },
      "cell_type": "code",
      "source": [
        "print('non-passing students\\'s number of visits:')\n",
        "non_passing_visits = sum_grouped_items(non_passing_engagement_by_account, 'has_visited')\n",
        "describe_data(non_passing_visits.values())\n",
        "\n",
        "print('------------------------------------------')\n",
        "\n",
        "print('passing students\\'s number of visits:') \n",
        "passing_visits = sum_grouped_items(passing_engagement_by_account,'has_visited')\n",
        "describe_data(passing_visits.values())"
      ],
      "execution_count": 59,
      "outputs": [
        {
          "output_type": "stream",
          "text": [
            "non-passing students's number of visits:\n",
            "Mean: 1.9051724137931034\n",
            "Standard deviation: 1.9057314413619046\n",
            "Minimum: 0\n",
            "Maximum: 7\n",
            "------------------------------------------\n",
            "passing students's number of visits:\n",
            "Mean: 3.384853168469861\n",
            "Standard deviation: 2.2588214709184595\n",
            "Minimum: 0\n",
            "Maximum: 7\n"
          ],
          "name": "stdout"
        }
      ]
    },
    {
      "metadata": {
        "id": "Z29pL44E_Jeh",
        "colab_type": "text"
      },
      "cell_type": "markdown",
      "source": [
        "# [13] Making Histograms"
      ]
    },
    {
      "metadata": {
        "id": "oqRvu0fH-tR-",
        "colab_type": "code",
        "colab": {
          "base_uri": "https://localhost:8080/",
          "height": 34
        },
        "outputId": "5a956df6-e483-4acf-d038-485daa106ee1"
      },
      "cell_type": "code",
      "source": [
        "## Make histograms of the three metrics we looked at earlier for both\n",
        "## students who passed the subway project and students who didn't. You\n",
        "## might also want to make histograms of any other metrics you examined.\n",
        "\n",
        "%pylab inline\n",
        "\n",
        "# The line %matplotlib inline is specifically for IPython notebook, \n",
        "# and causes your plots to appear in your notebook rather than a new window. \n",
        "# If you are not using IPython notebook, you should not include this line, \n",
        "# and instead you should add the line plt.show() at the bottom to show the plot in a new window.\n",
        "\n",
        "\n",
        "import matplotlib.pyplot as plt\n",
        "\n",
        "# Summarize the given data\n",
        "def describe_data(data):\n",
        "  data = list(data)\n",
        "  print('Mean:'+ str(np.mean(data)))\n",
        "  print('Standard deviation:'+str(np.std(data)))\n",
        "  print('Minimum:'+str(np.min(data)))\n",
        "  print('Maximum:'+str(np.max(data)))\n",
        "  plt.hist(data)"
      ],
      "execution_count": 70,
      "outputs": [
        {
          "output_type": "stream",
          "text": [
            "Populating the interactive namespace from numpy and matplotlib\n"
          ],
          "name": "stdout"
        }
      ]
    },
    {
      "metadata": {
        "id": "ByixmPNwBYs_",
        "colab_type": "code",
        "colab": {
          "base_uri": "https://localhost:8080/",
          "height": 349
        },
        "outputId": "96a7a047-984d-4c62-adc6-06ff90292693"
      },
      "cell_type": "code",
      "source": [
        "print(\"<Visiting records for those who passed the subway project\")\n",
        "describe_data(passing_visits.values())"
      ],
      "execution_count": 71,
      "outputs": [
        {
          "output_type": "stream",
          "text": [
            "<Visiting records for those who passed the subway project\n",
            "Mean:3.384853168469861\n",
            "Standard deviation:2.2588214709184595\n",
            "Minimum:0\n",
            "Maximum:7\n"
          ],
          "name": "stdout"
        },
        {
          "output_type": "display_data",
          "data": {
            "image/png": "[encoded data removed]",
            "text/plain": [
              "<Figure size 432x288 with 1 Axes>"
            ]
          },
          "metadata": {
            "tags": []
          }
        }
      ]
    },
    {
      "metadata": {
        "id": "5NKsV9v2BcQu",
        "colab_type": "code",
        "colab": {
          "base_uri": "https://localhost:8080/",
          "height": 349
        },
        "outputId": "47e8583d-7efd-423e-ec1e-fd8f634d2e0d"
      },
      "cell_type": "code",
      "source": [
        "print(\"<Visiting records for those who haven't passed the subway project\")\n",
        "describe_data(non_passing_visits.values())"
      ],
      "execution_count": 72,
      "outputs": [
        {
          "output_type": "stream",
          "text": [
            "<Visiting records for those who haven't passed the subway project\n",
            "Mean:1.9051724137931034\n",
            "Standard deviation:1.9057314413619046\n",
            "Minimum:0\n",
            "Maximum:7\n"
          ],
          "name": "stdout"
        },
        {
          "output_type": "display_data",
          "data": {
            "image/png": "[encoded data removed]",
            "text/plain": [
              "<Figure size 432x288 with 1 Axes>"
            ]
          },
          "metadata": {
            "tags": []
          }
        }
      ]
    },
    {
      "metadata": {
        "id": "z1kaBOKYHKNX",
        "colab_type": "text"
      },
      "cell_type": "markdown",
      "source": [
        "**Adding labels and titles**\n",
        "\n",
        "In matplotlib,  you can add axis labels using **plt.xlabel(\"Label for x axis\")** and** plt.ylabel(\"Label for y axis\")**. \n",
        "\n",
        "For histograms, you usually only need an x-axis label, but for other plot types a y-axis label may also be needed. \n",
        "\n",
        "You can also add a title using** plt.title(\"Title of plot\")**."
      ]
    },
    {
      "metadata": {
        "id": "DKxWbKhQ_P_1",
        "colab_type": "text"
      },
      "cell_type": "markdown",
      "source": [
        "# [14] Improving Plots and Sharing Findings"
      ]
    },
    {
      "metadata": {
        "id": "Jn6WgbtKHnqO",
        "colab_type": "text"
      },
      "cell_type": "markdown",
      "source": [
        "- **Making plots look nicer with seaborn**\n",
        "\n",
        "You can automatically make matplotlib plots look nicer using the seaborn library. \n",
        "\n",
        "This library is not automatically included with Anaconda, but Anaconda includes a package manager 'conda' to make it easier to add new libraries. \n",
        "\n",
        "Once you have installed seaborn, you can import it anywhere in your code using the line import seaborn as sns. \n",
        "\n",
        "Then any plot you make afterwards will automatically look better. \n",
        "\n",
        "The seaborn package also includes some extra functions you can use to make complex plots that would be difficult in matplotlib. "
      ]
    },
    {
      "metadata": {
        "id": "gwXosUVHITlD",
        "colab_type": "text"
      },
      "cell_type": "markdown",
      "source": [
        "- **Adding extra arguments to your plot**\n",
        "\n",
        "You'll also frequently want to add some arguments to your plot to tune how it looks. You can see what arguments are available on the documentation page for the hist function. One common argument to pass is the **bins** argument, which sets the number of bins used by your histogram. For example, **plt.hist(data, bins=20)** would make sure your histogram has 20 bins."
      ]
    },
    {
      "metadata": {
        "id": "jQW0L6uC_TVh",
        "colab_type": "code",
        "colab": {
          "base_uri": "https://localhost:8080/",
          "height": 310
        },
        "outputId": "ebd98e22-2caa-4be8-c154-a61421c5cf98"
      },
      "cell_type": "code",
      "source": [
        "## Make a more polished version of at least one of your visualizations\n",
        "## from earlier. Try importing the seaborn library to make the visualization\n",
        "## look better, adding axis labels and a title, and changing one or more\n",
        "## arguments to the hist() function.\n",
        "\n",
        "import seaborn as sns\n",
        "\n",
        "plt.hist(non_passing_visits.values(), bins=8) \n",
        "# 0~7 이렇게 총 8가지의 option이 가능하니까 bins=8로 설정해줬지\n",
        "\n",
        "plt.xlabel('Number of days') \n",
        "# x축 이름\n",
        "\n",
        "plt.title('Distribution of classroom visits in the first week '+'for students who do not pass the subway project')\n",
        "# 그래프 이름 (맨 위에 들어감)"
      ],
      "execution_count": 76,
      "outputs": [
        {
          "output_type": "execute_result",
          "data": {
            "text/plain": [
              "Text(0.5, 1.0, 'Distribution of classroom visits in the first week for students who do not pass the subway project')"
            ]
          },
          "metadata": {
            "tags": []
          },
          "execution_count": 76
        },
        {
          "output_type": "display_data",
          "data": {
            "image/png": "[encoded data removed]",
            "text/plain": [
              "<Figure size 432x288 with 1 Axes>"
            ]
          },
          "metadata": {
            "tags": []
          }
        }
      ]
    },
    {
      "metadata": {
        "id": "vgOO29_nOtV1",
        "colab_type": "code",
        "colab": {
          "base_uri": "https://localhost:8080/",
          "height": 310
        },
        "outputId": "ea675e28-482c-4bd8-8797-9a5f9471785e"
      },
      "cell_type": "code",
      "source": [
        "plt.hist(passing_visits.values(), bins=8)\n",
        "plt.xlabel('Number of days')\n",
        "plt.title('Distribution of classroom visits in the first week '+'for students who pass the subway project')"
      ],
      "execution_count": 77,
      "outputs": [
        {
          "output_type": "execute_result",
          "data": {
            "text/plain": [
              "Text(0.5, 1.0, 'Distribution of classroom visits in the first week for students who pass the subway project')"
            ]
          },
          "metadata": {
            "tags": []
          },
          "execution_count": 77
        },
        {
          "output_type": "display_data",
          "data": {
            "image/png": "[encoded data removed]",
            "text/plain": [
              "<Figure size 432x288 with 1 Axes>"
            ]
          },
          "metadata": {
            "tags": []
          }
        }
      ]
    },
    {
      "metadata": {
        "id": "_g_2DODOPaRe",
        "colab_type": "code",
        "colab": {}
      },
      "cell_type": "code",
      "source": [
        ""
      ],
      "execution_count": 0,
      "outputs": []
    }
  ]
}